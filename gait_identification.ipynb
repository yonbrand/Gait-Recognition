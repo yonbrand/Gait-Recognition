{
  "nbformat": 4,
  "nbformat_minor": 0,
  "metadata": {
    "colab": {
      "name": "tf_2_pytorch2.ipynb",
      "provenance": [],
      "collapsed_sections": [],
      "include_colab_link": true
    },
    "kernelspec": {
      "name": "python3",
      "display_name": "Python 3"
    },
    "language_info": {
      "name": "python"
    },
    "accelerator": "GPU"
  },
  "cells": [
    {
      "cell_type": "markdown",
      "metadata": {
        "id": "view-in-github",
        "colab_type": "text"
      },
      "source": [
        "<a href=\"https://colab.research.google.com/github/yonbrand/Gait-Recognition/blob/main/gait_identification.ipynb\" target=\"_parent\"><img src=\"https://colab.research.google.com/assets/colab-badge.svg\" alt=\"Open In Colab\"/></a>"
      ]
    },
    {
      "cell_type": "code",
      "metadata": {
        "colab": {
          "base_uri": "https://localhost:8080/"
        },
        "id": "z2sL5oqZPm1e",
        "outputId": "98f56161-62db-4c35-e31b-15a880f1a542"
      },
      "source": [
        "import os \n",
        "import numpy as np\n",
        "import pandas as pd\n",
        "from numpy import genfromtxt\n",
        "\n",
        "import torch\n",
        "import torch.nn as nn\n",
        "import torch.optim as optim\n",
        "import torch.nn.functional as F\n",
        "from torch.utils.data import TensorDataset, DataLoader\n",
        "\n",
        "from sklearn.model_selection import train_test_split\n",
        "\n",
        "cuda = True if torch.cuda.is_available() else False\n",
        "device = torch.device(\"cuda\" if torch.cuda.is_available() else \"cpu\")\n",
        "device"
      ],
      "execution_count": 28,
      "outputs": [
        {
          "output_type": "execute_result",
          "data": {
            "text/plain": [
              "device(type='cuda')"
            ]
          },
          "metadata": {},
          "execution_count": 28
        }
      ]
    },
    {
      "cell_type": "code",
      "metadata": {
        "colab": {
          "base_uri": "https://localhost:8080/"
        },
        "id": "2e_dVn2lUkDp",
        "outputId": "8842f7d2-65c9-418c-9e1c-f912546a0456"
      },
      "source": [
        "from google.colab import drive\n",
        "drive.mount('/content/drive', force_remount=True)"
      ],
      "execution_count": 9,
      "outputs": [
        {
          "output_type": "stream",
          "name": "stdout",
          "text": [
            "Mounted at /content/drive\n"
          ]
        }
      ]
    },
    {
      "cell_type": "code",
      "metadata": {
        "id": "l17cjJmGUI7K"
      },
      "source": [
        "PD_path='/content/drive/MyDrive/DL- Danny & Yonatan/Project DL/Data PD/Data'\n",
        "HC_path='/content/drive/MyDrive/DL- Danny & Yonatan/Project DL/Data Healthy'\n",
        "\n"
      ],
      "execution_count": 10,
      "outputs": []
    },
    {
      "cell_type": "code",
      "metadata": {
        "id": "n6CnRxNvUcuV"
      },
      "source": [
        "data_df = pd.read_csv(data_path)\n",
        "labels_df = pd.read_csv(label_path)"
      ],
      "execution_count": null,
      "outputs": []
    },
    {
      "cell_type": "code",
      "metadata": {
        "colab": {
          "base_uri": "https://localhost:8080/"
        },
        "id": "LrqBT4HYV4-P",
        "outputId": "b4c16208-8ac7-465d-f411-0c053d502122"
      },
      "source": [
        "print(\"data size: \", len(data_df.index))\n",
        "print(\"labels size: \", len(labels_df.index))\n",
        "print(len(labels_df.index)/sum(np.array(labels_df)))"
      ],
      "execution_count": null,
      "outputs": [
        {
          "output_type": "stream",
          "name": "stdout",
          "text": [
            "data size:  11005406\n",
            "labels size:  11005406\n",
            "[13.85868815]\n"
          ]
        }
      ]
    },
    {
      "cell_type": "code",
      "metadata": {
        "id": "0-m2siSGn_EX"
      },
      "source": [
        "def get_data(df):\n",
        "  file_names = os.listdir(PD_path)\n",
        "  data_final=[]\n",
        "  for ind in file_names:\n",
        "    curr_file=str(PD_path+'/'+ind)\n",
        "    df=pd.read_csv(curr_file)\n",
        "    data_np = np.array(df)\n",
        "    data = []\n",
        "    n_counts = 128\n",
        "    for i in range(int(np.floor(len(df.index)/ n_counts))):\n",
        "      d = data_np[i*n_counts:(i+1)*n_counts,:]\n",
        "      data.append(d)\n",
        "      data = np.array(data)\n",
        "    data_final=data_final.append(data)\n",
        "  return data\n"
      ],
      "execution_count": 38,
      "outputs": []
    },
    {
      "cell_type": "code",
      "metadata": {
        "id": "2AHIO5sIpjRu"
      },
      "source": [
        "def get_labels(df):\n",
        "\n",
        "  data_np = np.array(df)\n",
        "\n",
        "  labels = []\n",
        "\n",
        "  n_counts = 128\n",
        "  for i in range(int(np.floor(len(df.index)/ n_counts))):\n",
        "    d = data_np[i*n_counts:(i+1)*n_counts]\n",
        "    label = 0\n",
        "    if np.sum(d)/d.shape[0] > 0.5:\n",
        "      label = 1 \n",
        "    \n",
        "    #label = np.zeros(2)\n",
        "    #label[l] = 1\n",
        "\n",
        "    labels.append(label)\n",
        "\n",
        "  labels = np.array(labels)\n",
        "\n",
        "  return labels"
      ],
      "execution_count": null,
      "outputs": []
    },
    {
      "cell_type": "code",
      "metadata": {
        "colab": {
          "base_uri": "https://localhost:8080/"
        },
        "id": "jh84AOtIox3S",
        "outputId": "818c8498-c2b0-4fb2-9bd8-f20ee72230db"
      },
      "source": [
        "data = get_data(data_df)\n",
        "data.shape"
      ],
      "execution_count": null,
      "outputs": [
        {
          "output_type": "execute_result",
          "data": {
            "text/plain": [
              "(85979, 128, 3)"
            ]
          },
          "metadata": {},
          "execution_count": 11
        }
      ]
    },
    {
      "cell_type": "code",
      "metadata": {
        "colab": {
          "base_uri": "https://localhost:8080/"
        },
        "id": "F2Tx3zyBp-ND",
        "outputId": "20e3be5b-7a34-4fb2-f65b-124a1b3c7450"
      },
      "source": [
        "labels = get_labels(labels_df)\n",
        "labels.shape"
      ],
      "execution_count": null,
      "outputs": [
        {
          "output_type": "execute_result",
          "data": {
            "text/plain": [
              "(85979,)"
            ]
          },
          "metadata": {},
          "execution_count": 12
        }
      ]
    },
    {
      "cell_type": "code",
      "metadata": {
        "id": "YwRb_TaWq2YY"
      },
      "source": [
        "X_train, X_test, y_train, y_test = train_test_split(data, labels, test_size=0.33, random_state=42)"
      ],
      "execution_count": null,
      "outputs": []
    },
    {
      "cell_type": "code",
      "metadata": {
        "id": "bKt21xGhU0le"
      },
      "source": [
        "class LSTM(nn.Module):\n",
        "  def __init__(self, n_inputs, n_steps, lstm_dim, num_layers):\n",
        "      super(LSTM, self).__init__()\n",
        "\n",
        "      self.linear = nn.Linear(n_inputs, lstm_dim)\n",
        "      self.lstm = nn.LSTM(lstm_dim, lstm_dim, num_layers=num_layers, batch_first=True)\n",
        "      \n",
        "      self.n_layers = num_layers\n",
        "      self.lstm_dim = lstm_dim\n",
        "      self.n_steps = n_steps\n",
        "      self.n_inputs = n_inputs\n",
        "      \n",
        "  def forward(self, x, h):\n",
        "\n",
        "      n_batch, n_counts, n_input = list(x.size())\n",
        "      #print(batch, n_counts, n_input)\n",
        "      x = x.transpose(1, 0)\n",
        "      #print(x.size())\n",
        "      x = x.reshape(n_counts * n_batch, n_input)\n",
        "      #print(x.size())\n",
        "      x = self.linear(x)\n",
        "      #print(x.size())\n",
        "      x = x.reshape(n_counts , n_batch, self.lstm_dim)\n",
        "      #print(x.size())\n",
        "\n",
        "      out, (h, c) = self.lstm(x, h)\n",
        "\n",
        "      return out[-1], (h, c)\n",
        "\n",
        "  def init_states(self):\n",
        "    weight = next(self.parameters()).data\n",
        "    hidden = (weight.new(self.n_layers, self.n_steps, self.lstm_dim).zero_().to(device),\n",
        "              weight.new(self.n_layers, self.n_steps, self.lstm_dim).zero_().to(device))\n",
        "    return hidden"
      ],
      "execution_count": null,
      "outputs": []
    },
    {
      "cell_type": "code",
      "metadata": {
        "id": "aWYknuiUcQNm"
      },
      "source": [
        "class CNN(nn.Module):\n",
        "  def __init__(self):\n",
        "      super().__init__()\n",
        "\n",
        "      self.conv1 = nn.Conv2d(in_channels=1, out_channels=32, kernel_size=3, padding=1)\n",
        "      self.conv2 = nn.Conv2d(in_channels=32, out_channels=64, kernel_size=3, padding=1)\n",
        "\n",
        "      self.linear = nn.Linear(in_features=64*32*3, out_features=64)\n",
        "\n",
        "\n",
        "  # define forward function\n",
        "  def forward(self, x):\n",
        "\n",
        "      n_batch, n_counts, n_input = list(x.size())\n",
        "\n",
        "      x = x.reshape(n_batch, 1, n_counts, n_input)\n",
        "\n",
        "      x = self.conv1(x)\n",
        "      x = F.relu(x)\n",
        "      x = F.max_pool2d(x, kernel_size=(2,1), stride=(2,1))\n",
        "        \n",
        "      x = self.conv2(x)\n",
        "      x = F.elu(x)\n",
        "      x = F.max_pool2d(x, kernel_size=(2,1), stride=(2,1))\n",
        "\n",
        "      x = x.reshape(-1, 64*32*3)\n",
        "\n",
        "      x = self.linear(x)\n",
        "      x = F.elu(x)\n",
        "\n",
        "      return x\n"
      ],
      "execution_count": null,
      "outputs": []
    },
    {
      "cell_type": "code",
      "metadata": {
        "id": "er8LkSbrdqcq"
      },
      "source": [
        "class Main(nn.Module):\n",
        "    def __init__(self, CNNmodel, LSTMmodel):\n",
        "        super().__init__()\n",
        "\n",
        "        self.CNNmodel = CNNmodel\n",
        "        self.LSTMmodel = LSTMmodel\n",
        "\n",
        "        self.linear = nn.Linear(in_features=128, out_features=2)\n",
        "\n",
        "\n",
        "    # define forward function\n",
        "    def forward(self, x, states):\n",
        "\n",
        "        x_cnn =  self.CNNmodel(x)\n",
        "\n",
        "        # states = self.LSTMmodel.init_states()\n",
        "        # states = tuple([e.data for e in states])\n",
        "        x_lstm, states =  self.LSTMmodel(x, states)\n",
        "\n",
        "        x = torch.cat([x_cnn, x_lstm], axis=1)\n",
        "\n",
        "        out = self.linear(x)\n",
        "        #out = torch.sigmoid(x)\n",
        "\n",
        "        #out = out.reshape(-1)\n",
        "        return out\n",
        "\n",
        "    def init_states(self):\n",
        "        return self.LSTMmodel.init_states()\n"
      ],
      "execution_count": null,
      "outputs": []
    },
    {
      "cell_type": "code",
      "metadata": {
        "id": "UO4WB2icr2NY"
      },
      "source": [
        "learning_rate = 0.00001\n",
        "batch_size = 64\n",
        "display_step = 1\n"
      ],
      "execution_count": null,
      "outputs": []
    },
    {
      "cell_type": "code",
      "metadata": {
        "id": "F-1BgoeOi7rX"
      },
      "source": [
        "\n",
        "tensor_x_train = torch.Tensor(X_train).float() # transform to torch tensor\n",
        "tensor_y_train = torch.Tensor(y_train).float()\n",
        "\n",
        "train_dataset = TensorDataset(tensor_x_train,tensor_y_train) # create your datset\n",
        "train_dataloader = DataLoader(train_dataset, batch_size = batch_size, shuffle=True) # create your dataloader\n",
        "\n",
        "\n",
        "tensor_x_test = torch.Tensor(X_test).float() # transform to torch tensor\n",
        "tensor_y_test = torch.Tensor(y_test).float()\n",
        "\n",
        "test_dataset = TensorDataset(tensor_x_test,tensor_y_test) # create your datset\n",
        "test_dataloader = DataLoader(test_dataset, batch_size = batch_size) # create your dataloader"
      ],
      "execution_count": null,
      "outputs": []
    },
    {
      "cell_type": "code",
      "metadata": {
        "id": "cLW5GO-eyUwJ"
      },
      "source": [
        "n_inputs = 3 \n",
        "n_steps = 128\n",
        "lstm_dim = 64\n",
        "layers = 2\n",
        "LSTMmodel = LSTM(n_inputs, n_steps, lstm_dim, layers).to(device)"
      ],
      "execution_count": null,
      "outputs": []
    },
    {
      "cell_type": "code",
      "metadata": {
        "id": "srpG7dSMyYHZ"
      },
      "source": [
        "CNNmodel = CNN().to(device)"
      ],
      "execution_count": null,
      "outputs": []
    },
    {
      "cell_type": "code",
      "metadata": {
        "id": "ZBI2s8X1sWMY"
      },
      "source": [
        "model = Main(CNNmodel, LSTMmodel).to(device)\n",
        "optimizer = optim.Adam(model.parameters(), lr=learning_rate)\n",
        "criterion = nn.CrossEntropyLoss()"
      ],
      "execution_count": null,
      "outputs": []
    },
    {
      "cell_type": "code",
      "metadata": {
        "colab": {
          "base_uri": "https://localhost:8080/"
        },
        "id": "zM--8qL3rwkC",
        "outputId": "3bcb3e5f-6308-48a6-9d12-22cc325cfde4"
      },
      "source": [
        "all_train_loss = []\n",
        "all_test_loss = []\n",
        "\n",
        "\n",
        "for epoch in range(3):\n",
        "      \n",
        "  states = model.init_states()\n",
        "  model.train()\n",
        "  train_loss = []\n",
        "  for batch_idx, (data, labels) in enumerate(train_dataloader):\n",
        "    \n",
        "    states = tuple([e.data for e in states])\n",
        "\n",
        "    preds = model(data.to(device), states)\n",
        "\n",
        "    #loss = F.cross_entropy(preds, labels.to(device))\n",
        "    loss = criterion(preds, labels.long().to(device))\n",
        "    optimizer.zero_grad()\n",
        "    loss.backward()\n",
        "    optimizer.step()\n",
        "\n",
        "    bach_loss = loss.item()\n",
        "\n",
        "    train_loss.append(bach_loss)\n",
        "    if batch_idx % 500 == 0:    \n",
        "         print('[%d, %5d] loss: %.3f' %\n",
        "               (epoch, batch_idx, bach_loss))\n",
        "         \n",
        "  epochloss = np.average(train_loss)\n",
        "  all_train_loss.append(epochloss)\n",
        "  #model.eval()\n",
        "\n",
        "  print(\"epoch %d,  train loss : %.3f,\" % (epoch, epochloss))  \n"
      ],
      "execution_count": null,
      "outputs": [
        {
          "output_type": "stream",
          "name": "stdout",
          "text": [
            "[0,     0] loss: 0.673\n",
            "[0,   500] loss: 0.231\n",
            "epoch 0,  train loss : 0.228,\n",
            "[1,     0] loss: 0.101\n",
            "[1,   500] loss: 0.096\n",
            "epoch 1,  train loss : 0.207,\n",
            "[2,     0] loss: 0.179\n",
            "[2,   500] loss: 0.102\n",
            "epoch 2,  train loss : 0.196,\n"
          ]
        }
      ]
    },
    {
      "cell_type": "code",
      "metadata": {
        "id": "z7qxkQ8vtrnR"
      },
      "source": [
        ""
      ],
      "execution_count": null,
      "outputs": []
    }
  ]
}