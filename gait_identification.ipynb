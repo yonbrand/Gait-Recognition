{
  "nbformat": 4,
  "nbformat_minor": 0,
  "metadata": {
    "colab": {
      "name": "gait_identification.ipynb",
      "provenance": [],
      "collapsed_sections": [],
      "include_colab_link": true
    },
    "kernelspec": {
      "name": "python3",
      "display_name": "Python 3"
    },
    "language_info": {
      "name": "python"
    },
    "accelerator": "GPU"
  },
  "cells": [
    {
      "cell_type": "markdown",
      "metadata": {
        "id": "view-in-github",
        "colab_type": "text"
      },
      "source": [
        "<a href=\"https://colab.research.google.com/github/yonbrand/Gait-Recognition/blob/main/gait_identification.ipynb\" target=\"_parent\"><img src=\"https://colab.research.google.com/assets/colab-badge.svg\" alt=\"Open In Colab\"/></a>"
      ]
    },
    {
      "cell_type": "code",
      "metadata": {
        "colab": {
          "base_uri": "https://localhost:8080/"
        },
        "id": "2e_dVn2lUkDp",
        "outputId": "fc4704be-5c1b-4d2f-f7a4-bb3ed4ca1a20"
      },
      "source": [
        "from google.colab import drive\n",
        "drive.mount('/content/drive', force_remount=True)"
      ],
      "execution_count": 4,
      "outputs": [
        {
          "output_type": "stream",
          "name": "stdout",
          "text": [
            "Mounted at /content/drive\n"
          ]
        }
      ]
    },
    {
      "cell_type": "code",
      "metadata": {
        "colab": {
          "base_uri": "https://localhost:8080/"
        },
        "id": "z2sL5oqZPm1e",
        "outputId": "68db204c-e0e7-451a-b445-26fa1ec30ad6"
      },
      "source": [
        "import os \n",
        "import numpy as np\n",
        "import pandas as pd\n",
        "from numpy import genfromtxt\n",
        "\n",
        "import pickle \n",
        "import torch\n",
        "import torch.nn as nn\n",
        "import torch.optim as optim\n",
        "import torch.nn.functional as F\n",
        "from torch.utils.data import TensorDataset, DataLoader\n",
        "\n",
        "from sklearn.model_selection import train_test_split\n",
        "\n",
        "cuda = True if torch.cuda.is_available() else False\n",
        "device = torch.device(\"cuda\" if torch.cuda.is_available() else \"cpu\")\n",
        "device"
      ],
      "execution_count": 1,
      "outputs": [
        {
          "output_type": "execute_result",
          "data": {
            "text/plain": [
              "device(type='cuda')"
            ]
          },
          "metadata": {},
          "execution_count": 1
        }
      ]
    },
    {
      "cell_type": "markdown",
      "metadata": {
        "id": "34NiuNT21gtg"
      },
      "source": [
        "# Load the gait data, extracted in the previous code"
      ]
    },
    {
      "cell_type": "code",
      "metadata": {
        "id": "gLxu6oTALmPV"
      },
      "source": [
        "#load the data\n",
        "pd_pickle = open('/content/drive/MyDrive/DL- Danny & Yonatan/Project DL/classification_data/pd_gait.npy', \"rb\")\n",
        "data_pd= pickle.load(pd_pickle)\n",
        "\n",
        "labels_pd=np.ones((data_pd.shape[0],)) #PD patients classified as 1\n",
        "\n",
        "hc_pickle = open('/content/drive/MyDrive/DL- Danny & Yonatan/Project DL/classification_data/hc_gait.npy', \"rb\")\n",
        "data_hc= pickle.load(hc_pickle)\n",
        "labels_hc=np.zeros((data_hc.shape[0],)) ##HC patients classify as 0\n"
      ],
      "execution_count": null,
      "outputs": []
    },
    {
      "cell_type": "code",
      "metadata": {
        "id": "UrohiyfxS3e_"
      },
      "source": [
        "all_data=np.append(data_pd,data_hc,axis=0)\n",
        "#with open('/content/drive/MyDrive/DL- Danny & Yonatan/Project DL/classification_data/all_data.npy', 'wb') as f:\n",
        "#    pickle.dump(all_data, f, protocol=4)\n",
        "\n",
        "all_labels=np.append(labels_pd,labels_hc,axis=0)    \n",
        "#with open('/content/drive/MyDrive/DL- Danny & Yonatan/Project DL/classification_data/all_labels.npy', 'wb') as f:\n",
        "#    pickle.dump(all_labels, f, protocol=4)\n"
      ],
      "execution_count": null,
      "outputs": []
    },
    {
      "cell_type": "code",
      "metadata": {
        "id": "K_7EweHntFd5"
      },
      "source": [
        "#load the data and labels (pd and hc concatenated)\n",
        "all_data_pickle = open('/content/drive/MyDrive/DL- Danny & Yonatan/Project DL/classification_data/all_data.npy', \"rb\")\n",
        "all_data= pickle.load(all_data_pickle)\n",
        "\n",
        "all_labels_pickle = open('/content/drive/MyDrive/DL- Danny & Yonatan/Project DL/classification_data/all_labels.npy', \"rb\")\n",
        "all_labels= pickle.load(all_labels_pickle)\n"
      ],
      "execution_count": null,
      "outputs": []
    },
    {
      "cell_type": "code",
      "metadata": {
        "colab": {
          "base_uri": "https://localhost:8080/"
        },
        "id": "-m7kHyewW-4y",
        "outputId": "d8464e4b-100c-44f2-8417-1c2c20e8ad04"
      },
      "source": [
        "print(all_data.shape)\n",
        "print(all_labels.shape)"
      ],
      "execution_count": null,
      "outputs": [
        {
          "output_type": "stream",
          "name": "stdout",
          "text": [
            "(31338, 128, 3)\n",
            "(31338,)\n"
          ]
        }
      ]
    },
    {
      "cell_type": "code",
      "metadata": {
        "id": "YwRb_TaWq2YY"
      },
      "source": [
        "X_train, X_test, y_train, y_test = train_test_split(all_data, all_labels, test_size=0.33, random_state=42)"
      ],
      "execution_count": null,
      "outputs": []
    },
    {
      "cell_type": "markdown",
      "metadata": {
        "id": "cahBt9BTC3jm"
      },
      "source": [
        "# Network Architectures"
      ]
    },
    {
      "cell_type": "markdown",
      "metadata": {
        "id": "mrdHkR6qrcuB"
      },
      "source": [
        "LSTM+CNN"
      ]
    },
    {
      "cell_type": "code",
      "metadata": {
        "id": "bKt21xGhU0le"
      },
      "source": [
        "class LSTM(nn.Module):\n",
        "  def __init__(self, n_inputs, n_steps, lstm_dim, num_layers):\n",
        "      super(LSTM, self).__init__()\n",
        "\n",
        "      self.linear = nn.Linear(n_inputs, lstm_dim)\n",
        "      self.lstm = nn.LSTM(lstm_dim, lstm_dim, num_layers=num_layers, batch_first=True)\n",
        "      \n",
        "      self.n_layers = num_layers\n",
        "      self.lstm_dim = lstm_dim\n",
        "      self.n_steps = n_steps\n",
        "      self.n_inputs = n_inputs\n",
        "      \n",
        "  def forward(self, x, h):\n",
        "\n",
        "      n_batch, n_counts, n_input = list(x.size())\n",
        "      #print(batch, n_counts, n_input)\n",
        "      x = x.transpose(1, 0)\n",
        "      #print(x.size())\n",
        "      x = x.reshape(n_counts * n_batch, n_input)\n",
        "      #print(x.size())\n",
        "      x = self.linear(x)\n",
        "      #print(x.size())\n",
        "      x = x.reshape(n_counts , n_batch, self.lstm_dim)\n",
        "      #print(x.size())\n",
        "\n",
        "      out, (h, c) = self.lstm(x, h)\n",
        "\n",
        "      return out[-1], (h, c)\n",
        "\n",
        "  def init_states(self):\n",
        "    weight = next(self.parameters()).data\n",
        "    hidden = (weight.new(self.n_layers, self.n_steps, self.lstm_dim).zero_().to(device),\n",
        "              weight.new(self.n_layers, self.n_steps, self.lstm_dim).zero_().to(device))\n",
        "    return hidden"
      ],
      "execution_count": null,
      "outputs": []
    },
    {
      "cell_type": "code",
      "metadata": {
        "id": "aWYknuiUcQNm"
      },
      "source": [
        "class CNN(nn.Module):\n",
        "  def __init__(self):\n",
        "      super().__init__()\n",
        "\n",
        "      self.conv1 = nn.Conv2d(in_channels=1, out_channels=32, kernel_size=3, padding=1)\n",
        "      self.conv2 = nn.Conv2d(in_channels=32, out_channels=64, kernel_size=3, padding=1)\n",
        "\n",
        "      self.linear = nn.Linear(in_features=64*32*3, out_features=64)\n",
        "\n",
        "\n",
        "  # define forward function\n",
        "  def forward(self, x):\n",
        "\n",
        "      n_batch, n_counts, n_input = list(x.size())\n",
        "\n",
        "      x = x.reshape(n_batch, 1, n_counts, n_input)\n",
        "\n",
        "      x = self.conv1(x)\n",
        "      x = F.relu(x)\n",
        "      x = F.max_pool2d(x, kernel_size=(2,1), stride=(2,1))\n",
        "        \n",
        "      x = self.conv2(x)\n",
        "      x = F.elu(x)\n",
        "      x = F.max_pool2d(x, kernel_size=(2,1), stride=(2,1))\n",
        "\n",
        "      x = x.reshape(-1, 64*32*3)\n",
        "\n",
        "      x = self.linear(x)\n",
        "      x = F.elu(x)\n",
        "\n",
        "      return x\n"
      ],
      "execution_count": null,
      "outputs": []
    },
    {
      "cell_type": "code",
      "metadata": {
        "id": "er8LkSbrdqcq"
      },
      "source": [
        "class Main(nn.Module):\n",
        "    def __init__(self, CNNmodel, LSTMmodel):\n",
        "        super().__init__()\n",
        "\n",
        "        self.CNNmodel = CNNmodel\n",
        "        self.LSTMmodel = LSTMmodel\n",
        "\n",
        "        self.linear = nn.Linear(in_features=128, out_features=2)\n",
        "\n",
        "\n",
        "    # define forward function\n",
        "    def forward(self, x, states):\n",
        "\n",
        "        x_cnn =  self.CNNmodel(x)\n",
        "\n",
        "        # states = self.LSTMmodel.init_states()\n",
        "        # states = tuple([e.data for e in states])\n",
        "        x_lstm, states =  self.LSTMmodel(x, states)\n",
        "\n",
        "        x = torch.cat([x_cnn, x_lstm], axis=1)\n",
        "\n",
        "        out = self.linear(x)\n",
        "        #out = torch.sigmoid(x)\n",
        "\n",
        "        #out = out.reshape(-1)\n",
        "        return out\n",
        "\n",
        "    def init_states(self):\n",
        "        return self.LSTMmodel.init_states()\n"
      ],
      "execution_count": null,
      "outputs": []
    },
    {
      "cell_type": "markdown",
      "metadata": {
        "id": "q5q0CLCqri1l"
      },
      "source": [
        "LSTM+CNN with Dropout regularization"
      ]
    },
    {
      "cell_type": "code",
      "metadata": {
        "id": "oCpV2-JoDE9F"
      },
      "source": [
        "class LSTMDrop(nn.Module):\n",
        "  def __init__(self, n_inputs, n_steps, lstm_dim, num_layers):\n",
        "      super(LSTMDrop, self).__init__()\n",
        "\n",
        "      self.linear = nn.Linear(n_inputs, lstm_dim)\n",
        "      self.lstm = nn.LSTM(lstm_dim, lstm_dim, num_layers=num_layers, batch_first=True, dropout=0.5)\n",
        "      \n",
        "      self.n_layers = num_layers\n",
        "      self.lstm_dim = lstm_dim\n",
        "      self.n_steps = n_steps\n",
        "      self.n_inputs = n_inputs\n",
        "      self.dropout = nn.Dropout(0.5)\n",
        "      \n",
        "  def forward(self, x, h):\n",
        "\n",
        "      n_batch, n_counts, n_input = list(x.size())\n",
        "      #print(batch, n_counts, n_input)\n",
        "      x = x.transpose(1, 0)\n",
        "      #print(x.size())\n",
        "      x = x.reshape(n_counts * n_batch, n_input)\n",
        "      #print(x.size())\n",
        "      x = self.linear(x)\n",
        "      #print(x.size())\n",
        "      x = x.reshape(n_counts , n_batch, self.lstm_dim)\n",
        "      #print(x.size())\n",
        "\n",
        "      out, (h, c) = self.lstm(x, h)\n",
        "\n",
        "      return out[-1], (h, c)\n",
        "\n",
        "  def init_states(self):\n",
        "    weight = next(self.parameters()).data\n",
        "    hidden = (weight.new(self.n_layers, self.n_steps, self.lstm_dim).zero_().to(device),\n",
        "              weight.new(self.n_layers, self.n_steps, self.lstm_dim).zero_().to(device))\n",
        "    return hidden"
      ],
      "execution_count": null,
      "outputs": []
    },
    {
      "cell_type": "code",
      "metadata": {
        "id": "iK9g_Y_oDbQq"
      },
      "source": [
        "class CNNDrop(nn.Module):\n",
        "  def __init__(self):\n",
        "      super().__init__()\n",
        "\n",
        "      self.conv1 = nn.Conv2d(in_channels=1, out_channels=32, kernel_size=3, padding=1)\n",
        "      self.conv2 = nn.Conv2d(in_channels=32, out_channels=64, kernel_size=3, padding=1)\n",
        "\n",
        "      self.drop1 = nn.Dropout(p=0.25)\n",
        "      self.drop2 = nn.Dropout(p=0.3)\n",
        "\n",
        "      self.linear = nn.Linear(in_features=64*32*3, out_features=64)\n",
        "\n",
        "\n",
        "  # define forward function\n",
        "  def forward(self, x):\n",
        "\n",
        "      n_batch, n_counts, n_input = list(x.size())\n",
        "\n",
        "      x = x.reshape(n_batch, 1, n_counts, n_input)\n",
        "\n",
        "      x = self.conv1(x)\n",
        "      x = F.relu(x)\n",
        "      x = F.max_pool2d(x, kernel_size=(2,1), stride=(2,1))\n",
        "      x=self.drop1(x)\n",
        "        \n",
        "      x = self.conv2(x)\n",
        "      x = F.elu(x)\n",
        "      x = F.max_pool2d(x, kernel_size=(2,1), stride=(2,1))\n",
        "      x=self.drop2(x)\n",
        "\n",
        "      x = x.reshape(-1, 64*32*3)\n",
        "\n",
        "      x = self.linear(x)\n",
        "      x = F.elu(x)\n",
        "\n",
        "      return x\n"
      ],
      "execution_count": null,
      "outputs": []
    },
    {
      "cell_type": "code",
      "metadata": {
        "id": "t2J0hXswEZ5M"
      },
      "source": [
        "class MainDrop(nn.Module):\n",
        "    def __init__(self, CNNmodelDrop, LSTMmodelDrop):\n",
        "        super().__init__()\n",
        "\n",
        "        self.CNNmodelDrop = CNNmodelDrop\n",
        "        self.LSTMmodelDrop = LSTMmodelDrop\n",
        "\n",
        "        self.linear = nn.Linear(in_features=128, out_features=2)\n",
        "\n",
        "\n",
        "    # define forward function\n",
        "    def forward(self, x, states):\n",
        "\n",
        "        x_cnn =  self.CNNmodelDrop(x)\n",
        "\n",
        "        # states = self.LSTMmodel.init_states()\n",
        "        # states = tuple([e.data for e in states])\n",
        "        x_lstm, states =  self.LSTMmodelDrop(x, states)\n",
        "\n",
        "        x = torch.cat([x_cnn, x_lstm], axis=1)\n",
        "\n",
        "        out = self.linear(x)\n",
        "        #out = torch.sigmoid(x)\n",
        "\n",
        "        #out = out.reshape(-1)\n",
        "        return out\n",
        "\n",
        "    def init_states(self):\n",
        "        return self.LSTMmodelDrop.init_states()\n"
      ],
      "execution_count": null,
      "outputs": []
    },
    {
      "cell_type": "markdown",
      "metadata": {
        "id": "Xj8PRv1drqEB"
      },
      "source": [
        "GRU+CNN "
      ]
    },
    {
      "cell_type": "code",
      "metadata": {
        "id": "E9ztG_0Atfva"
      },
      "source": [
        "class GRU(nn.Module):\n",
        "    def __init__(self, n_inputs, n_steps, gru_dim, num_layers):\n",
        "        super(GRU, self).__init__()        \n",
        "        \n",
        "        self.linear = nn.Linear(n_inputs, gru_dim)\n",
        "        self.gru = nn.GRU(gru_dim, gru_dim, num_layers=num_layers, batch_first=True)\n",
        "      \n",
        "        self.n_layers = num_layers\n",
        "        self.gru_dim = gru_dim\n",
        "        self.n_steps = n_steps\n",
        "        self.n_inputs = n_inputs\n",
        "      \n",
        "    def forward(self, x, h):\n",
        "\n",
        "      n_batch, n_counts, n_input = list(x.size())\n",
        "      #print(batch, n_counts, n_input)\n",
        "      x = x.transpose(1, 0)\n",
        "      #print(x.size())\n",
        "      x = x.reshape(n_counts * n_batch, n_input)\n",
        "      #print(x.size())\n",
        "      x = self.linear(x)\n",
        "      #print(x.size())\n",
        "      x = x.reshape(n_counts , n_batch, self.gru_dim)\n",
        "      #print(x.size())\n",
        "\n",
        "      out, h= self.gru(x, h)\n",
        "\n",
        "      return out[-1], h\n",
        "\n",
        "    def init_states(self):\n",
        "      weight = next(self.parameters()).data\n",
        "      hidden = (weight.new(self.n_layers, self.n_steps, self.gru_dim).zero_().to(device))\n",
        "      return hidden"
      ],
      "execution_count": null,
      "outputs": []
    },
    {
      "cell_type": "code",
      "metadata": {
        "id": "0C0FziuEuvud"
      },
      "source": [
        "class MainGRU(nn.Module):\n",
        "    def __init__(self, CNNmodel, GRUmodel):\n",
        "        super().__init__()\n",
        "\n",
        "        self.CNNmodel = CNNmodel\n",
        "        self.GRUmodel = GRUmodel\n",
        "\n",
        "        self.linear = nn.Linear(in_features=128, out_features=2)\n",
        "\n",
        "\n",
        "    # define forward function\n",
        "    def forward(self, x, states):\n",
        "\n",
        "        x_cnn =  self.CNNmodel(x)\n",
        "\n",
        "        # states = self.GRUmodel.init_states()\n",
        "        # states = tuple([e.data for e in states])\n",
        "        x_gru, states =  self.GRUmodel(x, states)\n",
        "\n",
        "        x = torch.cat([x_cnn, x_gru], axis=1)\n",
        "\n",
        "        out = self.linear(x)\n",
        "        #out = torch.sigmoid(x)\n",
        "\n",
        "        #out = out.reshape(-1)\n",
        "        return out\n",
        "\n",
        "    def init_states(self):\n",
        "        return self.GRUmodel.init_states()\n"
      ],
      "execution_count": null,
      "outputs": []
    },
    {
      "cell_type": "markdown",
      "metadata": {
        "id": "Plo65X1zrxc3"
      },
      "source": [
        "GRU+CNN with Dropout regularization"
      ]
    },
    {
      "cell_type": "code",
      "metadata": {
        "id": "Lw42oiqvrzAz"
      },
      "source": [
        "class GRUDrop(nn.Module):\n",
        "    def __init__(self, n_inputs, n_steps, gru_dim, num_layers):\n",
        "        super(GRUDrop, self).__init__()        \n",
        "        \n",
        "        self.linear = nn.Linear(n_inputs, gru_dim)\n",
        "        self.gru = nn.GRU(gru_dim, gru_dim, num_layers=num_layers, batch_first=True, dropout=0.5)\n",
        "      \n",
        "        self.n_layers = num_layers\n",
        "        self.gru_dim = gru_dim\n",
        "        self.n_steps = n_steps\n",
        "        self.n_inputs = n_inputs\n",
        "        self.dropout = nn.Dropout(0.5)\n",
        "      \n",
        "    def forward(self, x, h):\n",
        "\n",
        "      n_batch, n_counts, n_input = list(x.size())\n",
        "      #print(batch, n_counts, n_input)\n",
        "      x = x.transpose(1, 0)\n",
        "      #print(x.size())\n",
        "      x = x.reshape(n_counts * n_batch, n_input)\n",
        "      #print(x.size())\n",
        "      x = self.linear(x)\n",
        "      #print(x.size())\n",
        "      x = x.reshape(n_counts , n_batch, self.gru_dim)\n",
        "      #print(x.size())\n",
        "\n",
        "      out, h= self.gru(x, h)\n",
        "\n",
        "      return out[-1], h\n",
        "\n",
        "    def init_states(self):\n",
        "      weight = next(self.parameters()).data\n",
        "      hidden = (weight.new(self.n_layers, self.n_steps, self.gru_dim).zero_().to(device))\n",
        "      return hidden\n"
      ],
      "execution_count": null,
      "outputs": []
    },
    {
      "cell_type": "code",
      "metadata": {
        "id": "Czqdu5B0txEX"
      },
      "source": [
        "class MainGRUDrop(nn.Module):\n",
        "    def __init__(self, CNNmodelDrop, GRUmodelDrop):\n",
        "        super().__init__()\n",
        "\n",
        "        self.CNNmodelDrop = CNNmodelDrop\n",
        "        self.GRUmodelDrop = GRUmodelDrop\n",
        "\n",
        "        self.linear = nn.Linear(in_features=128, out_features=2)\n",
        "\n",
        "\n",
        "    # define forward function\n",
        "    def forward(self, x, states):\n",
        "\n",
        "        x_cnn =  self.CNNmodelDrop(x)\n",
        "\n",
        "        # states = self.LSTMmodel.init_states()\n",
        "        # states = tuple([e.data for e in states])\n",
        "        x_gru, states =  self.GRUmodelDrop(x, states)\n",
        "\n",
        "        x = torch.cat([x_cnn, x_gru], axis=1)\n",
        "\n",
        "        out = self.linear(x)\n",
        "        #out = torch.sigmoid(x)\n",
        "\n",
        "        #out = out.reshape(-1)\n",
        "        return out\n",
        "\n",
        "    def init_states(self):\n",
        "        return self.GRUmodelDrop.init_states()\n"
      ],
      "execution_count": null,
      "outputs": []
    },
    {
      "cell_type": "markdown",
      "metadata": {
        "id": "rL9kV0-erVxK"
      },
      "source": [
        "# Train the model"
      ]
    },
    {
      "cell_type": "code",
      "metadata": {
        "id": "UO4WB2icr2NY"
      },
      "source": [
        "learning_rate = 0.00001\n",
        "batch_size = 64\n",
        "display_step = 1\n"
      ],
      "execution_count": null,
      "outputs": []
    },
    {
      "cell_type": "code",
      "metadata": {
        "id": "F-1BgoeOi7rX"
      },
      "source": [
        "tensor_x_train = torch.Tensor(X_train).float() # transform to torch tensor\n",
        "tensor_y_train = torch.Tensor(y_train).float()\n",
        "\n",
        "train_dataset = TensorDataset(tensor_x_train,tensor_y_train) # create your datset\n",
        "train_dataloader = DataLoader(train_dataset, batch_size = batch_size, shuffle=True) # create your dataloader\n",
        "\n",
        "\n",
        "tensor_x_test = torch.Tensor(X_test).float() # transform to torch tensor\n",
        "tensor_y_test = torch.Tensor(y_test).float()\n",
        "\n",
        "test_dataset = TensorDataset(tensor_x_test,tensor_y_test) # create your datset\n",
        "test_dataloader = DataLoader(test_dataset, batch_size = batch_size) # create your dataloader"
      ],
      "execution_count": null,
      "outputs": []
    },
    {
      "cell_type": "code",
      "metadata": {
        "id": "qtuGbDkkvMoN"
      },
      "source": [
        "main_path='/content/drive/MyDrive/DL- Danny & Yonatan/Project DL/classification_model/'"
      ],
      "execution_count": null,
      "outputs": []
    },
    {
      "cell_type": "markdown",
      "metadata": {
        "id": "1zD633yCuO-q"
      },
      "source": [
        "CNN+LSTM"
      ]
    },
    {
      "cell_type": "code",
      "metadata": {
        "id": "cLW5GO-eyUwJ"
      },
      "source": [
        "n_inputs = 3 \n",
        "n_steps = 128\n",
        "n_epochs=100\n",
        "lstm_dim = 64\n",
        "layers = 2\n",
        "LSTMmodel = LSTM(n_inputs, n_steps, lstm_dim, layers).to(device)"
      ],
      "execution_count": null,
      "outputs": []
    },
    {
      "cell_type": "code",
      "metadata": {
        "id": "srpG7dSMyYHZ"
      },
      "source": [
        "CNNmodel = CNN().to(device)"
      ],
      "execution_count": null,
      "outputs": []
    },
    {
      "cell_type": "code",
      "metadata": {
        "id": "ZBI2s8X1sWMY"
      },
      "source": [
        "model = Main(CNNmodel, LSTMmodel).to(device)\n",
        "optimizer = optim.Adam(model.parameters(), lr=learning_rate)\n",
        "criterion = nn.CrossEntropyLoss()"
      ],
      "execution_count": null,
      "outputs": []
    },
    {
      "cell_type": "code",
      "metadata": {
        "id": "hGjnQ3llVa33"
      },
      "source": [
        "def check_acc(model, loader):\n",
        "    correct = 0\n",
        "    total = 0\n",
        "    #TP=0\n",
        "    #TN=0\n",
        "    #FP=0\n",
        "    #FN=0\n",
        "    with torch.no_grad():\n",
        "        for data in loader:\n",
        "            states = model.init_states()\n",
        "            features, labels = data\n",
        "            states = tuple([e.data for e in states])\n",
        "            outputs = model(features.to(device),states)\n",
        "            _, predictions = outputs.max(1)\n",
        "            total += labels.size(0)\n",
        "            correct += torch.sum(predictions==labels.long().to(device))\n",
        "            #TP+= ((predicted == labels) & (labels==1)).sum().item()\n",
        "            #TN+=((predicted == labels) & (labels==0)).sum().item()\n",
        "            #FP+=((predicted != labels) & (labels==0)).sum().item()\n",
        "            #FN+=((predicted != labels) & (labels==1)).sum().item()\n",
        "            \n",
        "    acc = (100 * correct / total)\n",
        "    #precision=100*(TP/(1+TP+FP))\n",
        "    #sensitivity=100*(TP/(1+TP+FN))\n",
        "    #specificity=100*(TN/(1+TN+FP))\n",
        "    if loader=='train_dataloader':\n",
        "      print('Accuracy on the training set is : %.3f %%' % acc)\n",
        "    elif loader=='test_dataloader':\n",
        "      print('Accuracy on the validation set is: %.3f %%' % acc)\n",
        "    \n",
        "    return acc"
      ],
      "execution_count": null,
      "outputs": []
    },
    {
      "cell_type": "code",
      "metadata": {
        "id": "zM--8qL3rwkC",
        "colab": {
          "base_uri": "https://localhost:8080/"
        },
        "outputId": "b1e0f6f0-d60f-458f-b449-30e059054320"
      },
      "source": [
        "all_train_loss = []\n",
        "all_test_loss = []\n",
        "train_acc=[]\n",
        "validation_acc=[]\n",
        "\n",
        "\n",
        "for epoch in range(n_epochs):\n",
        "      \n",
        "  states = model.init_states()\n",
        "  model.train()\n",
        "  train_loss = []\n",
        "  for batch_idx, (data, labels) in enumerate(train_dataloader):\n",
        "    \n",
        "    states = tuple([e.data for e in states])\n",
        "\n",
        "    preds = model(data.to(device), states)\n",
        "\n",
        "    #loss = F.cross_entropy(preds, labels.to(device))\n",
        "    loss = criterion(preds, labels.long().to(device))\n",
        "    optimizer.zero_grad()\n",
        "    loss.backward()\n",
        "    optimizer.step()\n",
        "\n",
        "    bach_loss = loss.item()\n",
        "\n",
        "    train_loss.append(bach_loss)\n",
        "    if batch_idx % 500 == 0:    \n",
        "         print('[%d, %5d] loss: %.3f' %\n",
        "               (epoch, batch_idx, bach_loss))\n",
        "         \n",
        "  epochloss = np.average(train_loss)\n",
        "  all_train_loss.append(epochloss)\n",
        "  #model.eval()\n",
        "\n",
        "  print(\"epoch %d,  train loss : %.3f,\" % (epoch, epochloss))  \n",
        "\n",
        "  train_acc.append( check_acc(model, train_dataloader) )\n",
        "  validation_acc.append( check_acc(model, test_dataloader) )\n",
        "  with open('/content/drive/MyDrive/DL- Danny & Yonatan/Project DL/classification_model/train_acc.npy', 'wb') as f:\n",
        "    pickle.dump(train_acc, f, protocol=4)\n",
        "  with open('/content/drive/MyDrive/DL- Danny & Yonatan/Project DL/classification_model/validation_acc.npy', 'wb') as f:\n",
        "    pickle.dump(validation_acc, f, protocol=4)\n",
        "  torch.save(model.state_dict(), main_path+ 'gait_classification_'+ str(epoch) +'.pt') #saving the trained model   "
      ],
      "execution_count": null,
      "outputs": [
        {
          "output_type": "stream",
          "name": "stdout",
          "text": [
            "[0,     0] loss: 0.597\n",
            "epoch 0,  train loss : 0.604,\n",
            "[1,     0] loss: 0.613\n",
            "epoch 1,  train loss : 0.603,\n",
            "[2,     0] loss: 0.598\n",
            "epoch 2,  train loss : 0.601,\n",
            "[3,     0] loss: 0.584\n",
            "epoch 3,  train loss : 0.599,\n",
            "[4,     0] loss: 0.507\n",
            "epoch 4,  train loss : 0.599,\n",
            "[5,     0] loss: 0.535\n",
            "epoch 5,  train loss : 0.598,\n",
            "[6,     0] loss: 0.672\n",
            "epoch 6,  train loss : 0.597,\n",
            "[7,     0] loss: 0.592\n",
            "epoch 7,  train loss : 0.595,\n",
            "[8,     0] loss: 0.561\n",
            "epoch 8,  train loss : 0.595,\n",
            "[9,     0] loss: 0.666\n",
            "epoch 9,  train loss : 0.593,\n",
            "[10,     0] loss: 0.534\n",
            "epoch 10,  train loss : 0.592,\n",
            "[11,     0] loss: 0.623\n",
            "epoch 11,  train loss : 0.592,\n",
            "[12,     0] loss: 0.752\n",
            "epoch 12,  train loss : 0.589,\n",
            "[13,     0] loss: 0.600\n",
            "epoch 13,  train loss : 0.589,\n",
            "[14,     0] loss: 0.607\n",
            "epoch 14,  train loss : 0.587,\n",
            "[15,     0] loss: 0.532\n",
            "epoch 15,  train loss : 0.587,\n",
            "[16,     0] loss: 0.629\n",
            "epoch 16,  train loss : 0.586,\n",
            "[17,     0] loss: 0.587\n",
            "epoch 17,  train loss : 0.586,\n",
            "[18,     0] loss: 0.593\n",
            "epoch 18,  train loss : 0.583,\n",
            "[19,     0] loss: 0.552\n",
            "epoch 19,  train loss : 0.584,\n",
            "[20,     0] loss: 0.529\n",
            "epoch 20,  train loss : 0.583,\n",
            "[21,     0] loss: 0.589\n",
            "epoch 21,  train loss : 0.581,\n",
            "[22,     0] loss: 0.580\n",
            "epoch 22,  train loss : 0.579,\n",
            "[23,     0] loss: 0.534\n",
            "epoch 23,  train loss : 0.580,\n",
            "[24,     0] loss: 0.521\n",
            "epoch 24,  train loss : 0.578,\n",
            "[25,     0] loss: 0.695\n",
            "epoch 25,  train loss : 0.577,\n",
            "[26,     0] loss: 0.535\n",
            "epoch 26,  train loss : 0.577,\n",
            "[27,     0] loss: 0.549\n",
            "epoch 27,  train loss : 0.575,\n",
            "[28,     0] loss: 0.549\n",
            "epoch 28,  train loss : 0.574,\n",
            "[29,     0] loss: 0.523\n",
            "epoch 29,  train loss : 0.573,\n",
            "[30,     0] loss: 0.563\n",
            "epoch 30,  train loss : 0.571,\n",
            "[31,     0] loss: 0.556\n",
            "epoch 31,  train loss : 0.572,\n",
            "[32,     0] loss: 0.546\n",
            "epoch 32,  train loss : 0.569,\n",
            "[33,     0] loss: 0.528\n",
            "epoch 33,  train loss : 0.568,\n",
            "[34,     0] loss: 0.421\n",
            "epoch 34,  train loss : 0.567,\n",
            "[35,     0] loss: 0.555\n",
            "epoch 35,  train loss : 0.566,\n",
            "[36,     0] loss: 0.519\n",
            "epoch 36,  train loss : 0.565,\n",
            "[37,     0] loss: 0.556\n",
            "epoch 37,  train loss : 0.565,\n",
            "[38,     0] loss: 0.578\n",
            "epoch 38,  train loss : 0.564,\n",
            "[39,     0] loss: 0.609\n",
            "epoch 39,  train loss : 0.564,\n",
            "[40,     0] loss: 0.594\n",
            "epoch 40,  train loss : 0.561,\n",
            "[41,     0] loss: 0.669\n",
            "epoch 41,  train loss : 0.561,\n",
            "[42,     0] loss: 0.570\n",
            "epoch 42,  train loss : 0.559,\n",
            "[43,     0] loss: 0.573\n",
            "epoch 43,  train loss : 0.560,\n",
            "[44,     0] loss: 0.584\n",
            "epoch 44,  train loss : 0.559,\n",
            "[45,     0] loss: 0.626\n",
            "epoch 45,  train loss : 0.558,\n",
            "[46,     0] loss: 0.572\n",
            "epoch 46,  train loss : 0.558,\n",
            "[47,     0] loss: 0.552\n",
            "epoch 47,  train loss : 0.556,\n",
            "[48,     0] loss: 0.444\n",
            "epoch 48,  train loss : 0.557,\n",
            "[49,     0] loss: 0.549\n",
            "epoch 49,  train loss : 0.555,\n",
            "[50,     0] loss: 0.505\n",
            "epoch 50,  train loss : 0.553,\n",
            "[51,     0] loss: 0.545\n",
            "epoch 51,  train loss : 0.552,\n",
            "[52,     0] loss: 0.522\n",
            "epoch 52,  train loss : 0.553,\n",
            "[53,     0] loss: 0.565\n",
            "epoch 53,  train loss : 0.550,\n",
            "[54,     0] loss: 0.577\n",
            "epoch 54,  train loss : 0.550,\n",
            "[55,     0] loss: 0.524\n",
            "epoch 55,  train loss : 0.549,\n",
            "[56,     0] loss: 0.630\n",
            "epoch 56,  train loss : 0.548,\n",
            "[57,     0] loss: 0.479\n",
            "epoch 57,  train loss : 0.546,\n",
            "[58,     0] loss: 0.551\n",
            "epoch 58,  train loss : 0.547,\n",
            "[59,     0] loss: 0.522\n",
            "epoch 59,  train loss : 0.548,\n",
            "[60,     0] loss: 0.573\n",
            "epoch 60,  train loss : 0.545,\n",
            "[61,     0] loss: 0.490\n",
            "epoch 61,  train loss : 0.544,\n",
            "[62,     0] loss: 0.558\n",
            "epoch 62,  train loss : 0.544,\n",
            "[63,     0] loss: 0.619\n",
            "epoch 63,  train loss : 0.544,\n",
            "[64,     0] loss: 0.636\n",
            "epoch 64,  train loss : 0.543,\n",
            "[65,     0] loss: 0.510\n",
            "epoch 65,  train loss : 0.543,\n",
            "[66,     0] loss: 0.576\n",
            "epoch 66,  train loss : 0.542,\n",
            "[67,     0] loss: 0.510\n",
            "epoch 67,  train loss : 0.540,\n",
            "[68,     0] loss: 0.531\n",
            "epoch 68,  train loss : 0.538,\n",
            "[69,     0] loss: 0.491\n",
            "epoch 69,  train loss : 0.538,\n",
            "[70,     0] loss: 0.550\n",
            "epoch 70,  train loss : 0.536,\n",
            "[71,     0] loss: 0.444\n",
            "epoch 71,  train loss : 0.536,\n",
            "[72,     0] loss: 0.574\n",
            "epoch 72,  train loss : 0.537,\n",
            "[73,     0] loss: 0.512\n",
            "epoch 73,  train loss : 0.536,\n",
            "[74,     0] loss: 0.529\n",
            "epoch 74,  train loss : 0.534,\n",
            "[75,     0] loss: 0.538\n",
            "epoch 75,  train loss : 0.533,\n",
            "[76,     0] loss: 0.516\n",
            "epoch 76,  train loss : 0.532,\n",
            "[77,     0] loss: 0.586\n",
            "epoch 77,  train loss : 0.531,\n",
            "[78,     0] loss: 0.544\n",
            "epoch 78,  train loss : 0.532,\n",
            "[79,     0] loss: 0.488\n",
            "epoch 79,  train loss : 0.531,\n",
            "[80,     0] loss: 0.528\n",
            "epoch 80,  train loss : 0.532,\n",
            "[81,     0] loss: 0.575\n",
            "epoch 81,  train loss : 0.528,\n",
            "[82,     0] loss: 0.640\n",
            "epoch 82,  train loss : 0.528,\n",
            "[83,     0] loss: 0.487\n",
            "epoch 83,  train loss : 0.526,\n",
            "[84,     0] loss: 0.560\n",
            "epoch 84,  train loss : 0.527,\n",
            "[85,     0] loss: 0.476\n",
            "epoch 85,  train loss : 0.528,\n",
            "[86,     0] loss: 0.509\n",
            "epoch 86,  train loss : 0.524,\n",
            "[87,     0] loss: 0.514\n",
            "epoch 87,  train loss : 0.525,\n",
            "[88,     0] loss: 0.510\n",
            "epoch 88,  train loss : 0.525,\n",
            "[89,     0] loss: 0.488\n",
            "epoch 89,  train loss : 0.523,\n",
            "[90,     0] loss: 0.457\n",
            "epoch 90,  train loss : 0.521,\n",
            "[91,     0] loss: 0.460\n",
            "epoch 91,  train loss : 0.521,\n",
            "[92,     0] loss: 0.481\n",
            "epoch 92,  train loss : 0.520,\n",
            "[93,     0] loss: 0.466\n",
            "epoch 93,  train loss : 0.522,\n",
            "[94,     0] loss: 0.485\n",
            "epoch 94,  train loss : 0.519,\n",
            "[95,     0] loss: 0.531\n",
            "epoch 95,  train loss : 0.518,\n",
            "[96,     0] loss: 0.508\n",
            "epoch 96,  train loss : 0.517,\n",
            "[97,     0] loss: 0.554\n",
            "epoch 97,  train loss : 0.516,\n",
            "[98,     0] loss: 0.495\n",
            "epoch 98,  train loss : 0.516,\n",
            "[99,     0] loss: 0.518\n",
            "epoch 99,  train loss : 0.515,\n"
          ]
        }
      ]
    },
    {
      "cell_type": "code",
      "metadata": {
        "id": "CDl_ws7JeITg"
      },
      "source": [
        "torch.save(model.state_dict(), main_path+'gait_classification.pt') #saving the trained model  "
      ],
      "execution_count": null,
      "outputs": []
    },
    {
      "cell_type": "code",
      "metadata": {
        "id": "4hkMz3itQGQU"
      },
      "source": [
        "train_acc_pickle = open('/content/drive/MyDrive/DL- Danny & Yonatan/Project DL/classification_model/train_acc.npy', \"rb\")\n",
        "train_acc= pickle.load(train_acc_pickle)\n",
        "\n",
        "validation_acc_pickle = open('/content/drive/MyDrive/DL- Danny & Yonatan/Project DL/classification_model/validation_acc.npy', \"rb\")\n",
        "validation_acc= pickle.load(validation_acc_pickle)"
      ],
      "execution_count": 5,
      "outputs": []
    },
    {
      "cell_type": "code",
      "metadata": {
        "colab": {
          "base_uri": "https://localhost:8080/",
          "height": 313
        },
        "id": "vKaUTfCkdQnC",
        "outputId": "7da9cdec-f727-49ff-e403-b7a7ca265cb8"
      },
      "source": [
        "import matplotlib.pyplot as plt\n",
        "plt.plot(range(len(train_acc)),train_acc,  label='Training Accuracy')\n",
        "plt.plot(range(len(train_acc)),validation_acc, label='Validation Accuracy')\n",
        "plt.title('Accuracy over epochs: LSTM')\n",
        "plt.xlabel('num_epochs')\n",
        "plt.ylabel('accuracy')\n",
        "plt.legend()"
      ],
      "execution_count": 8,
      "outputs": [
        {
          "output_type": "execute_result",
          "data": {
            "text/plain": [
              "<matplotlib.legend.Legend at 0x7f583b5d6e90>"
            ]
          },
          "metadata": {},
          "execution_count": 8
        },
        {
          "output_type": "display_data",
          "data": {
            "image/png": "[encoded data removed]",
            "text/plain": [
              "<Figure size 432x288 with 1 Axes>"
            ]
          },
          "metadata": {
            "needs_background": "light"
          }
        }
      ]
    },
    {
      "cell_type": "code",
      "metadata": {
        "colab": {
          "base_uri": "https://localhost:8080/",
          "height": 312
        },
        "id": "ksB6VvjndRHZ",
        "outputId": "3eb5853e-fcee-4d52-e891-0ef40f9dba26"
      },
      "source": [
        "plt.plot(all_train_loss)\n",
        "plt.title('Loss over epochs')\n",
        "plt.xlabel('epochs')\n",
        "plt.ylabel('loss')"
      ],
      "execution_count": null,
      "outputs": [
        {
          "output_type": "execute_result",
          "data": {
            "text/plain": [
              "Text(0, 0.5, 'loss')"
            ]
          },
          "metadata": {},
          "execution_count": 68
        },
        {
          "output_type": "display_data",
          "data": {
            "image/png": "[encoded data removed]",
            "text/plain": [
              "<Figure size 432x288 with 1 Axes>"
            ]
          },
          "metadata": {
            "needs_background": "light"
          }
        }
      ]
    },
    {
      "cell_type": "markdown",
      "metadata": {
        "id": "pDZn5VGlvNqy"
      },
      "source": [
        "CNN+GRU"
      ]
    },
    {
      "cell_type": "code",
      "metadata": {
        "id": "grDlpX4QsxpQ"
      },
      "source": [
        "n_inputs = 3 \n",
        "n_steps = 128\n",
        "n_epochs=100\n",
        "gru_dim = 64\n",
        "layers = 2\n",
        "GRUmodel = GRU(n_inputs, n_steps, gru_dim, layers).to(device)"
      ],
      "execution_count": null,
      "outputs": []
    },
    {
      "cell_type": "code",
      "metadata": {
        "id": "LvzA2u1dvZdo"
      },
      "source": [
        "model = MainGRU(CNNmodel, GRUmodel).to(device)\n",
        "optimizer = optim.Adam(model.parameters(), lr=learning_rate)\n",
        "criterion = nn.CrossEntropyLoss()"
      ],
      "execution_count": null,
      "outputs": []
    },
    {
      "cell_type": "code",
      "metadata": {
        "id": "Vo-KAByHCwFV"
      },
      "source": [
        "def check_acc(model, loader):\n",
        "    correct = 0\n",
        "    total = 0\n",
        "    #TP=0\n",
        "    #TN=0\n",
        "    #FP=0\n",
        "    #FN=0\n",
        "    with torch.no_grad():\n",
        "        for data in loader:\n",
        "            states = model.init_states()\n",
        "            features, labels = data\n",
        "            states = states.data\n",
        "            outputs = model(features.to(device),states)\n",
        "            _, predictions = outputs.max(1)\n",
        "            total += labels.size(0)\n",
        "            correct += torch.sum(predictions==labels.long().to(device))\n",
        "            #TP+= ((predicted == labels) & (labels==1)).sum().item()\n",
        "            #TN+=((predicted == labels) & (labels==0)).sum().item()\n",
        "            #FP+=((predicted != labels) & (labels==0)).sum().item()\n",
        "            #FN+=((predicted != labels) & (labels==1)).sum().item()\n",
        "            \n",
        "    acc = (100 * correct / total)\n",
        "    #precision=100*(TP/(1+TP+FP))\n",
        "    #sensitivity=100*(TP/(1+TP+FN))\n",
        "    #specificity=100*(TN/(1+TN+FP))\n",
        "    if loader=='train_dataloader':\n",
        "      print('Accuracy on the training set is : %.3f %%' % acc)\n",
        "    elif loader=='test_dataloader':\n",
        "      print('Accuracy on the validation set is: %.3f %%' % acc)\n",
        "    \n",
        "    return acc"
      ],
      "execution_count": null,
      "outputs": []
    },
    {
      "cell_type": "code",
      "metadata": {
        "colab": {
          "base_uri": "https://localhost:8080/"
        },
        "id": "llMN-c_Pvnm2",
        "outputId": "9d34e203-b5c3-40e5-ebab-836c078af8e1"
      },
      "source": [
        "all_train_loss_gru = []\n",
        "train_acc_gru=[]\n",
        "validation_acc_gru=[]\n",
        "\n",
        "\n",
        "for epoch in range(n_epochs):\n",
        "      \n",
        "  states = model.init_states()\n",
        "  model.train()\n",
        "  train_loss = []\n",
        "  for batch_idx, (data, labels) in enumerate(train_dataloader):\n",
        "    \n",
        "    states = states.data\n",
        "\n",
        "    preds = model(data.to(device), states)\n",
        "\n",
        "    #loss = F.cross_entropy(preds, labels.to(device))\n",
        "    loss = criterion(preds, labels.long().to(device))\n",
        "    optimizer.zero_grad()\n",
        "    loss.backward()\n",
        "    optimizer.step()\n",
        "\n",
        "    bach_loss = loss.item()\n",
        "\n",
        "    train_loss.append(bach_loss)\n",
        "    if batch_idx % 500 == 0:    \n",
        "         print('[%d, %5d] loss: %.3f' %\n",
        "               (epoch, batch_idx, bach_loss))\n",
        "         \n",
        "  epochloss = np.average(train_loss)\n",
        "  all_train_loss_gru.append(epochloss)\n",
        "  #model.eval()\n",
        "\n",
        "  print(\"epoch %d,  train loss : %.3f,\" % (epoch, epochloss))  \n",
        "\n",
        "  train_acc_gru.append( check_acc(model, train_dataloader) )\n",
        "  validation_acc_gru.append( check_acc(model, test_dataloader) )\n",
        "\n",
        "   "
      ],
      "execution_count": null,
      "outputs": [
        {
          "output_type": "stream",
          "name": "stdout",
          "text": [
            "[0,     0] loss: 0.681\n",
            "epoch 0,  train loss : 0.603,\n",
            "[1,     0] loss: 0.571\n",
            "epoch 1,  train loss : 0.594,\n",
            "[2,     0] loss: 0.563\n",
            "epoch 2,  train loss : 0.589,\n",
            "[3,     0] loss: 0.559\n",
            "epoch 3,  train loss : 0.584,\n",
            "[4,     0] loss: 0.598\n",
            "epoch 4,  train loss : 0.580,\n",
            "[5,     0] loss: 0.588\n",
            "epoch 5,  train loss : 0.574,\n",
            "[6,     0] loss: 0.610\n",
            "epoch 6,  train loss : 0.573,\n",
            "[7,     0] loss: 0.668\n",
            "epoch 7,  train loss : 0.569,\n",
            "[8,     0] loss: 0.538\n",
            "epoch 8,  train loss : 0.567,\n",
            "[9,     0] loss: 0.547\n",
            "epoch 9,  train loss : 0.564,\n",
            "[10,     0] loss: 0.543\n",
            "epoch 10,  train loss : 0.561,\n",
            "[11,     0] loss: 0.519\n",
            "epoch 11,  train loss : 0.559,\n",
            "[12,     0] loss: 0.592\n",
            "epoch 12,  train loss : 0.557,\n",
            "[13,     0] loss: 0.546\n",
            "epoch 13,  train loss : 0.555,\n",
            "[14,     0] loss: 0.585\n",
            "epoch 14,  train loss : 0.553,\n",
            "[15,     0] loss: 0.541\n",
            "epoch 15,  train loss : 0.552,\n",
            "[16,     0] loss: 0.587\n",
            "epoch 16,  train loss : 0.550,\n",
            "[17,     0] loss: 0.562\n",
            "epoch 17,  train loss : 0.548,\n",
            "[18,     0] loss: 0.567\n",
            "epoch 18,  train loss : 0.547,\n",
            "[19,     0] loss: 0.564\n",
            "epoch 19,  train loss : 0.546,\n",
            "[20,     0] loss: 0.523\n",
            "epoch 20,  train loss : 0.544,\n",
            "[21,     0] loss: 0.599\n",
            "epoch 21,  train loss : 0.544,\n",
            "[22,     0] loss: 0.492\n",
            "epoch 22,  train loss : 0.542,\n",
            "[23,     0] loss: 0.488\n",
            "epoch 23,  train loss : 0.541,\n",
            "[24,     0] loss: 0.563\n",
            "epoch 24,  train loss : 0.540,\n",
            "[25,     0] loss: 0.474\n",
            "epoch 25,  train loss : 0.539,\n",
            "[26,     0] loss: 0.547\n",
            "epoch 26,  train loss : 0.539,\n",
            "[27,     0] loss: 0.406\n",
            "epoch 27,  train loss : 0.538,\n",
            "[28,     0] loss: 0.487\n",
            "epoch 28,  train loss : 0.536,\n",
            "[29,     0] loss: 0.588\n",
            "epoch 29,  train loss : 0.535,\n",
            "[30,     0] loss: 0.570\n",
            "epoch 30,  train loss : 0.534,\n",
            "[31,     0] loss: 0.551\n",
            "epoch 31,  train loss : 0.532,\n",
            "[32,     0] loss: 0.512\n",
            "epoch 32,  train loss : 0.532,\n",
            "[33,     0] loss: 0.454\n",
            "epoch 33,  train loss : 0.532,\n",
            "[34,     0] loss: 0.532\n",
            "epoch 34,  train loss : 0.530,\n",
            "[35,     0] loss: 0.523\n",
            "epoch 35,  train loss : 0.527,\n",
            "[36,     0] loss: 0.587\n",
            "epoch 36,  train loss : 0.527,\n",
            "[37,     0] loss: 0.490\n",
            "epoch 37,  train loss : 0.528,\n",
            "[38,     0] loss: 0.434\n",
            "epoch 38,  train loss : 0.527,\n",
            "[39,     0] loss: 0.573\n",
            "epoch 39,  train loss : 0.527,\n",
            "[40,     0] loss: 0.579\n",
            "epoch 40,  train loss : 0.524,\n",
            "[41,     0] loss: 0.522\n",
            "epoch 41,  train loss : 0.525,\n",
            "[42,     0] loss: 0.505\n",
            "epoch 42,  train loss : 0.523,\n",
            "[43,     0] loss: 0.456\n",
            "epoch 43,  train loss : 0.522,\n",
            "[44,     0] loss: 0.491\n",
            "epoch 44,  train loss : 0.522,\n",
            "[45,     0] loss: 0.420\n",
            "epoch 45,  train loss : 0.520,\n",
            "[46,     0] loss: 0.518\n",
            "epoch 46,  train loss : 0.519,\n",
            "[47,     0] loss: 0.416\n",
            "epoch 47,  train loss : 0.517,\n",
            "[48,     0] loss: 0.444\n",
            "epoch 48,  train loss : 0.517,\n",
            "[49,     0] loss: 0.591\n",
            "epoch 49,  train loss : 0.517,\n",
            "[50,     0] loss: 0.530\n",
            "epoch 50,  train loss : 0.515,\n",
            "[51,     0] loss: 0.483\n",
            "epoch 51,  train loss : 0.515,\n",
            "[52,     0] loss: 0.546\n",
            "epoch 52,  train loss : 0.514,\n",
            "[53,     0] loss: 0.485\n",
            "epoch 53,  train loss : 0.513,\n",
            "[54,     0] loss: 0.562\n",
            "epoch 54,  train loss : 0.514,\n",
            "[55,     0] loss: 0.527\n",
            "epoch 55,  train loss : 0.511,\n",
            "[56,     0] loss: 0.480\n",
            "epoch 56,  train loss : 0.509,\n",
            "[57,     0] loss: 0.364\n",
            "epoch 57,  train loss : 0.510,\n",
            "[58,     0] loss: 0.465\n",
            "epoch 58,  train loss : 0.512,\n",
            "[59,     0] loss: 0.499\n",
            "epoch 59,  train loss : 0.511,\n",
            "[60,     0] loss: 0.504\n",
            "epoch 60,  train loss : 0.508,\n",
            "[61,     0] loss: 0.468\n",
            "epoch 61,  train loss : 0.509,\n",
            "[62,     0] loss: 0.469\n",
            "epoch 62,  train loss : 0.508,\n",
            "[63,     0] loss: 0.471\n",
            "epoch 63,  train loss : 0.507,\n",
            "[64,     0] loss: 0.413\n",
            "epoch 64,  train loss : 0.507,\n",
            "[65,     0] loss: 0.538\n",
            "epoch 65,  train loss : 0.507,\n",
            "[66,     0] loss: 0.608\n",
            "epoch 66,  train loss : 0.503,\n",
            "[67,     0] loss: 0.459\n",
            "epoch 67,  train loss : 0.503,\n",
            "[68,     0] loss: 0.447\n",
            "epoch 68,  train loss : 0.504,\n",
            "[69,     0] loss: 0.553\n",
            "epoch 69,  train loss : 0.503,\n",
            "[70,     0] loss: 0.494\n",
            "epoch 70,  train loss : 0.502,\n",
            "[71,     0] loss: 0.469\n",
            "epoch 71,  train loss : 0.500,\n",
            "[72,     0] loss: 0.557\n",
            "epoch 72,  train loss : 0.500,\n",
            "[73,     0] loss: 0.526\n",
            "epoch 73,  train loss : 0.500,\n",
            "[74,     0] loss: 0.404\n",
            "epoch 74,  train loss : 0.498,\n",
            "[75,     0] loss: 0.474\n",
            "epoch 75,  train loss : 0.499,\n",
            "[76,     0] loss: 0.510\n",
            "epoch 76,  train loss : 0.498,\n",
            "[77,     0] loss: 0.574\n",
            "epoch 77,  train loss : 0.500,\n",
            "[78,     0] loss: 0.425\n",
            "epoch 78,  train loss : 0.495,\n",
            "[79,     0] loss: 0.524\n",
            "epoch 79,  train loss : 0.495,\n",
            "[80,     0] loss: 0.502\n",
            "epoch 80,  train loss : 0.496,\n",
            "[81,     0] loss: 0.491\n",
            "epoch 81,  train loss : 0.495,\n",
            "[82,     0] loss: 0.491\n",
            "epoch 82,  train loss : 0.493,\n",
            "[83,     0] loss: 0.500\n",
            "epoch 83,  train loss : 0.493,\n",
            "[84,     0] loss: 0.453\n",
            "epoch 84,  train loss : 0.493,\n",
            "[85,     0] loss: 0.491\n",
            "epoch 85,  train loss : 0.492,\n",
            "[86,     0] loss: 0.503\n",
            "epoch 86,  train loss : 0.492,\n",
            "[87,     0] loss: 0.526\n",
            "epoch 87,  train loss : 0.490,\n",
            "[88,     0] loss: 0.499\n",
            "epoch 88,  train loss : 0.490,\n",
            "[89,     0] loss: 0.465\n",
            "epoch 89,  train loss : 0.490,\n",
            "[90,     0] loss: 0.526\n",
            "epoch 90,  train loss : 0.491,\n",
            "[91,     0] loss: 0.507\n",
            "epoch 91,  train loss : 0.490,\n",
            "[92,     0] loss: 0.540\n",
            "epoch 92,  train loss : 0.488,\n",
            "[93,     0] loss: 0.593\n",
            "epoch 93,  train loss : 0.487,\n",
            "[94,     0] loss: 0.497\n",
            "epoch 94,  train loss : 0.488,\n",
            "[95,     0] loss: 0.516\n",
            "epoch 95,  train loss : 0.485,\n",
            "[96,     0] loss: 0.529\n",
            "epoch 96,  train loss : 0.486,\n",
            "[97,     0] loss: 0.546\n",
            "epoch 97,  train loss : 0.484,\n",
            "[98,     0] loss: 0.410\n",
            "epoch 98,  train loss : 0.485,\n",
            "[99,     0] loss: 0.467\n",
            "epoch 99,  train loss : 0.484,\n"
          ]
        }
      ]
    },
    {
      "cell_type": "code",
      "metadata": {
        "id": "Wr1HQqJfv60g"
      },
      "source": [
        "  with open('/content/drive/MyDrive/DL- Danny & Yonatan/Project DL/classification_model/train_acc_gru.npy', 'wb') as f:\n",
        "    pickle.dump(train_acc_gru, f, protocol=4)\n",
        "  with open('/content/drive/MyDrive/DL- Danny & Yonatan/Project DL/classification_model/validation_acc_gru.npy', 'wb') as f:\n",
        "    pickle.dump(validation_acc_gru, f, protocol=4)"
      ],
      "execution_count": null,
      "outputs": []
    },
    {
      "cell_type": "code",
      "metadata": {
        "colab": {
          "base_uri": "https://localhost:8080/",
          "height": 313
        },
        "id": "vHfd7QscR5MT",
        "outputId": "65fa6308-af5d-4265-8b85-2d2fdc532f3f"
      },
      "source": [
        "import matplotlib.pyplot as plt\n",
        "plt.plot(range(len(train_acc)),train_acc_gru)\n",
        "plt.plot(range(len(train_acc)),validation_acc_gru)\n",
        "plt.title('Accuracy over epochs: GRU')\n",
        "plt.xlabel('num_epochs')\n",
        "plt.ylabel('accuracy')\n"
      ],
      "execution_count": null,
      "outputs": [
        {
          "output_type": "execute_result",
          "data": {
            "text/plain": [
              "Text(0, 0.5, 'accuracy')"
            ]
          },
          "metadata": {},
          "execution_count": 182
        },
        {
          "output_type": "display_data",
          "data": {
            "image/png": "[encoded data removed]",
            "text/plain": [
              "<Figure size 432x288 with 1 Axes>"
            ]
          },
          "metadata": {
            "needs_background": "light"
          }
        }
      ]
    },
    {
      "cell_type": "code",
      "metadata": {
        "colab": {
          "base_uri": "https://localhost:8080/",
          "height": 312
        },
        "id": "Nwov9nxGSL2o",
        "outputId": "a393d1fd-8b8a-4443-c606-f2fcb0999048"
      },
      "source": [
        "plt.plot(all_train_loss_gru)\n",
        "plt.title('Loss over epochs')\n",
        "plt.xlabel('epochs')\n",
        "plt.ylabel('loss')"
      ],
      "execution_count": null,
      "outputs": [
        {
          "output_type": "execute_result",
          "data": {
            "text/plain": [
              "Text(0, 0.5, 'loss')"
            ]
          },
          "metadata": {},
          "execution_count": 183
        },
        {
          "output_type": "display_data",
          "data": {
            "image/png": "[encoded data removed]",
            "text/plain": [
              "<Figure size 432x288 with 1 Axes>"
            ]
          },
          "metadata": {
            "needs_background": "light"
          }
        }
      ]
    },
    {
      "cell_type": "markdown",
      "metadata": {
        "id": "A5r-9MZ2E20Q"
      },
      "source": [
        "#  DropOut regularization"
      ]
    },
    {
      "cell_type": "markdown",
      "metadata": {
        "id": "D9Op8AqzuaoE"
      },
      "source": [
        "CNN+LSTM"
      ]
    },
    {
      "cell_type": "code",
      "metadata": {
        "id": "qh0V0ha8E8DY"
      },
      "source": [
        "n_inputs = 3 \n",
        "n_steps = 128\n",
        "n_epochs=100\n",
        "lstm_dim = 64\n",
        "layers = 2\n",
        "LSTMmodelDrop = LSTMDrop(n_inputs, n_steps, lstm_dim, layers).to(device)"
      ],
      "execution_count": null,
      "outputs": []
    },
    {
      "cell_type": "code",
      "metadata": {
        "id": "UIcoZtugE_mq"
      },
      "source": [
        "CNNmodelDrop = CNNDrop().to(device)\n",
        "model = MainDrop(CNNmodelDrop, LSTMmodelDrop).to(device)\n",
        "optimizer = optim.Adam(model.parameters(), lr=learning_rate)\n",
        "criterion = nn.CrossEntropyLoss()"
      ],
      "execution_count": null,
      "outputs": []
    },
    {
      "cell_type": "code",
      "metadata": {
        "colab": {
          "base_uri": "https://localhost:8080/"
        },
        "id": "_GioukJQFow6",
        "outputId": "3cdddb0a-1882-4871-a8e0-0fe51e71b35a"
      },
      "source": [
        "all_train_loss = []\n",
        "all_test_loss = []\n",
        "train_acc=[]\n",
        "validation_acc=[]\n",
        "\n",
        "\n",
        "for epoch in range(n_epochs):\n",
        "      \n",
        "  states = model.init_states()\n",
        "  model.train()\n",
        "  train_loss = []\n",
        "  for batch_idx, (data, labels) in enumerate(train_dataloader):\n",
        "    \n",
        "    states = tuple([e.data for e in states])\n",
        "\n",
        "    preds = model(data.to(device), states)\n",
        "\n",
        "    #loss = F.cross_entropy(preds, labels.to(device))\n",
        "    loss = criterion(preds, labels.long().to(device))\n",
        "    optimizer.zero_grad()\n",
        "    loss.backward()\n",
        "    optimizer.step()\n",
        "\n",
        "    bach_loss = loss.item()\n",
        "\n",
        "    train_loss.append(bach_loss)\n",
        "    if batch_idx % 500 == 0:    \n",
        "         print('[%d, %5d] loss: %.3f' %\n",
        "               (epoch, batch_idx, bach_loss))\n",
        "         \n",
        "  epochloss = np.average(train_loss)\n",
        "  all_train_loss.append(epochloss)\n",
        "  #model.eval()\n",
        "\n",
        "  print(\"epoch %d,  train loss : %.3f,\" % (epoch, epochloss))  \n",
        "\n",
        "  train_acc.append( check_acc(model, train_dataloader) )\n",
        "  validation_acc.append( check_acc(model, test_dataloader) )\n",
        "  with open('/content/drive/MyDrive/DL- Danny & Yonatan/Project DL/classification_model/train_acc_drop.npy', 'wb') as f:\n",
        "    pickle.dump(train_acc, f, protocol=4)\n",
        "  with open('/content/drive/MyDrive/DL- Danny & Yonatan/Project DL/classification_model/validation_acc_drop.npy', 'wb') as f:\n",
        "    pickle.dump(validation_acc, f, protocol=4)\n",
        "     "
      ],
      "execution_count": null,
      "outputs": [
        {
          "metadata": {
            "tags": null
          },
          "name": "stderr",
          "output_type": "stream",
          "text": [
            "/usr/local/lib/python3.7/dist-packages/torch/nn/functional.py:718: UserWarning: Named tensors and all their associated APIs are an experimental feature and subject to change. Please do not use them for anything important until they are released as stable. (Triggered internally at  /pytorch/c10/core/TensorImpl.h:1156.)\n",
            "  return torch.max_pool2d(input, kernel_size, stride, padding, dilation, ceil_mode)\n"
          ]
        },
        {
          "output_type": "stream",
          "name": "stdout",
          "text": [
            "[0,     0] loss: 0.733\n",
            "epoch 0,  train loss : 0.658,\n",
            "[1,     0] loss: 0.579\n",
            "epoch 1,  train loss : 0.642,\n",
            "[2,     0] loss: 0.641\n",
            "epoch 2,  train loss : 0.637,\n",
            "[3,     0] loss: 0.631\n",
            "epoch 3,  train loss : 0.632,\n",
            "[4,     0] loss: 0.655\n",
            "epoch 4,  train loss : 0.632,\n",
            "[5,     0] loss: 0.668\n",
            "epoch 5,  train loss : 0.628,\n",
            "[6,     0] loss: 0.645\n",
            "epoch 6,  train loss : 0.625,\n",
            "[7,     0] loss: 0.639\n",
            "epoch 7,  train loss : 0.624,\n",
            "[8,     0] loss: 0.630\n",
            "epoch 8,  train loss : 0.624,\n",
            "[9,     0] loss: 0.586\n",
            "epoch 9,  train loss : 0.622,\n",
            "[10,     0] loss: 0.666\n",
            "epoch 10,  train loss : 0.622,\n",
            "[11,     0] loss: 0.602\n",
            "epoch 11,  train loss : 0.620,\n",
            "[12,     0] loss: 0.604\n",
            "epoch 12,  train loss : 0.619,\n",
            "[13,     0] loss: 0.635\n",
            "epoch 13,  train loss : 0.618,\n",
            "[14,     0] loss: 0.623\n",
            "epoch 14,  train loss : 0.618,\n",
            "[15,     0] loss: 0.633\n",
            "epoch 15,  train loss : 0.616,\n",
            "[16,     0] loss: 0.711\n",
            "epoch 16,  train loss : 0.616,\n",
            "[17,     0] loss: 0.601\n",
            "epoch 17,  train loss : 0.616,\n",
            "[18,     0] loss: 0.573\n",
            "epoch 18,  train loss : 0.613,\n",
            "[19,     0] loss: 0.648\n",
            "epoch 19,  train loss : 0.614,\n",
            "[20,     0] loss: 0.639\n",
            "epoch 20,  train loss : 0.614,\n",
            "[21,     0] loss: 0.577\n",
            "epoch 21,  train loss : 0.612,\n",
            "[22,     0] loss: 0.607\n",
            "epoch 22,  train loss : 0.611,\n",
            "[23,     0] loss: 0.560\n",
            "epoch 23,  train loss : 0.611,\n",
            "[24,     0] loss: 0.623\n",
            "epoch 24,  train loss : 0.611,\n",
            "[25,     0] loss: 0.604\n",
            "epoch 25,  train loss : 0.609,\n",
            "[26,     0] loss: 0.617\n",
            "epoch 26,  train loss : 0.609,\n",
            "[27,     0] loss: 0.598\n",
            "epoch 27,  train loss : 0.609,\n",
            "[28,     0] loss: 0.628\n",
            "epoch 28,  train loss : 0.608,\n",
            "[29,     0] loss: 0.606\n",
            "epoch 29,  train loss : 0.608,\n",
            "[30,     0] loss: 0.732\n",
            "epoch 30,  train loss : 0.609,\n",
            "[31,     0] loss: 0.605\n",
            "epoch 31,  train loss : 0.605,\n",
            "[32,     0] loss: 0.644\n",
            "epoch 32,  train loss : 0.607,\n",
            "[33,     0] loss: 0.726\n",
            "epoch 33,  train loss : 0.606,\n",
            "[34,     0] loss: 0.514\n",
            "epoch 34,  train loss : 0.606,\n",
            "[35,     0] loss: 0.593\n",
            "epoch 35,  train loss : 0.605,\n",
            "[36,     0] loss: 0.605\n",
            "epoch 36,  train loss : 0.606,\n",
            "[37,     0] loss: 0.534\n",
            "epoch 37,  train loss : 0.603,\n",
            "[38,     0] loss: 0.622\n",
            "epoch 38,  train loss : 0.603,\n",
            "[39,     0] loss: 0.663\n",
            "epoch 39,  train loss : 0.604,\n",
            "[40,     0] loss: 0.518\n",
            "epoch 40,  train loss : 0.603,\n",
            "[41,     0] loss: 0.629\n",
            "epoch 41,  train loss : 0.601,\n",
            "[42,     0] loss: 0.621\n",
            "epoch 42,  train loss : 0.602,\n",
            "[43,     0] loss: 0.616\n",
            "epoch 43,  train loss : 0.601,\n",
            "[44,     0] loss: 0.594\n",
            "epoch 44,  train loss : 0.600,\n",
            "[45,     0] loss: 0.628\n",
            "epoch 45,  train loss : 0.600,\n",
            "[46,     0] loss: 0.608\n",
            "epoch 46,  train loss : 0.599,\n",
            "[47,     0] loss: 0.576\n",
            "epoch 47,  train loss : 0.601,\n",
            "[48,     0] loss: 0.638\n",
            "epoch 48,  train loss : 0.598,\n",
            "[49,     0] loss: 0.629\n",
            "epoch 49,  train loss : 0.599,\n",
            "[50,     0] loss: 0.611\n",
            "epoch 50,  train loss : 0.599,\n",
            "[51,     0] loss: 0.544\n",
            "epoch 51,  train loss : 0.599,\n",
            "[52,     0] loss: 0.581\n",
            "epoch 52,  train loss : 0.596,\n",
            "[53,     0] loss: 0.653\n",
            "epoch 53,  train loss : 0.596,\n",
            "[54,     0] loss: 0.513\n",
            "epoch 54,  train loss : 0.596,\n",
            "[55,     0] loss: 0.649\n",
            "epoch 55,  train loss : 0.596,\n",
            "[56,     0] loss: 0.609\n",
            "epoch 56,  train loss : 0.596,\n",
            "[57,     0] loss: 0.656\n",
            "epoch 57,  train loss : 0.595,\n",
            "[58,     0] loss: 0.492\n",
            "epoch 58,  train loss : 0.595,\n",
            "[59,     0] loss: 0.526\n",
            "epoch 59,  train loss : 0.595,\n",
            "[60,     0] loss: 0.601\n",
            "epoch 60,  train loss : 0.594,\n",
            "[61,     0] loss: 0.627\n",
            "epoch 61,  train loss : 0.595,\n",
            "[62,     0] loss: 0.605\n",
            "epoch 62,  train loss : 0.594,\n",
            "[63,     0] loss: 0.623\n",
            "epoch 63,  train loss : 0.593,\n",
            "[64,     0] loss: 0.630\n",
            "epoch 64,  train loss : 0.592,\n",
            "[65,     0] loss: 0.597\n",
            "epoch 65,  train loss : 0.591,\n",
            "[66,     0] loss: 0.559\n",
            "epoch 66,  train loss : 0.592,\n",
            "[67,     0] loss: 0.538\n",
            "epoch 67,  train loss : 0.592,\n",
            "[68,     0] loss: 0.647\n",
            "epoch 68,  train loss : 0.592,\n",
            "[69,     0] loss: 0.611\n",
            "epoch 69,  train loss : 0.591,\n",
            "[70,     0] loss: 0.604\n",
            "epoch 70,  train loss : 0.590,\n",
            "[71,     0] loss: 0.536\n",
            "epoch 71,  train loss : 0.589,\n",
            "[72,     0] loss: 0.485\n",
            "epoch 72,  train loss : 0.590,\n",
            "[73,     0] loss: 0.623\n",
            "epoch 73,  train loss : 0.589,\n",
            "[74,     0] loss: 0.641\n",
            "epoch 74,  train loss : 0.589,\n",
            "[75,     0] loss: 0.592\n",
            "epoch 75,  train loss : 0.588,\n",
            "[76,     0] loss: 0.624\n",
            "epoch 76,  train loss : 0.588,\n",
            "[77,     0] loss: 0.582\n",
            "epoch 77,  train loss : 0.588,\n",
            "[78,     0] loss: 0.606\n",
            "epoch 78,  train loss : 0.589,\n",
            "[79,     0] loss: 0.563\n",
            "epoch 79,  train loss : 0.586,\n",
            "[80,     0] loss: 0.645\n",
            "epoch 80,  train loss : 0.587,\n",
            "[81,     0] loss: 0.560\n",
            "epoch 81,  train loss : 0.586,\n",
            "[82,     0] loss: 0.607\n",
            "epoch 82,  train loss : 0.586,\n",
            "[83,     0] loss: 0.547\n",
            "epoch 83,  train loss : 0.585,\n",
            "[84,     0] loss: 0.574\n",
            "epoch 84,  train loss : 0.586,\n",
            "[85,     0] loss: 0.634\n",
            "epoch 85,  train loss : 0.585,\n",
            "[86,     0] loss: 0.563\n",
            "epoch 86,  train loss : 0.584,\n",
            "[87,     0] loss: 0.620\n",
            "epoch 87,  train loss : 0.586,\n",
            "[88,     0] loss: 0.607\n",
            "epoch 88,  train loss : 0.584,\n",
            "[89,     0] loss: 0.582\n",
            "epoch 89,  train loss : 0.584,\n",
            "[90,     0] loss: 0.575\n",
            "epoch 90,  train loss : 0.584,\n",
            "[91,     0] loss: 0.561\n",
            "epoch 91,  train loss : 0.582,\n",
            "[92,     0] loss: 0.582\n",
            "epoch 92,  train loss : 0.583,\n",
            "[93,     0] loss: 0.584\n",
            "epoch 93,  train loss : 0.582,\n",
            "[94,     0] loss: 0.551\n",
            "epoch 94,  train loss : 0.582,\n",
            "[95,     0] loss: 0.585\n",
            "epoch 95,  train loss : 0.581,\n",
            "[96,     0] loss: 0.622\n",
            "epoch 96,  train loss : 0.581,\n",
            "[97,     0] loss: 0.533\n",
            "epoch 97,  train loss : 0.580,\n",
            "[98,     0] loss: 0.559\n",
            "epoch 98,  train loss : 0.580,\n",
            "[99,     0] loss: 0.540\n",
            "epoch 99,  train loss : 0.580,\n"
          ]
        }
      ]
    },
    {
      "cell_type": "code",
      "metadata": {
        "id": "DKLjukP-G-9m"
      },
      "source": [
        "torch.save(model.state_dict(), main_path+ 'gait_classification_drop.pt') #saving the trained model"
      ],
      "execution_count": null,
      "outputs": []
    },
    {
      "cell_type": "code",
      "metadata": {
        "colab": {
          "base_uri": "https://localhost:8080/",
          "height": 313
        },
        "id": "1KWeCs4zZdJ6",
        "outputId": "a761f6a9-92b3-4208-a5ac-f781dcc34676"
      },
      "source": [
        "import matplotlib.pyplot as plt\n",
        "plt.plot(range(len(train_acc)),train_acc)\n",
        "plt.plot(range(len(train_acc)),validation_acc)\n",
        "plt.title('Accuracy over epochs: LSTM+ Dropout')\n",
        "plt.xlabel('num_epochs')\n",
        "plt.ylabel('accuracy')\n"
      ],
      "execution_count": null,
      "outputs": [
        {
          "output_type": "execute_result",
          "data": {
            "text/plain": [
              "Text(0, 0.5, 'accuracy')"
            ]
          },
          "metadata": {},
          "execution_count": 28
        },
        {
          "output_type": "display_data",
          "data": {
            "image/png": "[encoded data removed]",
            "text/plain": [
              "<Figure size 432x288 with 1 Axes>"
            ]
          },
          "metadata": {
            "needs_background": "light"
          }
        }
      ]
    },
    {
      "cell_type": "markdown",
      "metadata": {
        "id": "CqKJpkIzZ0hD"
      },
      "source": [
        "validation accuracy is close to train acc, due to dropout that prevent overfitting"
      ]
    },
    {
      "cell_type": "code",
      "metadata": {
        "colab": {
          "base_uri": "https://localhost:8080/",
          "height": 312
        },
        "id": "OvLmYMtGZqnJ",
        "outputId": "eb158a09-5e99-4dc6-abba-f0b19d90393f"
      },
      "source": [
        "plt.plot(all_train_loss)\n",
        "plt.title('Loss over epochs: Dropout (LSTM)')\n",
        "plt.xlabel('epochs')\n",
        "plt.ylabel('loss')"
      ],
      "execution_count": null,
      "outputs": [
        {
          "output_type": "execute_result",
          "data": {
            "text/plain": [
              "Text(0, 0.5, 'loss')"
            ]
          },
          "metadata": {},
          "execution_count": 29
        },
        {
          "output_type": "display_data",
          "data": {
            "image/png": "[encoded data removed]",
            "text/plain": [
              "<Figure size 432x288 with 1 Axes>"
            ]
          },
          "metadata": {
            "needs_background": "light"
          }
        }
      ]
    },
    {
      "cell_type": "markdown",
      "metadata": {
        "id": "EuJLBytzudEu"
      },
      "source": [
        "CNN+GRU (dropout)"
      ]
    },
    {
      "cell_type": "code",
      "metadata": {
        "id": "UwISAznAvb0e"
      },
      "source": [
        "n_inputs = 3 \n",
        "n_steps = 128\n",
        "n_epochs=100\n",
        "gru_dim = 64\n",
        "layers = 2\n",
        "GRUmodelDrop = GRUDrop(n_inputs, n_steps, gru_dim, layers).to(device)"
      ],
      "execution_count": null,
      "outputs": []
    },
    {
      "cell_type": "code",
      "metadata": {
        "id": "vZZlBZF7vBTq"
      },
      "source": [
        "CNNmodelDrop = CNNDrop().to(device)\n",
        "model = MainGRUDrop(CNNmodelDrop, GRUmodelDrop).to(device)\n",
        "optimizer = optim.Adam(model.parameters(), lr=learning_rate)\n",
        "criterion = nn.CrossEntropyLoss()"
      ],
      "execution_count": null,
      "outputs": []
    },
    {
      "cell_type": "code",
      "metadata": {
        "id": "kUayLLIpuoQs"
      },
      "source": [
        "def check_acc(model, loader):\n",
        "    correct = 0\n",
        "    total = 0\n",
        "    #TP=0\n",
        "    #TN=0\n",
        "    #FP=0\n",
        "    #FN=0\n",
        "    with torch.no_grad():\n",
        "        for data in loader:\n",
        "            states = model.init_states()\n",
        "            features, labels = data\n",
        "            states = states.data\n",
        "            outputs = model(features.to(device),states)\n",
        "            _, predictions = outputs.max(1)\n",
        "            total += labels.size(0)\n",
        "            correct += torch.sum(predictions==labels.long().to(device))\n",
        "            #TP+= ((predicted == labels) & (labels==1)).sum().item()\n",
        "            #TN+=((predicted == labels) & (labels==0)).sum().item()\n",
        "            #FP+=((predicted != labels) & (labels==0)).sum().item()\n",
        "            #FN+=((predicted != labels) & (labels==1)).sum().item()\n",
        "            \n",
        "    acc = (100 * correct / total)\n",
        "    #precision=100*(TP/(1+TP+FP))\n",
        "    #sensitivity=100*(TP/(1+TP+FN))\n",
        "    #specificity=100*(TN/(1+TN+FP))\n",
        "    if loader=='train_dataloader':\n",
        "      print('Accuracy on the training set is : %.3f %%' % acc)\n",
        "    elif loader=='test_dataloader':\n",
        "      print('Accuracy on the validation set is: %.3f %%' % acc)\n",
        "    \n",
        "    return acc"
      ],
      "execution_count": null,
      "outputs": []
    },
    {
      "cell_type": "code",
      "metadata": {
        "colab": {
          "base_uri": "https://localhost:8080/"
        },
        "id": "DXT0kytQuoQt",
        "outputId": "7bc37d84-b58e-462b-eda5-bf270e2e7e74"
      },
      "source": [
        "all_train_loss_gru_drop = []\n",
        "train_acc_gru_drop=[]\n",
        "validation_acc_gru_drop=[]\n",
        "\n",
        "\n",
        "for epoch in range(n_epochs):\n",
        "      \n",
        "  states = model.init_states()\n",
        "  model.train()\n",
        "  train_loss = []\n",
        "  for batch_idx, (data, labels) in enumerate(train_dataloader):\n",
        "    \n",
        "    states = states.data\n",
        "\n",
        "    preds = model(data.to(device), states)\n",
        "\n",
        "    #loss = F.cross_entropy(preds, labels.to(device))\n",
        "    loss = criterion(preds, labels.long().to(device))\n",
        "    optimizer.zero_grad()\n",
        "    loss.backward()\n",
        "    optimizer.step()\n",
        "\n",
        "    bach_loss = loss.item()\n",
        "\n",
        "    train_loss.append(bach_loss)\n",
        "    if batch_idx % 500 == 0:    \n",
        "         print('[%d, %5d] loss: %.3f' %\n",
        "               (epoch, batch_idx, bach_loss))\n",
        "         \n",
        "  epochloss = np.average(train_loss)\n",
        "  all_train_loss_gru_drop.append(epochloss)\n",
        "  #model.eval()\n",
        "\n",
        "  print(\"epoch %d,  train loss : %.3f,\" % (epoch, epochloss))  \n",
        "\n",
        "  train_acc_gru_drop.append( check_acc(model, train_dataloader) )\n",
        "  validation_acc_gru_drop.append( check_acc(model, test_dataloader) )\n",
        "\n",
        "   "
      ],
      "execution_count": null,
      "outputs": [
        {
          "output_type": "stream",
          "name": "stderr",
          "text": [
            "/usr/local/lib/python3.7/dist-packages/torch/nn/functional.py:718: UserWarning: Named tensors and all their associated APIs are an experimental feature and subject to change. Please do not use them for anything important until they are released as stable. (Triggered internally at  /pytorch/c10/core/TensorImpl.h:1156.)\n",
            "  return torch.max_pool2d(input, kernel_size, stride, padding, dilation, ceil_mode)\n"
          ]
        },
        {
          "output_type": "stream",
          "name": "stdout",
          "text": [
            "[0,     0] loss: 0.719\n",
            "epoch 0,  train loss : 0.658,\n",
            "[1,     0] loss: 0.671\n",
            "epoch 1,  train loss : 0.644,\n",
            "[2,     0] loss: 0.669\n",
            "epoch 2,  train loss : 0.639,\n",
            "[3,     0] loss: 0.640\n",
            "epoch 3,  train loss : 0.635,\n",
            "[4,     0] loss: 0.645\n",
            "epoch 4,  train loss : 0.632,\n",
            "[5,     0] loss: 0.659\n",
            "epoch 5,  train loss : 0.631,\n",
            "[6,     0] loss: 0.639\n",
            "epoch 6,  train loss : 0.629,\n",
            "[7,     0] loss: 0.637\n",
            "epoch 7,  train loss : 0.627,\n",
            "[8,     0] loss: 0.546\n",
            "epoch 8,  train loss : 0.625,\n",
            "[9,     0] loss: 0.646\n",
            "epoch 9,  train loss : 0.625,\n",
            "[10,     0] loss: 0.616\n",
            "epoch 10,  train loss : 0.623,\n",
            "[11,     0] loss: 0.625\n",
            "epoch 11,  train loss : 0.622,\n",
            "[12,     0] loss: 0.580\n",
            "epoch 12,  train loss : 0.620,\n",
            "[13,     0] loss: 0.624\n",
            "epoch 13,  train loss : 0.620,\n",
            "[14,     0] loss: 0.610\n",
            "epoch 14,  train loss : 0.618,\n",
            "[15,     0] loss: 0.610\n",
            "epoch 15,  train loss : 0.618,\n",
            "[16,     0] loss: 0.605\n",
            "epoch 16,  train loss : 0.619,\n",
            "[17,     0] loss: 0.739\n",
            "epoch 17,  train loss : 0.617,\n",
            "[18,     0] loss: 0.636\n",
            "epoch 18,  train loss : 0.616,\n",
            "[19,     0] loss: 0.597\n",
            "epoch 19,  train loss : 0.615,\n",
            "[20,     0] loss: 0.558\n",
            "epoch 20,  train loss : 0.615,\n",
            "[21,     0] loss: 0.683\n",
            "epoch 21,  train loss : 0.614,\n",
            "[22,     0] loss: 0.658\n",
            "epoch 22,  train loss : 0.614,\n",
            "[23,     0] loss: 0.562\n",
            "epoch 23,  train loss : 0.614,\n",
            "[24,     0] loss: 0.651\n",
            "epoch 24,  train loss : 0.611,\n",
            "[25,     0] loss: 0.596\n",
            "epoch 25,  train loss : 0.610,\n",
            "[26,     0] loss: 0.635\n",
            "epoch 26,  train loss : 0.613,\n",
            "[27,     0] loss: 0.613\n",
            "epoch 27,  train loss : 0.611,\n",
            "[28,     0] loss: 0.560\n",
            "epoch 28,  train loss : 0.609,\n",
            "[29,     0] loss: 0.579\n",
            "epoch 29,  train loss : 0.608,\n",
            "[30,     0] loss: 0.657\n",
            "epoch 30,  train loss : 0.610,\n",
            "[31,     0] loss: 0.601\n",
            "epoch 31,  train loss : 0.607,\n",
            "[32,     0] loss: 0.636\n",
            "epoch 32,  train loss : 0.607,\n",
            "[33,     0] loss: 0.663\n",
            "epoch 33,  train loss : 0.606,\n",
            "[34,     0] loss: 0.657\n",
            "epoch 34,  train loss : 0.606,\n",
            "[35,     0] loss: 0.658\n",
            "epoch 35,  train loss : 0.604,\n",
            "[36,     0] loss: 0.576\n",
            "epoch 36,  train loss : 0.605,\n",
            "[37,     0] loss: 0.627\n",
            "epoch 37,  train loss : 0.605,\n",
            "[38,     0] loss: 0.601\n",
            "epoch 38,  train loss : 0.603,\n",
            "[39,     0] loss: 0.585\n",
            "epoch 39,  train loss : 0.603,\n",
            "[40,     0] loss: 0.519\n",
            "epoch 40,  train loss : 0.604,\n",
            "[41,     0] loss: 0.587\n",
            "epoch 41,  train loss : 0.604,\n",
            "[42,     0] loss: 0.648\n",
            "epoch 42,  train loss : 0.602,\n",
            "[43,     0] loss: 0.561\n",
            "epoch 43,  train loss : 0.602,\n",
            "[44,     0] loss: 0.596\n",
            "epoch 44,  train loss : 0.602,\n",
            "[45,     0] loss: 0.614\n",
            "epoch 45,  train loss : 0.602,\n",
            "[46,     0] loss: 0.544\n",
            "epoch 46,  train loss : 0.600,\n",
            "[47,     0] loss: 0.598\n",
            "epoch 47,  train loss : 0.600,\n",
            "[48,     0] loss: 0.600\n",
            "epoch 48,  train loss : 0.601,\n",
            "[49,     0] loss: 0.585\n",
            "epoch 49,  train loss : 0.600,\n",
            "[50,     0] loss: 0.589\n",
            "epoch 50,  train loss : 0.598,\n",
            "[51,     0] loss: 0.607\n",
            "epoch 51,  train loss : 0.599,\n",
            "[52,     0] loss: 0.618\n",
            "epoch 52,  train loss : 0.597,\n",
            "[53,     0] loss: 0.578\n",
            "epoch 53,  train loss : 0.598,\n",
            "[54,     0] loss: 0.604\n",
            "epoch 54,  train loss : 0.597,\n",
            "[55,     0] loss: 0.614\n",
            "epoch 55,  train loss : 0.596,\n",
            "[56,     0] loss: 0.610\n",
            "epoch 56,  train loss : 0.596,\n",
            "[57,     0] loss: 0.634\n",
            "epoch 57,  train loss : 0.595,\n",
            "[58,     0] loss: 0.489\n",
            "epoch 58,  train loss : 0.596,\n",
            "[59,     0] loss: 0.561\n",
            "epoch 59,  train loss : 0.594,\n",
            "[60,     0] loss: 0.615\n",
            "epoch 60,  train loss : 0.594,\n",
            "[61,     0] loss: 0.557\n",
            "epoch 61,  train loss : 0.592,\n",
            "[62,     0] loss: 0.610\n",
            "epoch 62,  train loss : 0.593,\n",
            "[63,     0] loss: 0.681\n",
            "epoch 63,  train loss : 0.594,\n",
            "[64,     0] loss: 0.560\n",
            "epoch 64,  train loss : 0.594,\n",
            "[65,     0] loss: 0.595\n",
            "epoch 65,  train loss : 0.594,\n",
            "[66,     0] loss: 0.614\n",
            "epoch 66,  train loss : 0.592,\n",
            "[67,     0] loss: 0.592\n",
            "epoch 67,  train loss : 0.592,\n",
            "[68,     0] loss: 0.564\n",
            "epoch 68,  train loss : 0.591,\n",
            "[69,     0] loss: 0.614\n",
            "epoch 69,  train loss : 0.592,\n",
            "[70,     0] loss: 0.646\n",
            "epoch 70,  train loss : 0.591,\n",
            "[71,     0] loss: 0.555\n",
            "epoch 71,  train loss : 0.589,\n",
            "[72,     0] loss: 0.551\n",
            "epoch 72,  train loss : 0.591,\n",
            "[73,     0] loss: 0.533\n",
            "epoch 73,  train loss : 0.588,\n",
            "[74,     0] loss: 0.501\n",
            "epoch 74,  train loss : 0.589,\n",
            "[75,     0] loss: 0.593\n",
            "epoch 75,  train loss : 0.589,\n",
            "[76,     0] loss: 0.580\n",
            "epoch 76,  train loss : 0.588,\n",
            "[77,     0] loss: 0.575\n",
            "epoch 77,  train loss : 0.590,\n",
            "[78,     0] loss: 0.543\n",
            "epoch 78,  train loss : 0.588,\n",
            "[79,     0] loss: 0.555\n",
            "epoch 79,  train loss : 0.587,\n",
            "[80,     0] loss: 0.606\n",
            "epoch 80,  train loss : 0.587,\n",
            "[81,     0] loss: 0.565\n",
            "epoch 81,  train loss : 0.586,\n",
            "[82,     0] loss: 0.660\n",
            "epoch 82,  train loss : 0.586,\n",
            "[83,     0] loss: 0.543\n",
            "epoch 83,  train loss : 0.585,\n",
            "[84,     0] loss: 0.487\n",
            "epoch 84,  train loss : 0.585,\n",
            "[85,     0] loss: 0.541\n",
            "epoch 85,  train loss : 0.587,\n",
            "[86,     0] loss: 0.556\n",
            "epoch 86,  train loss : 0.584,\n",
            "[87,     0] loss: 0.627\n",
            "epoch 87,  train loss : 0.584,\n",
            "[88,     0] loss: 0.548\n",
            "epoch 88,  train loss : 0.585,\n",
            "[89,     0] loss: 0.516\n",
            "epoch 89,  train loss : 0.584,\n",
            "[90,     0] loss: 0.484\n",
            "epoch 90,  train loss : 0.582,\n",
            "[91,     0] loss: 0.553\n",
            "epoch 91,  train loss : 0.584,\n",
            "[92,     0] loss: 0.514\n",
            "epoch 92,  train loss : 0.582,\n",
            "[93,     0] loss: 0.572\n",
            "epoch 93,  train loss : 0.582,\n",
            "[94,     0] loss: 0.704\n",
            "epoch 94,  train loss : 0.582,\n",
            "[95,     0] loss: 0.518\n",
            "epoch 95,  train loss : 0.581,\n",
            "[96,     0] loss: 0.585\n",
            "epoch 96,  train loss : 0.582,\n",
            "[97,     0] loss: 0.541\n",
            "epoch 97,  train loss : 0.581,\n",
            "[98,     0] loss: 0.500\n",
            "epoch 98,  train loss : 0.580,\n",
            "[99,     0] loss: 0.572\n",
            "epoch 99,  train loss : 0.581,\n"
          ]
        }
      ]
    },
    {
      "cell_type": "code",
      "metadata": {
        "id": "IY3TMcxJyaSS"
      },
      "source": [
        "torch.save(model.state_dict(), main_path+ 'gait_classification_gru_drop.pt') #saving the trained model"
      ],
      "execution_count": null,
      "outputs": []
    },
    {
      "cell_type": "code",
      "metadata": {
        "id": "eKHR1KCSuoQu"
      },
      "source": [
        "  with open('/content/drive/MyDrive/DL- Danny & Yonatan/Project DL/classification_model/train_acc_gru_drop.npy', 'wb') as f:\n",
        "    pickle.dump(train_acc_gru_drop, f, protocol=4)\n",
        "  with open('/content/drive/MyDrive/DL- Danny & Yonatan/Project DL/classification_model/validation_acc_gru_drop.npy', 'wb') as f:\n",
        "    pickle.dump(validation_acc_gru_drop, f, protocol=4)"
      ],
      "execution_count": null,
      "outputs": []
    },
    {
      "cell_type": "code",
      "metadata": {
        "colab": {
          "base_uri": "https://localhost:8080/",
          "height": 313
        },
        "id": "zXne9Hx1uoQv",
        "outputId": "dc50ab6f-a54c-4845-a7f4-1acfd057f060"
      },
      "source": [
        "import matplotlib.pyplot as plt\n",
        "plt.plot(range(len(train_acc_gru_drop)),train_acc_gru_drop)\n",
        "plt.plot(range(len(validation_acc_gru_drop)),validation_acc_gru_drop)\n",
        "plt.title('Accuracy over epochs: GRU with dropout')\n",
        "plt.xlabel('num_epochs')\n",
        "plt.ylabel('accuracy')\n"
      ],
      "execution_count": null,
      "outputs": [
        {
          "output_type": "execute_result",
          "data": {
            "text/plain": [
              "Text(0, 0.5, 'accuracy')"
            ]
          },
          "metadata": {},
          "execution_count": 37
        },
        {
          "output_type": "display_data",
          "data": {
            "image/png": "[encoded data removed]",
            "text/plain": [
              "<Figure size 432x288 with 1 Axes>"
            ]
          },
          "metadata": {
            "needs_background": "light"
          }
        }
      ]
    },
    {
      "cell_type": "code",
      "metadata": {
        "colab": {
          "base_uri": "https://localhost:8080/",
          "height": 312
        },
        "id": "zEfwfY3XuoQv",
        "outputId": "a97c5fe3-b804-4dfd-ffc5-8a8baee62922"
      },
      "source": [
        "plt.plot(all_train_loss_gru_drop)\n",
        "plt.title('Loss over epochs')\n",
        "plt.xlabel('epochs')\n",
        "plt.ylabel('loss')"
      ],
      "execution_count": null,
      "outputs": [
        {
          "output_type": "execute_result",
          "data": {
            "text/plain": [
              "Text(0, 0.5, 'loss')"
            ]
          },
          "metadata": {},
          "execution_count": 38
        },
        {
          "output_type": "display_data",
          "data": {
            "image/png": "[encoded data removed]",
            "text/plain": [
              "<Figure size 432x288 with 1 Axes>"
            ]
          },
          "metadata": {
            "needs_background": "light"
          }
        }
      ]
    },
    {
      "cell_type": "markdown",
      "metadata": {
        "id": "0Tnmi2BuDBqQ"
      },
      "source": [
        "# Load the trained models"
      ]
    }
  ]
}