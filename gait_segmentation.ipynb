{
  "nbformat": 4,
  "nbformat_minor": 0,
  "metadata": {
    "colab": {
      "name": "gait_segmentation.ipynb",
      "provenance": [],
      "collapsed_sections": [],
      "include_colab_link": true
    },
    "kernelspec": {
      "display_name": "Python 3",
      "name": "python3"
    },
    "language_info": {
      "name": "python"
    },
    "accelerator": "GPU"
  },
  "cells": [
    {
      "cell_type": "markdown",
      "metadata": {
        "id": "view-in-github",
        "colab_type": "text"
      },
      "source": [
        "<a href=\"https://colab.research.google.com/github/yonbrand/Gait-Recognition/blob/main/gait_segmentation.ipynb\" target=\"_parent\"><img src=\"https://colab.research.google.com/assets/colab-badge.svg\" alt=\"Open In Colab\"/></a>"
      ]
    },
    {
      "cell_type": "markdown",
      "metadata": {
        "id": "HlUL3mzq-5XR"
      },
      "source": [
        "## Gait Segmentation\n",
        "This code aims to take an acceleration raw data from daily-living, and extract the gait (walking) episodes during the recording period.\n",
        "This code is based on the original paper code: https://github.com/qinnzou/Gait-Recognition-Using-Smartphones/blob/master/code/gait-extraction/tf_seg_new.ipynb\n",
        "\n",
        "Converted from TensorFlow to Pytorch"
      ]
    },
    {
      "cell_type": "code",
      "metadata": {
        "colab": {
          "base_uri": "https://localhost:8080/"
        },
        "id": "ts9ugKeiV0V3",
        "outputId": "6bcf2589-7c9d-43e5-8b6f-af6f6b6655e8"
      },
      "source": [
        "from google.colab import drive\n",
        "drive.mount('/content/drive', force_remount=True)"
      ],
      "execution_count": 1,
      "outputs": [
        {
          "output_type": "stream",
          "name": "stdout",
          "text": [
            "Mounted at /content/drive\n"
          ]
        }
      ]
    },
    {
      "cell_type": "code",
      "metadata": {
        "colab": {
          "base_uri": "https://localhost:8080/"
        },
        "id": "xaobT1jWV7ya",
        "outputId": "d17845cf-9dee-4f87-9f8a-77ebccb213e7"
      },
      "source": [
        "import os \n",
        "import numpy as np\n",
        "import pandas as pd\n",
        "from numpy import genfromtxt\n",
        "\n",
        "import torch\n",
        "import torch.nn as nn\n",
        "import torch.optim as optim\n",
        "import torch.nn.functional as F\n",
        "from torch.utils.data import TensorDataset, DataLoader\n",
        "import torchvision\n",
        "import torchvision.transforms as transforms\n",
        "\n",
        "import pickle\n",
        "\n",
        "from sklearn.model_selection import train_test_split\n",
        "\n",
        "\n",
        "cuda = True if torch.cuda.is_available() else False\n",
        "device = torch.device(\"cuda\" if torch.cuda.is_available() else \"cpu\")\n",
        "device"
      ],
      "execution_count": 2,
      "outputs": [
        {
          "output_type": "execute_result",
          "data": {
            "text/plain": [
              "device(type='cuda')"
            ]
          },
          "metadata": {},
          "execution_count": 2
        }
      ]
    },
    {
      "cell_type": "markdown",
      "metadata": {
        "id": "3mu339m_-Yig"
      },
      "source": [
        "# Load the data"
      ]
    },
    {
      "cell_type": "code",
      "metadata": {
        "id": "cAq29k8A3fAO"
      },
      "source": [
        "def read_data(data_path,alpha):\n",
        "  file_names = os.listdir(data_path)\n",
        "  all_data=np.empty((0,1,3,1024))\n",
        "  for ind in file_names:\n",
        "    curr_file=str(data_path+'/'+ind)\n",
        "    df=pd.read_csv(curr_file, header=None)\n",
        "    if data_path==HC_path:\n",
        "      df=pd.read_csv(curr_file)\n",
        "      df=df.iloc[:,2:] #the Healty control (HC) dataset includes 5 columns but we need only 3 columns (3 acceleration axes)\n",
        "    df=df.iloc[:int(np.floor(alpha*len(df))),:] #there is a plenty of data, which make it hard to use google colab RAM. Therefore we took 20% of the data from each participant\n",
        "    data_np = np.array(df)\n",
        "    n_counts = 1024\n",
        "    data_n=data_np[0:((len(data_np)//n_counts)*n_counts)] #remove part of the data for dividing without residual\n",
        "    sample_data=data_n.reshape((len(data_n)//n_counts),1,3,n_counts) #divide the data to samples in length of 1024\n",
        "    all_data=np.append(all_data,sample_data,axis=0)    \n",
        "  return all_data\n",
        "\n",
        "\n",
        "def read_labels(label_path,alpha):\n",
        "  file_names = os.listdir(label_path)\n",
        "  all_labels=np.empty((0,1024))\n",
        "  for ind in file_names:\n",
        "    curr_file=str(label_path+'/'+ind)\n",
        "    df=pd.read_csv(curr_file, header=None)\n",
        "    df=df.iloc[:int(np.floor(alpha*len(df))),:]\n",
        "    labels_np = np.array(df)\n",
        "    labels_n=labels_np[0:((len(labels_np)//1024)*1024)]\n",
        "    sample_labels=labels_n.reshape((len(labels_n)//1024),1024)\n",
        "    all_labels=np.append(all_labels,sample_labels,axis=0) \n",
        "  return all_labels"
      ],
      "execution_count": null,
      "outputs": []
    },
    {
      "cell_type": "code",
      "metadata": {
        "id": "Vcgz_ecKSQ0S"
      },
      "source": [
        "main_path='/content/drive/MyDrive/DL- Danny & Yonatan/Project DL/'"
      ],
      "execution_count": null,
      "outputs": []
    },
    {
      "cell_type": "code",
      "metadata": {
        "id": "YPv-5zwNii4k"
      },
      "source": [
        "train_data_path='/content/drive/MyDrive/DL- Danny & Yonatan/Project DL/Data PD/Data'\n",
        "train_label_path='/content/drive/MyDrive/DL- Danny & Yonatan/Project DL/Data PD/labels'"
      ],
      "execution_count": null,
      "outputs": []
    },
    {
      "cell_type": "code",
      "metadata": {
        "id": "S4JTk73sXyuv",
        "colab": {
          "base_uri": "https://localhost:8080/"
        },
        "outputId": "f52d34c1-d1d0-4e63-ce96-687a680f383c"
      },
      "source": [
        "os.path.isdir(train_data_path)\n"
      ],
      "execution_count": null,
      "outputs": [
        {
          "output_type": "execute_result",
          "data": {
            "text/plain": [
              "True"
            ]
          },
          "metadata": {},
          "execution_count": 6
        }
      ]
    },
    {
      "cell_type": "code",
      "metadata": {
        "id": "oLm8kF0jibCt"
      },
      "source": [
        "HC_path='/content/drive/MyDrive/DL- Danny & Yonatan/Project DL/Data Healthy'"
      ],
      "execution_count": null,
      "outputs": []
    },
    {
      "cell_type": "code",
      "metadata": {
        "id": "gBqZs-hoUG7V"
      },
      "source": [
        "data = read_data(train_data_path,0.2) \n",
        "#with open('/content/drive/MyDrive/DL- Danny & Yonatan/Project DL/segmentation_data/data_seg.npy', 'wb') as f:\n",
        "#    pickle.dump(data, f, protocol=4)"
      ],
      "execution_count": null,
      "outputs": []
    },
    {
      "cell_type": "code",
      "metadata": {
        "id": "AD3A-mrFLGY4"
      },
      "source": [
        "labels = read_labels(train_label_path,0.2) \n",
        "#with open('/content/drive/MyDrive/DL- Danny & Yonatan/Project DL/segmentation_data/labels_seg.npy', 'wb') as f:\n",
        "#    pickle.dump(labels, f, protocol=4)"
      ],
      "execution_count": null,
      "outputs": []
    },
    {
      "cell_type": "code",
      "metadata": {
        "id": "H_FeqPumI-16"
      },
      "source": [
        "data_pickle = open (\"/content/drive/MyDrive/DL- Danny & Yonatan/Project DL/segmentation_data/data_seg.npy\", \"rb\")\n",
        "data = pickle.load(data_pickle)"
      ],
      "execution_count": 3,
      "outputs": []
    },
    {
      "cell_type": "code",
      "metadata": {
        "id": "i3TkRbCCNdfy"
      },
      "source": [
        "labels_pickle = open (\"/content/drive/MyDrive/DL- Danny & Yonatan/Project DL/segmentation_data/labels_seg.npy\", \"rb\")\n",
        "labels = pickle.load(labels_pickle)"
      ],
      "execution_count": null,
      "outputs": []
    },
    {
      "cell_type": "code",
      "metadata": {
        "id": "q_sQBDQmtLjh"
      },
      "source": [
        "#split the data to train and test\n",
        "X_train, X_test, y_train, y_test = train_test_split(data[:int(np.floor(0.3*data.shape[0]))], labels[:int(np.floor(0.3*labels.shape[0]))], test_size=0.33) #here we also reduce the number of samples for running time and memory reasons"
      ],
      "execution_count": null,
      "outputs": []
    },
    {
      "cell_type": "markdown",
      "metadata": {
        "id": "134AMPev-U__"
      },
      "source": [
        "Network Architecture"
      ]
    },
    {
      "cell_type": "code",
      "metadata": {
        "id": "Pg55CbhwDzGf"
      },
      "source": [
        "class Network(nn.Module):\n",
        "    def __init__(self):\n",
        "        super().__init__()\n",
        "\n",
        "        self.conv1_1 = nn.Conv2d(in_channels=1, out_channels=64, kernel_size=[1,16])\n",
        "        self.conv1_2 = nn.Conv2d(in_channels=64, out_channels=64, kernel_size=[1,16])\n",
        "\n",
        "        self.conv2_1 = nn.Conv2d(in_channels=64, out_channels=128, kernel_size=[1,16])\n",
        "        self.conv2_2 = nn.Conv2d(in_channels=128, out_channels=128, kernel_size=[1,16])\n",
        "\n",
        "        self.conv3_1 = nn.Conv2d(in_channels=128, out_channels=256, kernel_size=[1,16])\n",
        "        self.conv3_2 = nn.Conv2d(in_channels=256, out_channels=256, kernel_size=[1,16])\n",
        "\n",
        "        self.convTranspose1 = nn.ConvTranspose2d(256, 128, (1, 2), stride=(1, 2))\n",
        "        self.conv2_5 = nn.Conv2d(in_channels=256, out_channels=128, kernel_size=[1,16])\n",
        "        self.conv2_6 = nn.Conv2d(in_channels=128, out_channels=128, kernel_size=[1,16])\n",
        "\n",
        "        self.convTranspose2 = nn.ConvTranspose2d(128, 64, (1, 2), stride=(1, 2))\n",
        "        self.conv1_4 = nn.Conv2d(in_channels=128, out_channels=64, kernel_size=[1,16])\n",
        "        self.conv1_4_2 = nn.Conv2d(in_channels=64, out_channels=64, kernel_size=[1,16])\n",
        "        self.conv1_5 = nn.Conv2d(in_channels=64, out_channels=256, kernel_size=[3,1])\n",
        "        self.conv1_6 = nn.Conv2d(in_channels=256, out_channels=1, kernel_size=1)\n",
        "\n",
        "  # define forward function\n",
        "    def forward(self, x):\n",
        "        pad_x = nn.ReflectionPad2d((7, 8, 0, 0))(x)\n",
        "\n",
        "        conv1_1 = F.relu( self.conv1_1(pad_x) )\n",
        "        conv1_1 = nn.ReflectionPad2d((7, 8, 0, 0))(conv1_1)\n",
        "        conv1_2 = F.relu( self.conv1_2(conv1_1) )\n",
        "\n",
        "        conv2_1 = nn.MaxPool2d(kernel_size=[1,2], stride=[1,2])(conv1_2)\n",
        "\n",
        "        conv2_1 = nn.ReflectionPad2d((7, 8, 0, 0 ))(conv2_1)\n",
        "        conv2_2 = F.relu( self.conv2_1(conv2_1) )\n",
        "        conv2_2 = nn.ReflectionPad2d((7, 8, 0, 0 ))(conv2_2)\n",
        "        conv2_3 = F.relu( self.conv2_2(conv2_2) )\n",
        "\n",
        "        conv3_1 = nn.MaxPool2d(kernel_size=[1,2], stride=[1,2])(conv2_3)\n",
        "\n",
        "        conv3_1 = nn.ReflectionPad2d((7, 8, 0, 0))(conv3_1)\n",
        "        conv3_2 = F.relu( self.conv3_1(conv3_1) )\n",
        "        conv3_2 = nn.ReflectionPad2d((7, 8, 0, 0))(conv3_2)\n",
        "        conv3_3 = F.relu( self.conv3_2(conv3_2) )\n",
        "        conv3_3 = nn.ReflectionPad2d((7, 8, 0, 0))(conv3_3)\n",
        "        conv3_4 = F.relu( self.conv3_2(conv3_3) )\n",
        "\n",
        "        conv2_4_1 = self.convTranspose1(conv3_4)\n",
        "        conv2_4 = torch.cat((conv2_4_1, conv2_3), 1)\n",
        "        conv2_4 = nn.ReflectionPad2d((7, 8, 0, 0))(conv2_4)\n",
        "        conv2_5 = F.relu( self.conv2_5(conv2_4) )\n",
        "        conv2_5 = nn.ReflectionPad2d((7, 8, 0, 0))(conv2_5)\n",
        "        conv2_6 = F.relu( self.conv2_6(conv2_5) )\n",
        "\n",
        "        conv1_3_1 = self.convTranspose2(conv2_6)\n",
        "        conv1_3 = torch.cat((conv1_2, conv1_3_1), 1)\n",
        "        conv1_3 = nn.ReflectionPad2d((7, 8, 0, 0))(conv1_3)\n",
        "        conv1_4 = F.relu( self.conv1_4(conv1_3) )\n",
        "        conv1_4 = nn.ReflectionPad2d((7, 8, 0, 0))(conv1_4)\n",
        "        conv1_4 = F.relu( self.conv1_4_2(conv1_4) )\n",
        "        conv1_5 = F.relu( self.conv1_5(conv1_4) )\n",
        "        conv1_6 = torch.sigmoid( self.conv1_6(conv1_5) )\n",
        "\n",
        "        out = torch.reshape(conv1_6, (-1, 1024))\n",
        "\n",
        "        return out"
      ],
      "execution_count": null,
      "outputs": []
    },
    {
      "cell_type": "code",
      "metadata": {
        "id": "K0wfiUB9iChi"
      },
      "source": [
        "# Training Parameters\n",
        "learning_rate = 0.00001\n",
        "num_steps =30\n",
        "batch_size = 32 \n",
        "display_step = 1\n",
        "criterion = nn.BCELoss()\n",
        "data_len = len(X_train)"
      ],
      "execution_count": null,
      "outputs": []
    },
    {
      "cell_type": "code",
      "metadata": {
        "id": "f89qEohlfwIN"
      },
      "source": [
        "tensor_x_train = torch.Tensor(X_train).float().to(device) # transform to torch tensor\n",
        "tensor_y_train = torch.Tensor(y_train).float().to(device)\n",
        "\n",
        "train_dataset = TensorDataset(tensor_x_train,tensor_y_train) # create your datset\n",
        "train_dataloader = DataLoader(train_dataset, batch_size = batch_size, shuffle=True) # create your dataloader\n",
        "\n",
        "\n",
        "tensor_x_test = torch.Tensor(X_test).float().to(device) # transform to torch tensor\n",
        "tensor_y_test = torch.Tensor(y_test).float().to(device)\n",
        "\n",
        "test_dataset = TensorDataset(tensor_x_test,tensor_y_test) # create your datset\n",
        "test_dataloader = DataLoader(test_dataset) # create your dataloader\n",
        "\n"
      ],
      "execution_count": null,
      "outputs": []
    },
    {
      "cell_type": "code",
      "metadata": {
        "colab": {
          "base_uri": "https://localhost:8080/"
        },
        "id": "i9Fh6cx75nQ0",
        "outputId": "13869993-2972-41a3-d0ae-4035e73ac6b4"
      },
      "source": [
        "print(tensor_x_train.shape)\n",
        "print(tensor_y_train.shape)\n",
        "print(tensor_x_test.shape)\n",
        "print(tensor_y_test.shape)\n"
      ],
      "execution_count": null,
      "outputs": [
        {
          "output_type": "stream",
          "name": "stdout",
          "text": [
            "torch.Size([3893, 1, 3, 1024])\n",
            "torch.Size([3893, 1024])\n",
            "torch.Size([1918, 1, 3, 1024])\n",
            "torch.Size([1918, 1024])\n"
          ]
        }
      ]
    },
    {
      "cell_type": "code",
      "metadata": {
        "id": "2urcO9RViI54"
      },
      "source": [
        "model = Network().to(device)\n",
        "optimizer = optim.Adam(model.parameters(), lr=learning_rate)"
      ],
      "execution_count": null,
      "outputs": []
    },
    {
      "cell_type": "code",
      "metadata": {
        "id": "cAws7BXboXZJ"
      },
      "source": [
        "def my_loss(y_,output_map):\n",
        "  t0 = y_*torch.log(torch.clamp(output_map,1e-10,1.0))\n",
        "  t1 = (1-y_)*torch.log(torch.clamp(1-output_map,1e-10,1.0))\n",
        "  return -torch.mean( t0 + t1)\n",
        "  #return -torch.mean( y_*torch.log(torch.clamp(output_map,1e-10,1.0)) +(1-y_)*torch.log(torch.clamp(1-output_map,1e-10,1.0)))"
      ],
      "execution_count": null,
      "outputs": []
    },
    {
      "cell_type": "code",
      "metadata": {
        "id": "U2MFB7se-3D4"
      },
      "source": [
        "def check_acc(model, loader):\n",
        "    correct = 0\n",
        "    total = 0\n",
        "    #TP=0\n",
        "    #TN=0\n",
        "    #FP=0\n",
        "    #FN=0\n",
        "    with torch.no_grad():\n",
        "        for data in loader:\n",
        "            features, labels = data\n",
        "            outputs = model(features)\n",
        "            predicted = torch.round(outputs)\n",
        "            total += (labels.size(0)*labels.size(1))\n",
        "            correct += torch.sum(predicted==labels)\n",
        "            #TP+= ((predicted == labels) & (labels==1)).sum().item()\n",
        "            #TN+=((predicted == labels) & (labels==0)).sum().item()\n",
        "            #FP+=((predicted != labels) & (labels==0)).sum().item()\n",
        "            #FN+=((predicted != labels) & (labels==1)).sum().item()\n",
        "            \n",
        "    acc = (100 * correct / total)\n",
        "    #precision=100*(TP/(1+TP+FP))\n",
        "    #sensitivity=100*(TP/(1+TP+FN))\n",
        "    #specificity=100*(TN/(1+TN+FP))\n",
        "    if loader=='train_dataloader':\n",
        "      print('Accuracy on the training set is : %.3f %%' % acc)\n",
        "    elif loader=='test_dataloader':\n",
        "      print('Accuracy on the validation set is: %.3f %%' % acc)\n",
        "    \n",
        "    return acc"
      ],
      "execution_count": null,
      "outputs": []
    },
    {
      "cell_type": "markdown",
      "metadata": {
        "id": "pNg7LBZn-Puc"
      },
      "source": [
        "# Train the model"
      ]
    },
    {
      "cell_type": "code",
      "metadata": {
        "id": "EG_Wgm6IhurS",
        "colab": {
          "base_uri": "https://localhost:8080/"
        },
        "outputId": "076be479-5729-4243-9a5d-163a2bd8e1b5"
      },
      "source": [
        "all_train_loss = []\n",
        "all_test_loss = []\n",
        "train_acc=[]\n",
        "validation_acc=[]\n",
        "train_preds=[]\n",
        "\n",
        "\n",
        "for epoch in range(num_steps):\n",
        "      \n",
        "  model.train()\n",
        "  for batch_idx, (data, labels) in enumerate(train_dataloader):\n",
        "    \n",
        "    preds = model(data)\n",
        "    train_preds.append(preds)\n",
        "\n",
        "    #loss = criterion(preds, labels.to(device))\n",
        "    loss = my_loss(labels, preds)\n",
        "    optimizer.zero_grad()\n",
        "    loss.backward()\n",
        "    optimizer.step()\n",
        "\n",
        "    bach_loss = loss.item()\n",
        "\n",
        "    if batch_idx % 100 == 0:\n",
        "      print('[%d, %5d] loss: %.3f' %(epoch, batch_idx, bach_loss))\n",
        "\n",
        "  all_train_loss.append(float(bach_loss))\n",
        "  model.eval()\n",
        "  \n",
        "  #test_preds = model(tensor_x_test)\n",
        "  #test_loss = my_loss(tensor_y_test, test_preds)\n",
        "  #all_test_loss.append(float(test_loss))\n",
        "\n",
        "  #print(\"epoch %d,  train loss : %.3f, test loss : %.3f\" % (epoch, bach_loss, test_loss))  \n",
        "  print(\"epoch %d,  train loss : %.3f,\" % (epoch, bach_loss))  \n",
        "\n",
        "\n",
        "  train_acc.append( check_acc(model, train_dataloader) )\n",
        "  validation_acc.append( check_acc(model, test_dataloader) )\n",
        "  with open('/content/drive/MyDrive/DL- Danny & Yonatan/Project DL/segmentation_model/train_acc.npy', 'wb') as f:\n",
        "    pickle.dump(train_acc, f, protocol=4)\n",
        "  with open('/content/drive/MyDrive/DL- Danny & Yonatan/Project DL/segmentation_model/validation_acc.npy', 'wb') as f:\n",
        "    pickle.dump(validation_acc, f, protocol=4)\n",
        "     "
      ],
      "execution_count": null,
      "outputs": [
        {
          "output_type": "stream",
          "name": "stdout",
          "text": [
            "[0,     0] loss: 0.690\n",
            "[0,   100] loss: 0.256\n",
            "epoch 0,  train loss : 0.285,\n",
            "[1,     0] loss: 0.402\n",
            "[1,   100] loss: 0.308\n",
            "epoch 1,  train loss : 0.326,\n",
            "[2,     0] loss: 0.308\n",
            "[2,   100] loss: 0.267\n",
            "epoch 2,  train loss : 0.325,\n",
            "[3,     0] loss: 0.176\n",
            "[3,   100] loss: 0.308\n",
            "epoch 3,  train loss : 0.337,\n",
            "[4,     0] loss: 0.264\n",
            "[4,   100] loss: 0.316\n",
            "epoch 4,  train loss : 0.413,\n",
            "[5,     0] loss: 0.340\n",
            "[5,   100] loss: 0.314\n",
            "epoch 5,  train loss : 0.434,\n",
            "[6,     0] loss: 0.443\n",
            "[6,   100] loss: 0.274\n",
            "epoch 6,  train loss : 0.309,\n",
            "[7,     0] loss: 0.337\n",
            "[7,   100] loss: 0.228\n",
            "epoch 7,  train loss : 0.362,\n",
            "[8,     0] loss: 0.252\n",
            "[8,   100] loss: 0.457\n",
            "epoch 8,  train loss : 0.171,\n",
            "[9,     0] loss: 0.234\n",
            "[9,   100] loss: 0.357\n",
            "epoch 9,  train loss : 0.154,\n",
            "[10,     0] loss: 0.493\n",
            "[10,   100] loss: 0.355\n",
            "epoch 10,  train loss : 0.231,\n",
            "[11,     0] loss: 0.247\n",
            "[11,   100] loss: 0.386\n",
            "epoch 11,  train loss : 0.317,\n",
            "[12,     0] loss: 0.381\n",
            "[12,   100] loss: 0.313\n",
            "epoch 12,  train loss : 0.296,\n",
            "[13,     0] loss: 0.273\n",
            "[13,   100] loss: 0.224\n",
            "epoch 13,  train loss : 0.169,\n",
            "[14,     0] loss: 0.094\n",
            "[14,   100] loss: 0.268\n",
            "epoch 14,  train loss : 0.282,\n",
            "[15,     0] loss: 0.225\n",
            "[15,   100] loss: 0.206\n",
            "epoch 15,  train loss : 0.157,\n",
            "[16,     0] loss: 0.293\n",
            "[16,   100] loss: 0.407\n",
            "epoch 16,  train loss : 0.344,\n",
            "[17,     0] loss: 0.309\n",
            "[17,   100] loss: 0.298\n",
            "epoch 17,  train loss : 0.311,\n",
            "[18,     0] loss: 0.415\n",
            "[18,   100] loss: 0.420\n",
            "epoch 18,  train loss : 0.214,\n",
            "[19,     0] loss: 0.315\n",
            "[19,   100] loss: 0.289\n",
            "epoch 19,  train loss : 0.234,\n",
            "[20,     0] loss: 0.251\n",
            "[20,   100] loss: 0.250\n",
            "epoch 20,  train loss : 0.354,\n",
            "[21,     0] loss: 0.318\n",
            "[21,   100] loss: 0.387\n",
            "epoch 21,  train loss : 0.416,\n",
            "[22,     0] loss: 0.267\n",
            "[22,   100] loss: 0.250\n",
            "epoch 22,  train loss : 0.334,\n",
            "[23,     0] loss: 0.170\n",
            "[23,   100] loss: 0.179\n",
            "epoch 23,  train loss : 0.213,\n",
            "[24,     0] loss: 0.204\n",
            "[24,   100] loss: 0.214\n",
            "epoch 24,  train loss : 0.108,\n",
            "[25,     0] loss: 0.271\n",
            "[25,   100] loss: 0.205\n",
            "epoch 25,  train loss : 0.187,\n",
            "[26,     0] loss: 0.278\n",
            "[26,   100] loss: 0.112\n",
            "epoch 26,  train loss : 0.309,\n",
            "[27,     0] loss: 0.316\n",
            "[27,   100] loss: 0.217\n",
            "epoch 27,  train loss : 0.290,\n",
            "[28,     0] loss: 0.286\n",
            "[28,   100] loss: 0.331\n",
            "epoch 28,  train loss : 0.260,\n",
            "[29,     0] loss: 0.212\n",
            "[29,   100] loss: 0.266\n",
            "epoch 29,  train loss : 0.470,\n"
          ]
        }
      ]
    },
    {
      "cell_type": "code",
      "metadata": {
        "id": "er8aBJCL949t"
      },
      "source": [
        "torch.save(model.state_dict(), main_path+ 'segmentation_model/gait_segmentation.pt') #saving the trained model"
      ],
      "execution_count": null,
      "outputs": []
    },
    {
      "cell_type": "code",
      "metadata": {
        "id": "kdBTCVXBQcij"
      },
      "source": [
        "train_acc_pickle = open (\"/content/drive/MyDrive/DL- Danny & Yonatan/Project DL/segmentation_model/train_acc.npy\", \"rb\")\n",
        "train_acc = pickle.load(train_acc_pickle)\n",
        "\n",
        "validation_acc_pickle = open (\"/content/drive/MyDrive/DL- Danny & Yonatan/Project DL/segmentation_model/validation_acc.npy\", \"rb\")\n",
        "validation_acc = pickle.load(validation_acc_pickle)"
      ],
      "execution_count": 4,
      "outputs": []
    },
    {
      "cell_type": "code",
      "metadata": {
        "colab": {
          "base_uri": "https://localhost:8080/",
          "height": 313
        },
        "id": "cpeHJq0RXCpC",
        "outputId": "a5e3e403-a1c6-4109-c9ac-9dcdc8e24dce"
      },
      "source": [
        "import matplotlib.pyplot as plt\n",
        "plt.plot(range(len(train_acc)),train_acc,color='blue', label='Training Accuracy')\n",
        "plt.plot(range(len(train_acc)),validation_acc,color='red', label='Validation Accuracy')\n",
        "plt.title('Accuracy over epochs')\n",
        "plt.xlabel('num_epochs')\n",
        "plt.ylabel('accuracy')\n",
        "plt.legend()"
      ],
      "execution_count": null,
      "outputs": [
        {
          "output_type": "execute_result",
          "data": {
            "text/plain": [
              "<matplotlib.legend.Legend at 0x7fd47bb0da90>"
            ]
          },
          "metadata": {},
          "execution_count": 56
        },
        {
          "output_type": "display_data",
          "data": {
            "image/png": "[encoded data removed]",
            "text/plain": [
              "<Figure size 432x288 with 1 Axes>"
            ]
          },
          "metadata": {
            "needs_background": "light"
          }
        }
      ]
    },
    {
      "cell_type": "code",
      "metadata": {
        "colab": {
          "base_uri": "https://localhost:8080/",
          "height": 312
        },
        "id": "kEDPcyYQWjUb",
        "outputId": "1e674bbe-3fbc-433f-e0e7-e5c0dc023228"
      },
      "source": [
        "plt.plot(all_train_loss)\n",
        "plt.title('Loss over epochs')\n",
        "plt.xlabel('epochs')\n",
        "plt.ylabel('loss')"
      ],
      "execution_count": null,
      "outputs": [
        {
          "output_type": "execute_result",
          "data": {
            "text/plain": [
              "Text(0, 0.5, 'loss')"
            ]
          },
          "metadata": {},
          "execution_count": 35
        },
        {
          "output_type": "display_data",
          "data": {
            "image/png": "[encoded data removed]",
            "text/plain": [
              "<Figure size 432x288 with 1 Axes>"
            ]
          },
          "metadata": {
            "needs_background": "light"
          }
        }
      ]
    },
    {
      "cell_type": "markdown",
      "metadata": {
        "id": "V53bWGT66s6h"
      },
      "source": [
        "change batch size to 64"
      ]
    },
    {
      "cell_type": "code",
      "metadata": {
        "id": "nhbiLmHp6wRu"
      },
      "source": [
        "# Training Parameters\n",
        "learning_rate = 0.00001\n",
        "num_steps =30\n",
        "batch_size = 64\n",
        "display_step = 1\n",
        "criterion = nn.BCELoss()\n",
        "data_len = len(X_train)"
      ],
      "execution_count": null,
      "outputs": []
    },
    {
      "cell_type": "code",
      "metadata": {
        "id": "2Oidwvtz7XPn"
      },
      "source": [
        "tensor_x_train = torch.Tensor(X_train).float().to(device) # transform to torch tensor\n",
        "tensor_y_train = torch.Tensor(y_train).float().to(device)\n",
        "\n",
        "train_dataset = TensorDataset(tensor_x_train,tensor_y_train) # create your datset\n",
        "train_dataloader = DataLoader(train_dataset, batch_size = batch_size, shuffle=True) # create your dataloader\n",
        "\n",
        "\n",
        "tensor_x_test = torch.Tensor(X_test).float().to(device) # transform to torch tensor\n",
        "tensor_y_test = torch.Tensor(y_test).float().to(device)\n",
        "\n",
        "test_dataset = TensorDataset(tensor_x_test,tensor_y_test) # create your datset\n",
        "test_dataloader = DataLoader(test_dataset) # create your dataloader\n",
        "\n"
      ],
      "execution_count": null,
      "outputs": []
    },
    {
      "cell_type": "code",
      "metadata": {
        "id": "I1mpAavb7XPu"
      },
      "source": [
        "model = Network().to(device)\n",
        "optimizer = optim.Adam(model.parameters(), lr=learning_rate)"
      ],
      "execution_count": null,
      "outputs": []
    },
    {
      "cell_type": "code",
      "metadata": {
        "colab": {
          "base_uri": "https://localhost:8080/"
        },
        "id": "f5JLuxc161k2",
        "outputId": "12086636-462c-4b0a-e6fa-6a279cdcd569"
      },
      "source": [
        "all_train_loss2 = []\n",
        "all_test_loss2 = []\n",
        "train_acc2=[]\n",
        "validation_acc2=[]\n",
        "train_preds2=[]\n",
        "\n",
        "\n",
        "for epoch in range(num_steps):\n",
        "      \n",
        "  model.train()\n",
        "  for batch_idx, (data, labels) in enumerate(train_dataloader):\n",
        "    \n",
        "    preds = model(data)\n",
        "    train_preds2.append(preds)\n",
        "\n",
        "    #loss = criterion(preds, labels.to(device))\n",
        "    loss = my_loss(labels, preds)\n",
        "    optimizer.zero_grad()\n",
        "    loss.backward()\n",
        "    optimizer.step()\n",
        "\n",
        "    bach_loss = loss.item()\n",
        "\n",
        "    if batch_idx % 100 == 0:\n",
        "      print('[%d, %5d] loss: %.3f' %(epoch, batch_idx, bach_loss))\n",
        "\n",
        "  all_train_loss2.append(float(bach_loss))\n",
        "  model.eval()\n",
        "  \n",
        "  #test_preds = model(tensor_x_test)\n",
        "  #test_loss = my_loss(tensor_y_test, test_preds)\n",
        "  #all_test_loss.append(float(test_loss))\n",
        "\n",
        "  #print(\"epoch %d,  train loss : %.3f, test loss : %.3f\" % (epoch, bach_loss, test_loss))  \n",
        "  print(\"epoch %d,  train loss : %.3f,\" % (epoch, bach_loss))  \n",
        "\n",
        "\n",
        "  train_acc2.append( check_acc(model, train_dataloader) )\n",
        "  validation_acc2.append( check_acc(model, test_dataloader) )\n",
        "  with open('/content/drive/MyDrive/DL- Danny & Yonatan/Project DL/segmentation_model/train_acc2.npy', 'wb') as f:\n",
        "    pickle.dump(train_acc2, f, protocol=4)\n",
        "  with open('/content/drive/MyDrive/DL- Danny & Yonatan/Project DL/segmentation_model/validation_acc2.npy', 'wb') as f:\n",
        "    pickle.dump(validation_acc2, f, protocol=4)\n",
        "     "
      ],
      "execution_count": null,
      "outputs": [
        {
          "output_type": "stream",
          "name": "stdout",
          "text": [
            "[0,     0] loss: 0.449\n",
            "epoch 0,  train loss : 0.371,\n",
            "[1,     0] loss: 0.288\n",
            "epoch 1,  train loss : 0.313,\n",
            "[2,     0] loss: 0.381\n",
            "epoch 2,  train loss : 0.222,\n",
            "[3,     0] loss: 0.373\n",
            "epoch 3,  train loss : 0.537,\n",
            "[4,     0] loss: 0.342\n",
            "epoch 4,  train loss : 0.222,\n",
            "[5,     0] loss: 0.266\n",
            "epoch 5,  train loss : 0.513,\n",
            "[6,     0] loss: 0.307\n",
            "epoch 6,  train loss : 0.260,\n",
            "[7,     0] loss: 0.310\n",
            "epoch 7,  train loss : 0.254,\n",
            "[8,     0] loss: 0.265\n",
            "epoch 8,  train loss : 0.291,\n",
            "[9,     0] loss: 0.421\n",
            "epoch 9,  train loss : 0.332,\n",
            "[10,     0] loss: 0.212\n",
            "epoch 10,  train loss : 0.264,\n",
            "[11,     0] loss: 0.303\n",
            "epoch 11,  train loss : 0.261,\n",
            "[12,     0] loss: 0.282\n",
            "epoch 12,  train loss : 0.325,\n",
            "[13,     0] loss: 0.323\n",
            "epoch 13,  train loss : 0.330,\n",
            "[14,     0] loss: 0.239\n",
            "epoch 14,  train loss : 0.301,\n",
            "[15,     0] loss: 0.234\n",
            "epoch 15,  train loss : 0.359,\n",
            "[16,     0] loss: 0.314\n",
            "epoch 16,  train loss : 0.345,\n",
            "[17,     0] loss: 0.289\n",
            "epoch 17,  train loss : 0.295,\n",
            "[18,     0] loss: 0.297\n",
            "epoch 18,  train loss : 0.215,\n",
            "[19,     0] loss: 0.311\n",
            "epoch 19,  train loss : 0.333,\n",
            "[20,     0] loss: 0.212\n",
            "epoch 20,  train loss : 0.316,\n",
            "[21,     0] loss: 0.357\n",
            "epoch 21,  train loss : 0.201,\n",
            "[22,     0] loss: 0.157\n",
            "epoch 22,  train loss : 0.326,\n",
            "[23,     0] loss: 0.294\n",
            "epoch 23,  train loss : 0.251,\n",
            "[24,     0] loss: 0.283\n",
            "epoch 24,  train loss : 0.230,\n",
            "[25,     0] loss: 0.332\n",
            "epoch 25,  train loss : 0.286,\n",
            "[26,     0] loss: 0.283\n",
            "epoch 26,  train loss : 0.361,\n",
            "[27,     0] loss: 0.194\n",
            "epoch 27,  train loss : 0.216,\n",
            "[28,     0] loss: 0.379\n",
            "epoch 28,  train loss : 0.285,\n",
            "[29,     0] loss: 0.294\n",
            "epoch 29,  train loss : 0.207,\n"
          ]
        }
      ]
    },
    {
      "cell_type": "code",
      "metadata": {
        "id": "td2TnQzVOymL"
      },
      "source": [
        "torch.save(model.state_dict(), main_path+ 'segmentation_model/gait_segmentation_batch64.pt') #saving the trained model"
      ],
      "execution_count": null,
      "outputs": []
    },
    {
      "cell_type": "code",
      "metadata": {
        "id": "oF-u9BXxOymY"
      },
      "source": [
        "train_acc_pickle2 = open (\"/content/drive/MyDrive/DL- Danny & Yonatan/Project DL/segmentation_model/train_acc2.npy\", \"rb\")\n",
        "train_acc2 = pickle.load(train_acc_pickle2)\n",
        "\n",
        "validation_acc_pickle2 = open (\"/content/drive/MyDrive/DL- Danny & Yonatan/Project DL/segmentation_model/validation_acc2.npy\", \"rb\")\n",
        "validation_acc2 = pickle.load(validation_acc_pickle2)"
      ],
      "execution_count": null,
      "outputs": []
    },
    {
      "cell_type": "code",
      "metadata": {
        "colab": {
          "base_uri": "https://localhost:8080/",
          "height": 313
        },
        "id": "19yaOwLSOymY",
        "outputId": "7718c3d9-0d58-40aa-d94e-5750ae15bc3d"
      },
      "source": [
        "import matplotlib.pyplot as plt\n",
        "plt.plot(range(len(train_acc2)),train_acc2, color='blue', label='Training Accuracy')\n",
        "plt.plot(range(len(train_acc2)),validation_acc2,color='red', label='Validation Accuracy')\n",
        "plt.title('Accuracy over epochs: batch 64')\n",
        "plt.xlabel('num_epochs')\n",
        "plt.ylabel('accuracy')\n",
        "plt.legend()"
      ],
      "execution_count": null,
      "outputs": [
        {
          "output_type": "execute_result",
          "data": {
            "text/plain": [
              "<matplotlib.legend.Legend at 0x7fd47bb7a3d0>"
            ]
          },
          "metadata": {},
          "execution_count": 54
        },
        {
          "output_type": "display_data",
          "data": {
            "image/png": "[encoded data removed]",
            "text/plain": [
              "<Figure size 432x288 with 1 Axes>"
            ]
          },
          "metadata": {
            "needs_background": "light"
          }
        }
      ]
    },
    {
      "cell_type": "code",
      "metadata": {
        "colab": {
          "base_uri": "https://localhost:8080/",
          "height": 312
        },
        "id": "iG-DEyX7OymZ",
        "outputId": "e94ebf09-4b2b-45e5-f34c-b7e1092283d3"
      },
      "source": [
        "plt.plot(all_train_loss2)\n",
        "plt.title('Loss over epochs: batch 64')\n",
        "plt.xlabel('epochs')\n",
        "plt.ylabel('loss')"
      ],
      "execution_count": null,
      "outputs": [
        {
          "output_type": "execute_result",
          "data": {
            "text/plain": [
              "Text(0, 0.5, 'loss')"
            ]
          },
          "metadata": {},
          "execution_count": 31
        },
        {
          "output_type": "display_data",
          "data": {
            "image/png": "[encoded data removed]",
            "text/plain": [
              "<Figure size 432x288 with 1 Axes>"
            ]
          },
          "metadata": {
            "needs_background": "light"
          }
        }
      ]
    },
    {
      "cell_type": "markdown",
      "metadata": {
        "id": "q8Knzj3m8lMC"
      },
      "source": [
        "# Try Batchnorm"
      ]
    },
    {
      "cell_type": "code",
      "metadata": {
        "id": "H5P_wmvR8pzH"
      },
      "source": [
        "class NetworkBatchBorm(nn.Module):\n",
        "    def __init__(self):\n",
        "        super().__init__()\n",
        "\n",
        "        self.conv1_1 = nn.Conv2d(in_channels=1, out_channels=64, kernel_size=[1,16])\n",
        "        self.conv1_2 = nn.Conv2d(in_channels=64, out_channels=64, kernel_size=[1,16])\n",
        "\n",
        "        self.batchNormconv1 = nn.BatchNorm2d(64)\n",
        "\n",
        "        self.conv2_1 = nn.Conv2d(in_channels=64, out_channels=128, kernel_size=[1,16])\n",
        "        self.conv2_2 = nn.Conv2d(in_channels=128, out_channels=128, kernel_size=[1,16])\n",
        "\n",
        "        self.batchNormconv2 = nn.BatchNorm2d(128)\n",
        "\n",
        "        self.conv3_1 = nn.Conv2d(in_channels=128, out_channels=256, kernel_size=[1,16])\n",
        "        self.conv3_2 = nn.Conv2d(in_channels=256, out_channels=256, kernel_size=[1,16])\n",
        "\n",
        "        self.batchNormconv3 = nn.BatchNorm2d(256)\n",
        "\n",
        "        self.convTranspose1 = nn.ConvTranspose2d(256, 128, (1, 2), stride=(1, 2))\n",
        "        self.conv2_5 = nn.Conv2d(in_channels=256, out_channels=128, kernel_size=[1,16])\n",
        "        self.conv2_6 = nn.Conv2d(in_channels=128, out_channels=128, kernel_size=[1,16])\n",
        "\n",
        "\n",
        "        self.convTranspose2 = nn.ConvTranspose2d(128, 64, (1, 2), stride=(1, 2))\n",
        "        self.conv1_4 = nn.Conv2d(in_channels=128, out_channels=64, kernel_size=[1,16])\n",
        "        self.conv1_4_2 = nn.Conv2d(in_channels=64, out_channels=64, kernel_size=[1,16])\n",
        "        self.conv1_5 = nn.Conv2d(in_channels=64, out_channels=256, kernel_size=[3,1])\n",
        "        self.conv1_6 = nn.Conv2d(in_channels=256, out_channels=1, kernel_size=1)\n",
        "\n",
        "  # define forward function\n",
        "    def forward(self, x):\n",
        "        pad_x = nn.ReflectionPad2d((7, 8, 0, 0))(x)\n",
        "\n",
        "        conv1_1 = F.relu( self.conv1_1(pad_x) )\n",
        "        conv1_1 = nn.ReflectionPad2d((7, 8, 0, 0))(conv1_1)\n",
        "        conv1_1=self.batchNormconv1(conv1_1)\n",
        "        conv1_2 = F.relu( self.conv1_2(conv1_1) )\n",
        "\n",
        "        conv2_1 = nn.MaxPool2d(kernel_size=[1,2], stride=[1,2])(conv1_2)\n",
        "\n",
        "        conv2_1 = nn.ReflectionPad2d((7, 8, 0, 0 ))(conv2_1)\n",
        "        conv2_2 = F.relu( self.conv2_1(conv2_1) )\n",
        "        conv2_2 = nn.ReflectionPad2d((7, 8, 0, 0 ))(conv2_2)\n",
        "        conv2_2=self.batchNormconv2(conv2_2)\n",
        "        conv2_3 = F.relu( self.conv2_2(conv2_2) )\n",
        "\n",
        "        conv3_1 = nn.MaxPool2d(kernel_size=[1,2], stride=[1,2])(conv2_3)\n",
        "\n",
        "        conv3_1 = nn.ReflectionPad2d((7, 8, 0, 0))(conv3_1)\n",
        "        conv3_2 = F.relu( self.conv3_1(conv3_1) )\n",
        "        conv3_2 = nn.ReflectionPad2d((7, 8, 0, 0))(conv3_2)\n",
        "        conv3_2=self.batchNormconv3(conv3_2)\n",
        "        conv3_3 = F.relu( self.conv3_2(conv3_2) )\n",
        "        conv3_3 = nn.ReflectionPad2d((7, 8, 0, 0))(conv3_3)\n",
        "        conv3_4 = F.relu( self.conv3_2(conv3_3) )\n",
        "\n",
        "        conv2_4_1 = self.convTranspose1(conv3_4)\n",
        "        conv2_4 = torch.cat((conv2_4_1, conv2_3), 1)\n",
        "        conv2_4 = nn.ReflectionPad2d((7, 8, 0, 0))(conv2_4)\n",
        "        conv2_5 = F.relu( self.conv2_5(conv2_4) )\n",
        "        conv2_5 = nn.ReflectionPad2d((7, 8, 0, 0))(conv2_5)\n",
        "        conv2_6 = F.relu( self.conv2_6(conv2_5) )\n",
        "\n",
        "        conv1_3_1 = self.convTranspose2(conv2_6)\n",
        "        conv1_3 = torch.cat((conv1_2, conv1_3_1), 1)\n",
        "        conv1_3 = nn.ReflectionPad2d((7, 8, 0, 0))(conv1_3)\n",
        "        conv1_4 = F.relu( self.conv1_4(conv1_3) )\n",
        "        conv1_4 = nn.ReflectionPad2d((7, 8, 0, 0))(conv1_4)\n",
        "        conv1_4 = F.relu( self.conv1_4_2(conv1_4) )\n",
        "        conv1_5 = F.relu( self.conv1_5(conv1_4) )\n",
        "        conv1_6 = torch.sigmoid( self.conv1_6(conv1_5) )\n",
        "\n",
        "        out = torch.reshape(conv1_6, (-1, 1024))\n",
        "\n",
        "        return out"
      ],
      "execution_count": null,
      "outputs": []
    },
    {
      "cell_type": "code",
      "metadata": {
        "id": "aMtUI71g-176"
      },
      "source": [
        "# Training Parameters\n",
        "learning_rate = 0.00001\n",
        "num_steps =30\n",
        "batch_size = 64\n",
        "display_step = 1\n",
        "criterion = nn.BCELoss()\n",
        "data_len = len(X_train)"
      ],
      "execution_count": null,
      "outputs": []
    },
    {
      "cell_type": "code",
      "metadata": {
        "id": "DM8icqwU-176"
      },
      "source": [
        "tensor_x_train = torch.Tensor(X_train).float().to(device) # transform to torch tensor\n",
        "tensor_y_train = torch.Tensor(y_train).float().to(device)\n",
        "\n",
        "train_dataset = TensorDataset(tensor_x_train,tensor_y_train) # create your datset\n",
        "train_dataloader = DataLoader(train_dataset, batch_size = batch_size, shuffle=True) # create your dataloader\n",
        "\n",
        "\n",
        "tensor_x_test = torch.Tensor(X_test).float().to(device) # transform to torch tensor\n",
        "tensor_y_test = torch.Tensor(y_test).float().to(device)\n",
        "\n",
        "test_dataset = TensorDataset(tensor_x_test,tensor_y_test) # create your datset\n",
        "test_dataloader = DataLoader(test_dataset) # create your dataloader\n",
        "\n"
      ],
      "execution_count": null,
      "outputs": []
    },
    {
      "cell_type": "code",
      "metadata": {
        "id": "ttiJzxMF-176"
      },
      "source": [
        "model = NetworkBatchBorm().to(device)\n",
        "optimizer = optim.Adam(model.parameters(), lr=learning_rate)"
      ],
      "execution_count": null,
      "outputs": []
    },
    {
      "cell_type": "code",
      "metadata": {
        "colab": {
          "base_uri": "https://localhost:8080/"
        },
        "id": "BAWVtGWk-177",
        "outputId": "68ce693a-2660-43ea-8fec-997ed4a25f64"
      },
      "source": [
        "all_train_loss_norm = []\n",
        "all_test_loss_norm = []\n",
        "train_acc_norm=[]\n",
        "validation_acc_norm=[]\n",
        "train_preds_norm=[]\n",
        "\n",
        "\n",
        "for epoch in range(num_steps):\n",
        "      \n",
        "  model.train()\n",
        "  for batch_idx, (data, labels) in enumerate(train_dataloader):\n",
        "    \n",
        "    preds = model(data)\n",
        "    train_preds_norm.append(preds)\n",
        "\n",
        "    #loss = criterion(preds, labels.to(device))\n",
        "    loss = my_loss(labels, preds)\n",
        "    optimizer.zero_grad()\n",
        "    loss.backward()\n",
        "    optimizer.step()\n",
        "\n",
        "    bach_loss = loss.item()\n",
        "\n",
        "    if batch_idx % 100 == 0:\n",
        "      print('[%d, %5d] loss: %.3f' %(epoch, batch_idx, bach_loss))\n",
        "\n",
        "  all_train_loss_norm.append(float(bach_loss))\n",
        "  model.eval()\n",
        "  \n",
        "  #test_preds = model(tensor_x_test)\n",
        "  #test_loss = my_loss(tensor_y_test, test_preds)\n",
        "  #all_test_loss.append(float(test_loss))\n",
        "\n",
        "  #print(\"epoch %d,  train loss : %.3f, test loss : %.3f\" % (epoch, bach_loss, test_loss))  \n",
        "  print(\"epoch %d,  train loss : %.3f,\" % (epoch, bach_loss))  \n",
        "\n",
        "\n",
        "  train_acc_norm.append( check_acc(model, train_dataloader) )\n",
        "  validation_acc_norm.append( check_acc(model, test_dataloader) )\n",
        "  with open('/content/drive/MyDrive/DL- Danny & Yonatan/Project DL/segmentation_model/train_acc_norm.npy', 'wb') as f:\n",
        "    pickle.dump(train_acc_norm, f, protocol=4)\n",
        "  with open('/content/drive/MyDrive/DL- Danny & Yonatan/Project DL/segmentation_model/validation_acc_norm.npy', 'wb') as f:\n",
        "    pickle.dump(validation_acc_norm, f, protocol=4)\n",
        "  with open('/content/drive/MyDrive/DL- Danny & Yonatan/Project DL/segmentation_model/all_train_loss_norm.npy', 'wb') as f:\n",
        "    pickle.dump(all_train_loss_norm, f, protocol=4)"
      ],
      "execution_count": null,
      "outputs": [
        {
          "output_type": "stream",
          "name": "stdout",
          "text": [
            "[0,     0] loss: 0.685\n",
            "epoch 0,  train loss : 0.402,\n",
            "[1,     0] loss: 0.420\n",
            "epoch 1,  train loss : 0.181,\n",
            "[2,     0] loss: 0.288\n",
            "epoch 2,  train loss : 0.229,\n",
            "[3,     0] loss: 0.251\n",
            "epoch 3,  train loss : 0.224,\n",
            "[4,     0] loss: 0.331\n",
            "epoch 4,  train loss : 0.269,\n",
            "[5,     0] loss: 0.233\n",
            "epoch 5,  train loss : 0.210,\n",
            "[6,     0] loss: 0.257\n",
            "epoch 6,  train loss : 0.245,\n",
            "[7,     0] loss: 0.227\n",
            "epoch 7,  train loss : 0.243,\n",
            "[8,     0] loss: 0.299\n",
            "epoch 8,  train loss : 0.266,\n",
            "[9,     0] loss: 0.299\n",
            "epoch 9,  train loss : 0.290,\n",
            "[10,     0] loss: 0.275\n",
            "epoch 10,  train loss : 0.265,\n",
            "[11,     0] loss: 0.202\n",
            "epoch 11,  train loss : 0.279,\n",
            "[12,     0] loss: 0.191\n",
            "epoch 12,  train loss : 0.252,\n",
            "[13,     0] loss: 0.300\n",
            "epoch 13,  train loss : 0.302,\n",
            "[14,     0] loss: 0.250\n",
            "epoch 14,  train loss : 0.159,\n",
            "[15,     0] loss: 0.276\n",
            "epoch 15,  train loss : 0.185,\n",
            "[16,     0] loss: 0.242\n",
            "epoch 16,  train loss : 0.391,\n",
            "[17,     0] loss: 0.177\n",
            "epoch 17,  train loss : 0.269,\n",
            "[18,     0] loss: 0.232\n",
            "epoch 18,  train loss : 0.279,\n",
            "[19,     0] loss: 0.209\n",
            "epoch 19,  train loss : 0.202,\n",
            "[20,     0] loss: 0.202\n",
            "epoch 20,  train loss : 0.243,\n",
            "[21,     0] loss: 0.216\n",
            "epoch 21,  train loss : 0.247,\n",
            "[22,     0] loss: 0.204\n",
            "epoch 22,  train loss : 0.222,\n",
            "[23,     0] loss: 0.231\n",
            "epoch 23,  train loss : 0.345,\n",
            "[24,     0] loss: 0.208\n",
            "epoch 24,  train loss : 0.179,\n",
            "[25,     0] loss: 0.196\n",
            "epoch 25,  train loss : 0.260,\n",
            "[26,     0] loss: 0.300\n",
            "epoch 26,  train loss : 0.207,\n",
            "[27,     0] loss: 0.204\n",
            "epoch 27,  train loss : 0.168,\n",
            "[28,     0] loss: 0.368\n",
            "epoch 28,  train loss : 0.213,\n",
            "[29,     0] loss: 0.212\n",
            "epoch 29,  train loss : 0.267,\n"
          ]
        }
      ]
    },
    {
      "cell_type": "code",
      "metadata": {
        "id": "iQbPvp0D-178"
      },
      "source": [
        "torch.save(model.state_dict(), main_path+ 'segmentation_model/gait_segmentation_batchNorm.pt') #saving the trained model"
      ],
      "execution_count": null,
      "outputs": []
    },
    {
      "cell_type": "code",
      "metadata": {
        "id": "HqqZxP2SUJLg"
      },
      "source": [
        "train_accNorm_pickle = open (\"/content/drive/MyDrive/DL- Danny & Yonatan/Project DL/segmentation_model/train_acc_norm.npy\", \"rb\")\n",
        "train_acc_norm = pickle.load(train_accNorm_pickle)\n",
        "\n",
        "validation_accNorm_pickle = open (\"/content/drive/MyDrive/DL- Danny & Yonatan/Project DL/segmentation_model/validation_acc_norm.npy\", \"rb\")\n",
        "validation_acc_norm = pickle.load(validation_accNorm_pickle)\n",
        "\n",
        "lossNorm_pickle = open (\"/content/drive/MyDrive/DL- Danny & Yonatan/Project DL/segmentation_model/all_train_loss_norm.npy\", \"rb\")\n",
        "all_train_loss_norm = pickle.load(lossNorm_pickle)"
      ],
      "execution_count": null,
      "outputs": []
    },
    {
      "cell_type": "code",
      "metadata": {
        "colab": {
          "base_uri": "https://localhost:8080/",
          "height": 313
        },
        "id": "bt8yUYlmUJLh",
        "outputId": "1b244adb-692b-4e87-b9f1-2ebab60cbeb1"
      },
      "source": [
        "import matplotlib.pyplot as plt\n",
        "plt.plot(range(len(train_acc_norm)),train_acc_norm,color='blue', label='Training Accuracy')\n",
        "plt.plot(range(len(train_acc_norm)),validation_acc_norm,color='red', label='Validation Accuracy')\n",
        "plt.title('Accuracy over epochs: BatchNorm')\n",
        "plt.xlabel('num_epochs')\n",
        "plt.ylabel('accuracy')\n",
        "plt.legend()"
      ],
      "execution_count": null,
      "outputs": [
        {
          "output_type": "execute_result",
          "data": {
            "text/plain": [
              "<matplotlib.legend.Legend at 0x7f583065cf90>"
            ]
          },
          "metadata": {},
          "execution_count": 27
        },
        {
          "output_type": "display_data",
          "data": {
            "image/png": "[encoded data removed]",
            "text/plain": [
              "<Figure size 432x288 with 1 Axes>"
            ]
          },
          "metadata": {
            "needs_background": "light"
          }
        }
      ]
    },
    {
      "cell_type": "code",
      "metadata": {
        "colab": {
          "base_uri": "https://localhost:8080/",
          "height": 312
        },
        "id": "z5r84LD7UJLi",
        "outputId": "5e94ddf6-0dcd-4d48-ee8d-c8cc2952f161"
      },
      "source": [
        "plt.plot(all_train_loss_norm)\n",
        "plt.title('Loss over epochs: BatchNorm')\n",
        "plt.xlabel('epochs')\n",
        "plt.ylabel('loss')"
      ],
      "execution_count": null,
      "outputs": [
        {
          "output_type": "execute_result",
          "data": {
            "text/plain": [
              "Text(0, 0.5, 'loss')"
            ]
          },
          "metadata": {},
          "execution_count": 29
        },
        {
          "output_type": "display_data",
          "data": {
            "image/png": "[encoded data removed]",
            "text/plain": [
              "<Figure size 432x288 with 1 Axes>"
            ]
          },
          "metadata": {
            "needs_background": "light"
          }
        }
      ]
    },
    {
      "cell_type": "markdown",
      "metadata": {
        "id": "lKmTkjAS-Lac"
      },
      "source": [
        "# Load trained model"
      ]
    },
    {
      "cell_type": "code",
      "metadata": {
        "colab": {
          "resources": {
            "http://localhost:8080/nbextensions/google.colab/files.js": {
              "data": "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",
              "ok": true,
              "headers": [
                [
                  "content-type",
                  "application/javascript"
                ]
              ],
              "status": 200,
              "status_text": ""
            }
          },
          "base_uri": "https://localhost:8080/",
          "height": 140
        },
        "id": "tkJqFvtss1Bh",
        "outputId": "77e51b87-2239-4ebe-a04a-5f88032cbc9e"
      },
      "source": [
        "from google.colab import files \n",
        "uploaded = files.upload() #upload the trained models files\n"
      ],
      "execution_count": 5,
      "outputs": [
        {
          "output_type": "display_data",
          "data": {
            "text/html": [
              "\n",
              "     <input type=\"file\" id=\"files-e002ab42-6e0b-47d5-9144-9ce27ea0c184\" name=\"files[]\" multiple disabled\n",
              "        style=\"border:none\" />\n",
              "     <output id=\"result-e002ab42-6e0b-47d5-9144-9ce27ea0c184\">\n",
              "      Upload widget is only available when the cell has been executed in the\n",
              "      current browser session. Please rerun this cell to enable.\n",
              "      </output>\n",
              "      <script src=\"/nbextensions/google.colab/files.js\"></script> "
            ],
            "text/plain": [
              "<IPython.core.display.HTML object>"
            ]
          },
          "metadata": {}
        },
        {
          "output_type": "stream",
          "name": "stdout",
          "text": [
            "Saving gait_segmentation.pt to gait_segmentation.pt\n",
            "Saving gait_segmentation_batch64.pt to gait_segmentation_batch64.pt\n",
            "Saving gait_segmentation_batchNorm.pt to gait_segmentation_batchNorm.pt\n"
          ]
        }
      ]
    },
    {
      "cell_type": "code",
      "metadata": {
        "colab": {
          "base_uri": "https://localhost:8080/"
        },
        "id": "uRBwqL1gbTrM",
        "outputId": "e50cf032-8f77-42c7-c4f4-5d870d134e0a"
      },
      "source": [
        "#load one of the models\n",
        "model=Network().to(device)\n",
        "model.load_state_dict(torch.load('gait_segmentation.pt')) #load the corresponding model: gait_segmentation.pt/gait_segmentation_batch64.pt/gait_segmentation_batchNorm.pt \n",
        "model.to(device)"
      ],
      "execution_count": null,
      "outputs": [
        {
          "output_type": "execute_result",
          "data": {
            "text/plain": [
              "Network(\n",
              "  (conv1_1): Conv2d(1, 64, kernel_size=(1, 16), stride=(1, 1))\n",
              "  (conv1_2): Conv2d(64, 64, kernel_size=(1, 16), stride=(1, 1))\n",
              "  (conv2_1): Conv2d(64, 128, kernel_size=(1, 16), stride=(1, 1))\n",
              "  (conv2_2): Conv2d(128, 128, kernel_size=(1, 16), stride=(1, 1))\n",
              "  (conv3_1): Conv2d(128, 256, kernel_size=(1, 16), stride=(1, 1))\n",
              "  (conv3_2): Conv2d(256, 256, kernel_size=(1, 16), stride=(1, 1))\n",
              "  (convTranspose1): ConvTranspose2d(256, 128, kernel_size=(1, 2), stride=(1, 2))\n",
              "  (conv2_5): Conv2d(256, 128, kernel_size=(1, 16), stride=(1, 1))\n",
              "  (conv2_6): Conv2d(128, 128, kernel_size=(1, 16), stride=(1, 1))\n",
              "  (convTranspose2): ConvTranspose2d(128, 64, kernel_size=(1, 2), stride=(1, 2))\n",
              "  (conv1_4): Conv2d(128, 64, kernel_size=(1, 16), stride=(1, 1))\n",
              "  (conv1_4_2): Conv2d(64, 64, kernel_size=(1, 16), stride=(1, 1))\n",
              "  (conv1_5): Conv2d(64, 256, kernel_size=(6, 1), stride=(1, 1))\n",
              "  (conv1_6): Conv2d(256, 1, kernel_size=(1, 1), stride=(1, 1))\n",
              ")"
            ]
          },
          "metadata": {},
          "execution_count": 7
        }
      ]
    },
    {
      "cell_type": "markdown",
      "metadata": {
        "id": "rwYsErrUto3L"
      },
      "source": [
        "Extracting gait segments from the HC dataset"
      ]
    },
    {
      "cell_type": "code",
      "metadata": {
        "id": "rJQz27U4gZyZ"
      },
      "source": [
        "data_HC = read_data(HC_path,0.01) \n",
        "#with open('/content/drive/MyDrive/DL- Danny & Yonatan/Project DL/segmentation_model/data_hc.npy', 'wb') as f:\n",
        "#    pickle.dump(data_HC, f, protocol=4)"
      ],
      "execution_count": null,
      "outputs": []
    },
    {
      "cell_type": "code",
      "metadata": {
        "id": "NyY_AIaG2GzP"
      },
      "source": [
        "data_pickle_hc = open (\"/content/drive/MyDrive/DL- Danny & Yonatan/Project DL/segmentation_model/data_hc.npy\", \"rb\")\n",
        "data_hc = pickle.load(data_pickle_hc)"
      ],
      "execution_count": null,
      "outputs": []
    },
    {
      "cell_type": "code",
      "metadata": {
        "id": "V5w_g0cSE959"
      },
      "source": [
        "data_pd=X_test"
      ],
      "execution_count": null,
      "outputs": []
    },
    {
      "cell_type": "code",
      "metadata": {
        "id": "NK0UxWR8FBkd"
      },
      "source": [
        "print(data_hc.shape)\n",
        "print(data_pd.shape)"
      ],
      "execution_count": null,
      "outputs": []
    },
    {
      "cell_type": "markdown",
      "metadata": {
        "id": "AhNxqEgdF2ns"
      },
      "source": [
        "^ the data is balance between the 2 dataset"
      ]
    },
    {
      "cell_type": "code",
      "metadata": {
        "id": "blcLXXU9Fjnh"
      },
      "source": [
        "tensor_hc = torch.Tensor(data_hc).float().to(device) # transform to torch tensor\n",
        "tensor_pd= torch.Tensor(data_pd).float().to(device)"
      ],
      "execution_count": null,
      "outputs": []
    },
    {
      "cell_type": "code",
      "metadata": {
        "id": "faEjWxe_H_gn"
      },
      "source": [
        "hc_dataset = TensorDataset(tensor_hc,torch.zeros((tensor_hc.shape[0],1024))) # create your datset\n",
        "hc_dataloader= DataLoader(hc_dataset, batch_size = 1) # create your dataloader\n",
        "\n",
        "pd_dataset = TensorDataset(tensor_pd,torch.zeros((tensor_pd.shape[0],1024))) # create your datset\n",
        "pd_dataloader= DataLoader(pd_dataset, batch_size = 1) # create your dataloader\n"
      ],
      "execution_count": null,
      "outputs": []
    },
    {
      "cell_type": "code",
      "metadata": {
        "id": "S2KE3M4rg5Cm"
      },
      "source": [
        "hc_preds=torch.empty((0,1024)).to(device)\n",
        "for batch_idx, (data, labels) in enumerate(hc_dataloader):\n",
        "    model.eval()\n",
        "    preds = model(data)\n",
        "    hc_preds=torch.cat((hc_preds,preds),dim=0)\n",
        "\n"
      ],
      "execution_count": null,
      "outputs": []
    },
    {
      "cell_type": "code",
      "metadata": {
        "id": "wF3UbcuMKU6g"
      },
      "source": [
        "pd_preds=torch.empty((0,1024))\n",
        "for batch_idx, (data, labels) in enumerate(pd_dataloader):\n",
        "    model.eval()\n",
        "    preds = model(data)\n",
        "    all_preds=torch.cat((pd_preds,preds),dim=0)\n",
        "\n"
      ],
      "execution_count": null,
      "outputs": []
    },
    {
      "cell_type": "code",
      "metadata": {
        "id": "oQGeKArFSxMW"
      },
      "source": [
        "hc_preds=torch.round(hc_preds) #from logits to binary classification\n",
        "hc_preds=hc_preds.numpy()\n",
        "hc_preds=hc_preds.reshape(-1)\n",
        "\n",
        "pd_preds=torch.round(pd_preds) #from logits to binary classification\n",
        "pd_preds=pd_preds.numpy()\n",
        "pd_preds=pd_preds.reshape(-1)"
      ],
      "execution_count": null,
      "outputs": []
    },
    {
      "cell_type": "code",
      "metadata": {
        "id": "rNewNG7ISzwH"
      },
      "source": [
        "data_hc=data_hc.reshape((data_hc.shape[0],data_hc.shape[2],data_hc.shape[3])) #1976,3,1024"
      ],
      "execution_count": null,
      "outputs": []
    },
    {
      "cell_type": "code",
      "metadata": {
        "id": "yVY2Yo2cS27G"
      },
      "source": [
        "#extracting only the gait episodes- HC\n",
        "hc_preds=hc_preds==1\n",
        "hc_gait=np.zeros((sum(hc_preds),3))\n",
        "for ind in range(3):\n",
        "  data_hc_n=data_hc[:,ind,:].reshape(-1)\n",
        "  data_hc_gait=data_hc_n[hc_preds]\n",
        "  hc_gait[:,ind]=data_hc_gait\n",
        "\n",
        "hc_gait=hc_gait.reshape((-1,128,3)) #reshape the data to samples in length of 128 to fit the gait_identification Network\n"
      ],
      "execution_count": null,
      "outputs": []
    },
    {
      "cell_type": "code",
      "metadata": {
        "id": "Cl-f8IdcS5qf"
      },
      "source": [
        "#extracting only the gait episodes- PD\n",
        "pd_preds=pd_preds==1\n",
        "pd_gait=np.zeros((sum(pd_preds),3))\n",
        "for ind in range(3):\n",
        "  data_pd_n=data_pd[:,ind,:].reshape(-1)\n",
        "  data_pd_gait=data_pd_n[pd_preds]\n",
        "  pd_gait[:,ind]=data_pd_gait\n",
        "\n",
        "pd_gait=pd_gait.reshape((-1,128,3)) #reshape the data to samples in length of 128 to fit the gait_identification Network"
      ],
      "execution_count": null,
      "outputs": []
    },
    {
      "cell_type": "code",
      "metadata": {
        "id": "x1LcLb5eS8Ll"
      },
      "source": [
        "with open('/content/drive/MyDrive/DL- Danny & Yonatan/Project DL/classification_data/hc_gait.npy', 'wb') as f:\n",
        "    pickle.dump(hc_gait, f, protocol=4)\n",
        "with open('/content/drive/MyDrive/DL- Danny & Yonatan/Project DL/classification_data/pd_gait.npy', 'wb') as f:\n",
        "    pickle.dump(pd_gait, f, protocol=4)\n"
      ],
      "execution_count": null,
      "outputs": []
    }
  ]
}