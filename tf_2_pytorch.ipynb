{
  "nbformat": 4,
  "nbformat_minor": 0,
  "metadata": {
    "colab": {
      "name": "tf_2_pytorch.ipynb",
      "provenance": [],
      "collapsed_sections": [],
      "include_colab_link": true
    },
    "kernelspec": {
      "name": "python3",
      "display_name": "Python 3"
    },
    "language_info": {
      "name": "python"
    },
    "accelerator": "GPU"
  },
  "cells": [
    {
      "cell_type": "markdown",
      "metadata": {
        "id": "view-in-github",
        "colab_type": "text"
      },
      "source": [
        "<a href=\"https://colab.research.google.com/github/yonbrand/Gait-Recognition/blob/main/tf_2_pytorch.ipynb\" target=\"_parent\"><img src=\"https://colab.research.google.com/assets/colab-badge.svg\" alt=\"Open In Colab\"/></a>"
      ]
    },
    {
      "cell_type": "markdown",
      "metadata": {
        "id": "HlUL3mzq-5XR"
      },
      "source": [
        "## Gait Segmentation\n",
        "This code aims to take an acceleration raw data from daily-living, and extract the gait (walking) segmentation during the recording period.\n",
        "This code is based on the original paper code: https://github.com/qinnzou/Gait-Recognition-Using-Smartphones/blob/master/code/gait-extraction/tf_seg_new.ipynb\n",
        "\n",
        "Converted from TensorFlow to Pytorch"
      ]
    },
    {
      "cell_type": "code",
      "metadata": {
        "colab": {
          "base_uri": "https://localhost:8080/"
        },
        "id": "ts9ugKeiV0V3",
        "outputId": "823ea430-9e3e-4d85-841a-04c3e496d205"
      },
      "source": [
        "from google.colab import drive\n",
        "drive.mount('/content/drive', force_remount=True)"
      ],
      "execution_count": 1,
      "outputs": [
        {
          "output_type": "stream",
          "name": "stdout",
          "text": [
            "Mounted at /content/drive\n"
          ]
        }
      ]
    },
    {
      "cell_type": "code",
      "metadata": {
        "colab": {
          "base_uri": "https://localhost:8080/"
        },
        "id": "xaobT1jWV7ya",
        "outputId": "410e4259-2dd9-4101-fd46-220310c39648"
      },
      "source": [
        "import os \n",
        "import numpy as np\n",
        "from numpy import genfromtxt\n",
        "\n",
        "import torch\n",
        "import torch.nn as nn\n",
        "import torch.optim as optim\n",
        "import torch.nn.functional as F\n",
        "from torch.utils.data import TensorDataset, DataLoader\n",
        "\n",
        "\n",
        "cuda = True if torch.cuda.is_available() else False\n",
        "device = torch.device(\"cuda\" if torch.cuda.is_available() else \"cpu\")\n",
        "device"
      ],
      "execution_count": 2,
      "outputs": [
        {
          "output_type": "execute_result",
          "data": {
            "text/plain": [
              "device(type='cuda')"
            ]
          },
          "metadata": {},
          "execution_count": 2
        }
      ]
    },
    {
      "cell_type": "markdown",
      "metadata": {
        "id": "3mu339m_-Yig"
      },
      "source": [
        "# Load the data"
      ]
    },
    {
      "cell_type": "code",
      "metadata": {
        "id": "ALUY0vP4Wj7w"
      },
      "source": [
        "def read_data(data_path):\n",
        "    data = []\n",
        "    # 1.txt\n",
        "    file_names = os.listdir(data_path)\n",
        "    file_names.sort(key=lambda x:int(x[:-4]))\n",
        "    for file_name in file_names:\n",
        "        file_path = os.path.join(data_path, file_name)\n",
        "        signal_data = np.loadtxt(file_path)\n",
        "        data.append(signal_data)\n",
        "    data = np.array(data).transpose(0, 2, 1)\n",
        "    d_shape = data.shape\n",
        "    return data.reshape(d_shape[0], 1, d_shape[1], d_shape[2])\n",
        "\n",
        "def read_label(data_path):\n",
        "    data = []\n",
        "    # 1.txt\n",
        "    file_names = os.listdir(data_path)\n",
        "    file_names.sort(key=lambda x:int(x[:-10]))\n",
        "    for file_name in file_names:\n",
        "        file_path = os.path.join(data_path, file_name)\n",
        "        signal_data = np.loadtxt(file_path)\n",
        "        data.append(signal_data)\n",
        "    return np.array(data)"
      ],
      "execution_count": 3,
      "outputs": []
    },
    {
      "cell_type": "code",
      "metadata": {
        "id": "YPv-5zwNii4k"
      },
      "source": [
        "label_path='/content/drive/MyDrive/DL- Danny & Yonatan/Project DL/ Research Data//labels.csv'"
      ],
      "execution_count": 44,
      "outputs": []
    },
    {
      "cell_type": "code",
      "metadata": {
        "id": "cAq29k8A3fAO"
      },
      "source": [
        "def read_labels(data_path):\n",
        "  all_labels=[]\n",
        "  for ind in range(len(os.listdir(label_path))):\n",
        "    labels=genfromtxt(data_path, delimiter=',')\n",
        "    sample_labels=np.zeros((len(labels)//1024,1024))\n",
        "    for id in range(len(labels)//1024):\n",
        "      sample_labels[id,:]=labels[id*1024:(id+1)*1024]\n",
        "    all_labels=np.append(all_labels,sample_labels,axis=0)\n"
      ],
      "execution_count": 67,
      "outputs": []
    },
    {
      "cell_type": "code",
      "metadata": {
        "id": "-2YsGMuSXjeo"
      },
      "source": [
        "#root = \"drive//My Drive//danny//data\"\n",
        "path='/content/drive/MyDrive/DL- Danny & Yonatan/Datasets for gait segmentation/Dataset #8'\n",
        "train_data_path = os.path.join(path, \"train//train_data\")\n",
        "train_label_path = os.path.join(path, \"train//train_label\")\n",
        "test_data_path = os.path.join(path, \"test//test_data\")\n",
        "test_label_path = os.path.join(path, \"test//test_label\")"
      ],
      "execution_count": 4,
      "outputs": []
    },
    {
      "cell_type": "code",
      "metadata": {
        "colab": {
          "base_uri": "https://localhost:8080/"
        },
        "id": "S4JTk73sXyuv",
        "outputId": "d12544b3-d6f1-415a-9699-8e08923940a1"
      },
      "source": [
        "os.path.isdir(train_data_path)\n"
      ],
      "execution_count": 29,
      "outputs": [
        {
          "output_type": "execute_result",
          "data": {
            "text/plain": [
              "True"
            ]
          },
          "metadata": {},
          "execution_count": 29
        }
      ]
    },
    {
      "cell_type": "code",
      "metadata": {
        "id": "gBqZs-hoUG7V"
      },
      "source": [
        "train_data = read_data(train_data_path) \n",
        "train_label = read_label(train_label_path)\n",
        "test_data = read_data(test_data_path) \n",
        "test_label = read_label(test_label_path)"
      ],
      "execution_count": null,
      "outputs": []
    },
    {
      "cell_type": "code",
      "metadata": {
        "colab": {
          "base_uri": "https://localhost:8080/"
        },
        "id": "y4WsoncJflyg",
        "outputId": "41da6013-7870-49c6-a207-cb34b3b467f9"
      },
      "source": [
        "print(train_data.shape)\n",
        "print(train_label.shape)\n",
        "print(test_data.shape)\n",
        "print(test_label.shape)\n",
        "#np.save(\"train_data.npy\", train_data)\n",
        "#np.save(\"train_label.npy\", train_label)\n",
        "#np.save(\"test_data.npy\", test_data)\n",
        "#np.save(\"test_label.npy\", test_label)"
      ],
      "execution_count": null,
      "outputs": [
        {
          "output_type": "stream",
          "text": [
            "(1022, 1, 6, 1024)\n",
            "(1022, 1024)\n",
            "(332, 1, 6, 1024)\n",
            "(332, 1024)\n"
          ],
          "name": "stdout"
        }
      ]
    },
    {
      "cell_type": "code",
      "metadata": {
        "id": "Iobr4jj4-WkW"
      },
      "source": [
        "train_data=np.load(\"/content/drive/MyDrive/DL- Danny & Yonatan/Project DL/Paper's data&labels example/train_data.npy\").reshape(519,1,1024,6)\n",
        "train_label=np.load(\"/content/drive/MyDrive/DL- Danny & Yonatan/Project DL/Paper's data&labels example/train_label.npy\").reshape(519,1024)\n",
        "test_data=np.load(\"/content/drive/MyDrive/DL- Danny & Yonatan/Project DL/Paper's data&labels example/test_data.npy\").reshape(58,1,1024,6)\n",
        "test_label=np.load(\"/content/drive/MyDrive/DL- Danny & Yonatan/Project DL/Paper's data&labels example/test_label.npy\").reshape(58,1024)"
      ],
      "execution_count": 6,
      "outputs": []
    },
    {
      "cell_type": "code",
      "metadata": {
        "colab": {
          "base_uri": "https://localhost:8080/"
        },
        "id": "U6i6E_ZVrSMQ",
        "outputId": "a5720353-a5f9-46e7-f25b-24417a0bd061"
      },
      "source": [
        "#ttt = torch.from_numpy(train_data[0:2]).to(device)\n",
        "#ttt.size()"
      ],
      "execution_count": null,
      "outputs": [
        {
          "output_type": "execute_result",
          "data": {
            "text/plain": [
              "torch.Size([2, 1, 6, 1024])"
            ]
          },
          "metadata": {
            "tags": []
          },
          "execution_count": 9
        }
      ]
    },
    {
      "cell_type": "markdown",
      "metadata": {
        "id": "134AMPev-U__"
      },
      "source": [
        "Network Architecture"
      ]
    },
    {
      "cell_type": "code",
      "metadata": {
        "id": "Pg55CbhwDzGf"
      },
      "source": [
        "class Network(nn.Module):\n",
        "    def __init__(self):\n",
        "        super().__init__()\n",
        "\n",
        "        self.conv1_1 = nn.Conv2d(in_channels=1, out_channels=64, kernel_size=[1,16])\n",
        "        self.conv1_2 = nn.Conv2d(in_channels=64, out_channels=64, kernel_size=[1,16])\n",
        "\n",
        "        self.conv2_1 = nn.Conv2d(in_channels=64, out_channels=128, kernel_size=[1,16])\n",
        "        self.conv2_2 = nn.Conv2d(in_channels=128, out_channels=128, kernel_size=[1,16])\n",
        "\n",
        "        self.conv3_1 = nn.Conv2d(in_channels=128, out_channels=256, kernel_size=[1,16])\n",
        "        self.conv3_2 = nn.Conv2d(in_channels=256, out_channels=256, kernel_size=[1,16])\n",
        "\n",
        "        self.convTranspose1 = nn.ConvTranspose2d(256, 128, (1, 2), stride=(1, 2))\n",
        "        self.conv2_5 = nn.Conv2d(in_channels=256, out_channels=128, kernel_size=[1,16])\n",
        "        self.conv2_6 = nn.Conv2d(in_channels=128, out_channels=128, kernel_size=[1,16])\n",
        "\n",
        "        self.convTranspose2 = nn.ConvTranspose2d(128, 64, (1, 2), stride=(1, 2))\n",
        "        self.conv1_4 = nn.Conv2d(in_channels=128, out_channels=64, kernel_size=[1,16])\n",
        "        self.conv1_4_2 = nn.Conv2d(in_channels=64, out_channels=64, kernel_size=[1,16])\n",
        "        self.conv1_5 = nn.Conv2d(in_channels=64, out_channels=256, kernel_size=[6,1])\n",
        "        self.conv1_6 = nn.Conv2d(in_channels=256, out_channels=1, kernel_size=1)\n",
        "\n",
        "  # define forward function\n",
        "    def forward(self, x):\n",
        "        pad_x = nn.ReflectionPad2d((7, 8, 0, 0))(x)\n",
        "\n",
        "        conv1_1 = F.relu( self.conv1_1(pad_x) )\n",
        "        conv1_1 = nn.ReflectionPad2d((7, 8, 0, 0))(conv1_1)\n",
        "        conv1_2 = F.relu( self.conv1_2(conv1_1) )\n",
        "\n",
        "        conv2_1 = nn.MaxPool2d(kernel_size=[1,2], stride=[1,2])(conv1_2)\n",
        "\n",
        "        conv2_1 = nn.ReflectionPad2d((7, 8, 0, 0 ))(conv2_1)\n",
        "        conv2_2 = F.relu( self.conv2_1(conv2_1) )\n",
        "        conv2_2 = nn.ReflectionPad2d((7, 8, 0, 0 ))(conv2_2)\n",
        "        conv2_3 = F.relu( self.conv2_2(conv2_2) )\n",
        "\n",
        "        conv3_1 = nn.MaxPool2d(kernel_size=[1,2], stride=[1,2])(conv2_3)\n",
        "\n",
        "        conv3_1 = nn.ReflectionPad2d((7, 8, 0, 0))(conv3_1)\n",
        "        conv3_2 = F.relu( self.conv3_1(conv3_1) )\n",
        "        conv3_2 = nn.ReflectionPad2d((7, 8, 0, 0))(conv3_2)\n",
        "        conv3_3 = F.relu( self.conv3_2(conv3_2) )\n",
        "        conv3_3 = nn.ReflectionPad2d((7, 8, 0, 0))(conv3_3)\n",
        "        conv3_4 = F.relu( self.conv3_2(conv3_3) )\n",
        "\n",
        "        conv2_4_1 = self.convTranspose1(conv3_4)\n",
        "        conv2_4 = torch.cat((conv2_4_1, conv2_3), 1)\n",
        "        conv2_4 = nn.ReflectionPad2d((7, 8, 0, 0))(conv2_4)\n",
        "        conv2_5 = F.relu( self.conv2_5(conv2_4) )\n",
        "        conv2_5 = nn.ReflectionPad2d((7, 8, 0, 0))(conv2_5)\n",
        "        conv2_6 = F.relu( self.conv2_6(conv2_5) )\n",
        "\n",
        "        conv1_3_1 = self.convTranspose2(conv2_6)\n",
        "        conv1_3 = torch.cat((conv1_2, conv1_3_1), 1)\n",
        "        conv1_3 = nn.ReflectionPad2d((7, 8, 0, 0))(conv1_3)\n",
        "        conv1_4 = F.relu( self.conv1_4(conv1_3) )\n",
        "        conv1_4 = nn.ReflectionPad2d((7, 8, 0, 0))(conv1_4)\n",
        "        conv1_4 = F.relu( self.conv1_4_2(conv1_4) )\n",
        "        conv1_5 = F.relu( self.conv1_5(conv1_4) )\n",
        "        conv1_6 = torch.sigmoid( self.conv1_6(conv1_5) )\n",
        "\n",
        "        out = torch.reshape(conv1_6, (-1, 1024))\n",
        "\n",
        "        return out"
      ],
      "execution_count": null,
      "outputs": []
    },
    {
      "cell_type": "code",
      "metadata": {
        "id": "K0wfiUB9iChi"
      },
      "source": [
        "# Training Parameters\n",
        "learning_rate = 0.00001\n",
        "num_steps = 150\n",
        "batch_size = 32\n",
        "display_step = 1\n",
        "data_len = len(train_data)"
      ],
      "execution_count": null,
      "outputs": []
    },
    {
      "cell_type": "code",
      "metadata": {
        "id": "f89qEohlfwIN"
      },
      "source": [
        "tensor_x_train = torch.Tensor(train_data).float().to(device) # transform to torch tensor\n",
        "tensor_y_train = torch.Tensor(train_label).float().to(device)\n",
        "\n",
        "train_dataset = TensorDataset(tensor_x_train,tensor_y_train) # create your datset\n",
        "train_dataloader = DataLoader(train_dataset, batch_size = batch_size, shuffle=True) # create your dataloader\n",
        "\n",
        "\n",
        "tensor_x_test = torch.Tensor(test_data).float().to(device) # transform to torch tensor\n",
        "tensor_y_test = torch.Tensor(test_label).float().to(device)\n",
        "\n",
        "test_dataset = TensorDataset(tensor_x_test,tensor_y_test) # create your datset\n",
        "test_dataloader = DataLoader(test_dataset) # create your dataloader\n",
        "\n"
      ],
      "execution_count": null,
      "outputs": []
    },
    {
      "cell_type": "code",
      "metadata": {
        "id": "2urcO9RViI54"
      },
      "source": [
        "model = Network().to(device)\n",
        "optimizer = optim.Adam(model.parameters(), lr=learning_rate)"
      ],
      "execution_count": null,
      "outputs": []
    },
    {
      "cell_type": "code",
      "metadata": {
        "id": "cAws7BXboXZJ"
      },
      "source": [
        "def my_loss(y_,output_map):\n",
        "  t0 = y_*torch.log(torch.clamp(output_map,1e-10,1.0))\n",
        "  t1 = (1-y_)*torch.log(torch.clamp(1-output_map,1e-10,1.0))\n",
        "  return -torch.mean( t0 + t1)\n",
        "  #return -torch.mean( y_*torch.log(torch.clamp(output_map,1e-10,1.0)) +(1-y_)*torch.log(torch.clamp(1-output_map,1e-10,1.0)))"
      ],
      "execution_count": null,
      "outputs": []
    },
    {
      "cell_type": "code",
      "metadata": {
        "id": "DQbzPgNlwi4O"
      },
      "source": [
        "def plot_model_loss( train_loss, title=\"train loss\"):\n",
        "    \n",
        "    import matplotlib.pyplot as plt\n",
        "\n",
        "    train = np.array(train_loss)\n",
        "    #test = np.array(test_loss)\n",
        "\n",
        "    plt.plot(train, color='blue', label='Training loss') \n",
        "    #plt.plot(test, color='red', label='Test loss') \n",
        "    \n",
        "    plt.xlabel('Epoch')  \n",
        "    plt.ylabel('loss')  \n",
        "\n",
        "    plt.title(title) \n",
        "\n",
        "    plt.legend()\n",
        "    plt.show()"
      ],
      "execution_count": null,
      "outputs": []
    },
    {
      "cell_type": "code",
      "metadata": {
        "id": "U2MFB7se-3D4"
      },
      "source": [
        "def check_acc(model, loader):\n",
        "    correct = 0\n",
        "    total = 0\n",
        "    with torch.no_grad():\n",
        "        for data in loader:\n",
        "            features, labels = data\n",
        "            outputs = model(features)\n",
        "            _, predicted = outputs.max(1)\n",
        "            total += labels.size(0)\n",
        "            correct += (predicted == labels).sum().item()\n",
        "\n",
        "            \n",
        "    acc = (100 * correct / total)\n",
        "    if loader=='train_loader':\n",
        "      print('Accuracy on the training set is : %.3f %%' % acc)\n",
        "    elif loader=='test_loader':\n",
        "      print('Accuracy on the validation set is: %.3f %%' % acc)\n",
        "    \n",
        "    return acc"
      ],
      "execution_count": null,
      "outputs": []
    },
    {
      "cell_type": "markdown",
      "metadata": {
        "id": "pNg7LBZn-Puc"
      },
      "source": [
        "# Train the model"
      ]
    },
    {
      "cell_type": "code",
      "metadata": {
        "colab": {
          "base_uri": "https://localhost:8080/"
        },
        "id": "EG_Wgm6IhurS",
        "outputId": "2e870d95-a78d-45e6-b9d8-544db99cf5a5"
      },
      "source": [
        "all_train_loss = []\n",
        "all_test_loss = []\n",
        "\n",
        "for epoch in range(num_steps):\n",
        "      \n",
        "  model.train()\n",
        "  for batch_idx, (data, labels) in enumerate(train_dataloader):\n",
        "    \n",
        "    preds = model(data)\n",
        "\n",
        "    #loss = F.cross_entropy(preds, labels.to(device))\n",
        "    loss = my_loss(labels, preds)\n",
        "    optimizer.zero_grad()\n",
        "    loss.backward()\n",
        "    optimizer.step()\n",
        "\n",
        "    bach_loss = loss.item()\n",
        "\n",
        "    # if batch_idx % 5 == 0:    \n",
        "    #      print('[%d, %5d] loss: %.3f' %\n",
        "    #            (epoch, batch_idx, bach_loss))\n",
        "\n",
        "  all_train_loss.append(bach_loss)\n",
        "  model.eval()\n",
        "  \n",
        "  # test_preds = model(tensor_x_test)\n",
        "  # test_loss = my_loss(tensor_y_test, test_preds)\n",
        "  # all_test_loss.append(test_loss)\n",
        "\n",
        "  #print(\"epoch %d,  train loss : %.3f, test loss : %.3f\" % (epoch, bach_loss, test_loss))  \n",
        "  print(\"epoch %d,  train loss : %.3f,\" % (epoch, bach_loss))  \n",
        "\n",
        "\n",
        "  #train_acc.append( check_acc(model, train_loader) )\n",
        "  #validation_acc.append( check_acc(model, test_loader) ) "
      ],
      "execution_count": null,
      "outputs": [
        {
          "output_type": "stream",
          "text": [
            "/usr/local/lib/python3.7/dist-packages/torch/nn/functional.py:718: UserWarning: Named tensors and all their associated APIs are an experimental feature and subject to change. Please do not use them for anything important until they are released as stable. (Triggered internally at  /pytorch/c10/core/TensorImpl.h:1156.)\n",
            "  return torch.max_pool2d(input, kernel_size, stride, padding, dilation, ceil_mode)\n"
          ],
          "name": "stderr"
        },
        {
          "output_type": "stream",
          "text": [
            "epoch 0,  train loss : 0.695,\n",
            "epoch 1,  train loss : 0.673,\n",
            "epoch 2,  train loss : 0.629,\n",
            "epoch 3,  train loss : 0.545,\n",
            "epoch 4,  train loss : 0.582,\n",
            "epoch 5,  train loss : 0.516,\n",
            "epoch 6,  train loss : 0.459,\n",
            "epoch 7,  train loss : 0.440,\n",
            "epoch 8,  train loss : 0.372,\n",
            "epoch 9,  train loss : 0.362,\n",
            "epoch 10,  train loss : 0.449,\n",
            "epoch 11,  train loss : 0.472,\n",
            "epoch 12,  train loss : 0.273,\n",
            "epoch 13,  train loss : 0.363,\n",
            "epoch 14,  train loss : 0.351,\n",
            "epoch 15,  train loss : 0.314,\n",
            "epoch 16,  train loss : 0.288,\n",
            "epoch 17,  train loss : 0.291,\n",
            "epoch 18,  train loss : 0.349,\n",
            "epoch 19,  train loss : 0.316,\n",
            "epoch 20,  train loss : 0.335,\n",
            "epoch 21,  train loss : 0.396,\n",
            "epoch 22,  train loss : 0.373,\n",
            "epoch 23,  train loss : 0.330,\n",
            "epoch 24,  train loss : 0.303,\n",
            "epoch 25,  train loss : 0.296,\n",
            "epoch 26,  train loss : 0.281,\n",
            "epoch 27,  train loss : 0.341,\n",
            "epoch 28,  train loss : 0.306,\n",
            "epoch 29,  train loss : 0.306,\n",
            "epoch 30,  train loss : 0.366,\n",
            "epoch 31,  train loss : 0.468,\n",
            "epoch 32,  train loss : 0.235,\n",
            "epoch 33,  train loss : 0.344,\n",
            "epoch 34,  train loss : 0.270,\n",
            "epoch 35,  train loss : 0.288,\n",
            "epoch 36,  train loss : 0.348,\n",
            "epoch 37,  train loss : 0.357,\n",
            "epoch 38,  train loss : 0.259,\n",
            "epoch 39,  train loss : 0.413,\n",
            "epoch 40,  train loss : 0.257,\n",
            "epoch 41,  train loss : 0.407,\n",
            "epoch 42,  train loss : 0.260,\n",
            "epoch 43,  train loss : 0.396,\n",
            "epoch 44,  train loss : 0.269,\n",
            "epoch 45,  train loss : 0.304,\n",
            "epoch 46,  train loss : 0.356,\n",
            "epoch 47,  train loss : 0.281,\n",
            "epoch 48,  train loss : 0.298,\n",
            "epoch 49,  train loss : 0.426,\n",
            "epoch 50,  train loss : 0.296,\n",
            "epoch 51,  train loss : 0.352,\n",
            "epoch 52,  train loss : 0.192,\n",
            "epoch 53,  train loss : 0.253,\n",
            "epoch 54,  train loss : 0.255,\n",
            "epoch 55,  train loss : 0.226,\n",
            "epoch 56,  train loss : 0.254,\n",
            "epoch 57,  train loss : 0.266,\n",
            "epoch 58,  train loss : 0.248,\n",
            "epoch 59,  train loss : 0.263,\n",
            "epoch 60,  train loss : 0.283,\n",
            "epoch 61,  train loss : 0.243,\n",
            "epoch 62,  train loss : 0.317,\n",
            "epoch 63,  train loss : 0.232,\n",
            "epoch 64,  train loss : 0.300,\n",
            "epoch 65,  train loss : 0.299,\n",
            "epoch 66,  train loss : 0.354,\n",
            "epoch 67,  train loss : 0.282,\n",
            "epoch 68,  train loss : 0.263,\n",
            "epoch 69,  train loss : 0.234,\n",
            "epoch 70,  train loss : 0.340,\n",
            "epoch 71,  train loss : 0.291,\n",
            "epoch 72,  train loss : 0.320,\n",
            "epoch 73,  train loss : 0.240,\n",
            "epoch 74,  train loss : 0.385,\n",
            "epoch 75,  train loss : 0.214,\n",
            "epoch 76,  train loss : 0.328,\n",
            "epoch 77,  train loss : 0.258,\n",
            "epoch 78,  train loss : 0.226,\n",
            "epoch 79,  train loss : 0.346,\n",
            "epoch 80,  train loss : 0.243,\n",
            "epoch 81,  train loss : 0.327,\n",
            "epoch 82,  train loss : 0.280,\n",
            "epoch 83,  train loss : 0.448,\n",
            "epoch 84,  train loss : 0.339,\n",
            "epoch 85,  train loss : 0.320,\n",
            "epoch 86,  train loss : 0.263,\n",
            "epoch 87,  train loss : 0.229,\n",
            "epoch 88,  train loss : 0.372,\n",
            "epoch 89,  train loss : 0.292,\n",
            "epoch 90,  train loss : 0.294,\n",
            "epoch 91,  train loss : 0.228,\n",
            "epoch 92,  train loss : 0.380,\n",
            "epoch 93,  train loss : 0.192,\n",
            "epoch 94,  train loss : 0.197,\n",
            "epoch 95,  train loss : 0.206,\n",
            "epoch 96,  train loss : 0.272,\n",
            "epoch 97,  train loss : 0.344,\n",
            "epoch 98,  train loss : 0.246,\n",
            "epoch 99,  train loss : 0.221,\n",
            "epoch 100,  train loss : 0.301,\n",
            "epoch 101,  train loss : 0.261,\n",
            "epoch 102,  train loss : 0.201,\n",
            "epoch 103,  train loss : 0.162,\n",
            "epoch 104,  train loss : 0.352,\n",
            "epoch 105,  train loss : 0.243,\n",
            "epoch 106,  train loss : 0.270,\n",
            "epoch 107,  train loss : 0.299,\n",
            "epoch 108,  train loss : 0.222,\n",
            "epoch 109,  train loss : 0.261,\n",
            "epoch 110,  train loss : 0.226,\n",
            "epoch 111,  train loss : 0.261,\n",
            "epoch 112,  train loss : 0.166,\n",
            "epoch 113,  train loss : 0.174,\n",
            "epoch 114,  train loss : 0.141,\n",
            "epoch 115,  train loss : 0.238,\n",
            "epoch 116,  train loss : 0.290,\n",
            "epoch 117,  train loss : 0.309,\n",
            "epoch 118,  train loss : 0.274,\n",
            "epoch 119,  train loss : 0.170,\n",
            "epoch 120,  train loss : 0.296,\n",
            "epoch 121,  train loss : 0.196,\n",
            "epoch 122,  train loss : 0.259,\n",
            "epoch 123,  train loss : 0.254,\n",
            "epoch 124,  train loss : 0.233,\n",
            "epoch 125,  train loss : 0.188,\n",
            "epoch 126,  train loss : 0.255,\n",
            "epoch 127,  train loss : 0.205,\n",
            "epoch 128,  train loss : 0.275,\n",
            "epoch 129,  train loss : 0.276,\n",
            "epoch 130,  train loss : 0.253,\n",
            "epoch 131,  train loss : 0.245,\n",
            "epoch 132,  train loss : 0.220,\n",
            "epoch 133,  train loss : 0.329,\n",
            "epoch 134,  train loss : 0.183,\n",
            "epoch 135,  train loss : 0.245,\n",
            "epoch 136,  train loss : 0.301,\n",
            "epoch 137,  train loss : 0.208,\n",
            "epoch 138,  train loss : 0.338,\n",
            "epoch 139,  train loss : 0.291,\n",
            "epoch 140,  train loss : 0.156,\n",
            "epoch 141,  train loss : 0.252,\n",
            "epoch 142,  train loss : 0.244,\n",
            "epoch 143,  train loss : 0.193,\n",
            "epoch 144,  train loss : 0.239,\n",
            "epoch 145,  train loss : 0.280,\n",
            "epoch 146,  train loss : 0.203,\n",
            "epoch 147,  train loss : 0.206,\n",
            "epoch 148,  train loss : 0.269,\n",
            "epoch 149,  train loss : 0.225,\n"
          ],
          "name": "stdout"
        }
      ]
    },
    {
      "cell_type": "code",
      "metadata": {
        "id": "iMMnYK8jK7uA"
      },
      "source": [
        "torch.save(model.state_dict(), 'gait_extraction2.pt') #saving the trained model  "
      ],
      "execution_count": null,
      "outputs": []
    },
    {
      "cell_type": "code",
      "metadata": {
        "id": "NUJQBVrNxMWp",
        "colab": {
          "base_uri": "https://localhost:8080/",
          "height": 295
        },
        "outputId": "3d6c2a56-f178-406f-bbf1-9bcb8d91ffbb"
      },
      "source": [
        "plot_model_loss(all_train_loss)"
      ],
      "execution_count": null,
      "outputs": [
        {
          "output_type": "display_data",
          "data": {
            "image/png": "[encoded data removed]",
            "text/plain": [
              "<Figure size 432x288 with 1 Axes>"
            ]
          },
          "metadata": {
            "tags": [],
            "needs_background": "light"
          }
        }
      ]
    },
    {
      "cell_type": "markdown",
      "metadata": {
        "id": "lKmTkjAS-Lac"
      },
      "source": [
        "# Load trained model"
      ]
    },
    {
      "cell_type": "code",
      "metadata": {
        "colab": {
          "resources": {
            "http://localhost:8080/nbextensions/google.colab/files.js": {
              "data": "Ly8gQ29weXJpZ2h0IDIwMTcgR29vZ2xlIExMQwovLwovLyBMaWNlbnNlZCB1bmRlciB0aGUgQXBhY2hlIExpY2Vuc2UsIFZlcnNpb24gMi4wICh0aGUgIkxpY2Vuc2UiKTsKLy8geW91IG1heSBub3QgdXNlIHRoaXMgZmlsZSBleGNlcHQgaW4gY29tcGxpYW5jZSB3aXRoIHRoZSBMaWNlbnNlLgovLyBZb3UgbWF5IG9idGFpbiBhIGNvcHkgb2YgdGhlIExpY2Vuc2UgYXQKLy8KLy8gICAgICBodHRwOi8vd3d3LmFwYWNoZS5vcmcvbGljZW5zZXMvTElDRU5TRS0yLjAKLy8KLy8gVW5sZXNzIHJlcXVpcmVkIGJ5IGFwcGxpY2FibGUgbGF3IG9yIGFncmVlZCB0byBpbiB3cml0aW5nLCBzb2Z0d2FyZQovLyBkaXN0cmlidXRlZCB1bmRlciB0aGUgTGljZW5zZSBpcyBkaXN0cmlidXRlZCBvbiBhbiAiQVMgSVMiIEJBU0lTLAovLyBXSVRIT1VUIFdBUlJBTlRJRVMgT1IgQ09ORElUSU9OUyBPRiBBTlkgS0lORCwgZWl0aGVyIGV4cHJlc3Mgb3IgaW1wbGllZC4KLy8gU2VlIHRoZSBMaWNlbnNlIGZvciB0aGUgc3BlY2lmaWMgbGFuZ3VhZ2UgZ292ZXJuaW5nIHBlcm1pc3Npb25zIGFuZAovLyBsaW1pdGF0aW9ucyB1bmRlciB0aGUgTGljZW5zZS4KCi8qKgogKiBAZmlsZW92ZXJ2aWV3IEhlbHBlcnMgZm9yIGdvb2dsZS5jb2xhYiBQeXRob24gbW9kdWxlLgogKi8KKGZ1bmN0aW9uKHNjb3BlKSB7CmZ1bmN0aW9uIHNwYW4odGV4dCwgc3R5bGVBdHRyaWJ1dGVzID0ge30pIHsKICBjb25zdCBlbGVtZW50ID0gZG9jdW1lbnQuY3JlYXRlRWxlbWVudCgnc3BhbicpOwogIGVsZW1lbnQudGV4dENvbnRlbnQgPSB0ZXh0OwogIGZvciAoY29uc3Qga2V5IG9mIE9iamVjdC5rZXlzKHN0eWxlQXR0cmlidXRlcykpIHsKICAgIGVsZW1lbnQuc3R5bGVba2V5XSA9IHN0eWxlQXR0cmlidXRlc1trZXldOwogIH0KICByZXR1cm4gZWxlbWVudDsKfQoKLy8gTWF4IG51bWJlciBvZiBieXRlcyB3aGljaCB3aWxsIGJlIHVwbG9hZGVkIGF0IGEgdGltZS4KY29uc3QgTUFYX1BBWUxPQURfU0laRSA9IDEwMCAqIDEwMjQ7CgpmdW5jdGlvbiBfdXBsb2FkRmlsZXMoaW5wdXRJZCwgb3V0cHV0SWQpIHsKICBjb25zdCBzdGVwcyA9IHVwbG9hZEZpbGVzU3RlcChpbnB1dElkLCBvdXRwdXRJZCk7CiAgY29uc3Qgb3V0cHV0RWxlbWVudCA9IGRvY3VtZW50LmdldEVsZW1lbnRCeUlkKG91dHB1dElkKTsKICAvLyBDYWNoZSBzdGVwcyBvbiB0aGUgb3V0cHV0RWxlbWVudCB0byBtYWtlIGl0IGF2YWlsYWJsZSBmb3IgdGhlIG5leHQgY2FsbAogIC8vIHRvIHVwbG9hZEZpbGVzQ29udGludWUgZnJvbSBQeXRob24uCiAgb3V0cHV0RWxlbWVudC5zdGVwcyA9IHN0ZXBzOwoKICByZXR1cm4gX3VwbG9hZEZpbGVzQ29udGludWUob3V0cHV0SWQpOwp9CgovLyBUaGlzIGlzIHJvdWdobHkgYW4gYXN5bmMgZ2VuZXJhdG9yIChub3Qgc3VwcG9ydGVkIGluIHRoZSBicm93c2VyIHlldCksCi8vIHdoZXJlIHRoZXJlIGFyZSBtdWx0aXBsZSBhc3luY2hyb25vdXMgc3RlcHMgYW5kIHRoZSBQeXRob24gc2lkZSBpcyBnb2luZwovLyB0byBwb2xsIGZvciBjb21wbGV0aW9uIG9mIGVhY2ggc3RlcC4KLy8gVGhpcyB1c2VzIGEgUHJvbWlzZSB0byBibG9jayB0aGUgcHl0aG9uIHNpZGUgb24gY29tcGxldGlvbiBvZiBlYWNoIHN0ZXAsCi8vIHRoZW4gcGFzc2VzIHRoZSByZXN1bHQgb2YgdGhlIHByZXZpb3VzIHN0ZXAgYXMgdGhlIGlucHV0IHRvIHRoZSBuZXh0IHN0ZXAuCmZ1bmN0aW9uIF91cGxvYWRGaWxlc0NvbnRpbnVlKG91dHB1dElkKSB7CiAgY29uc3Qgb3V0cHV0RWxlbWVudCA9IGRvY3VtZW50LmdldEVsZW1lbnRCeUlkKG91dHB1dElkKTsKICBjb25zdCBzdGVwcyA9IG91dHB1dEVsZW1lbnQuc3RlcHM7CgogIGNvbnN0IG5leHQgPSBzdGVwcy5uZXh0KG91dHB1dEVsZW1lbnQubGFzdFByb21pc2VWYWx1ZSk7CiAgcmV0dXJuIFByb21pc2UucmVzb2x2ZShuZXh0LnZhbHVlLnByb21pc2UpLnRoZW4oKHZhbHVlKSA9PiB7CiAgICAvLyBDYWNoZSB0aGUgbGFzdCBwcm9taXNlIHZhbHVlIHRvIG1ha2UgaXQgYXZhaWxhYmxlIHRvIHRoZSBuZXh0CiAgICAvLyBzdGVwIG9mIHRoZSBnZW5lcmF0b3IuCiAgICBvdXRwdXRFbGVtZW50Lmxhc3RQcm9taXNlVmFsdWUgPSB2YWx1ZTsKICAgIHJldHVybiBuZXh0LnZhbHVlLnJlc3BvbnNlOwogIH0pOwp9CgovKioKICogR2VuZXJhdG9yIGZ1bmN0aW9uIHdoaWNoIGlzIGNhbGxlZCBiZXR3ZWVuIGVhY2ggYXN5bmMgc3RlcCBvZiB0aGUgdXBsb2FkCiAqIHByb2Nlc3MuCiAqIEBwYXJhbSB7c3RyaW5nfSBpbnB1dElkIEVsZW1lbnQgSUQgb2YgdGhlIGlucHV0IGZpbGUgcGlja2VyIGVsZW1lbnQuCiAqIEBwYXJhbSB7c3RyaW5nfSBvdXRwdXRJZCBFbGVtZW50IElEIG9mIHRoZSBvdXRwdXQgZGlzcGxheS4KICogQHJldHVybiB7IUl0ZXJhYmxlPCFPYmplY3Q+fSBJdGVyYWJsZSBvZiBuZXh0IHN0ZXBzLgogKi8KZnVuY3Rpb24qIHVwbG9hZEZpbGVzU3RlcChpbnB1dElkLCBvdXRwdXRJZCkgewogIGNvbnN0IGlucHV0RWxlbWVudCA9IGRvY3VtZW50LmdldEVsZW1lbnRCeUlkKGlucHV0SWQpOwogIGlucHV0RWxlbWVudC5kaXNhYmxlZCA9IGZhbHNlOwoKICBjb25zdCBvdXRwdXRFbGVtZW50ID0gZG9jdW1lbnQuZ2V0RWxlbWVudEJ5SWQob3V0cHV0SWQpOwogIG91dHB1dEVsZW1lbnQuaW5uZXJIVE1MID0gJyc7CgogIGNvbnN0IHBpY2tlZFByb21pc2UgPSBuZXcgUHJvbWlzZSgocmVzb2x2ZSkgPT4gewogICAgaW5wdXRFbGVtZW50LmFkZEV2ZW50TGlzdGVuZXIoJ2NoYW5nZScsIChlKSA9PiB7CiAgICAgIHJlc29sdmUoZS50YXJnZXQuZmlsZXMpOwogICAgfSk7CiAgfSk7CgogIGNvbnN0IGNhbmNlbCA9IGRvY3VtZW50LmNyZWF0ZUVsZW1lbnQoJ2J1dHRvbicpOwogIGlucHV0RWxlbWVudC5wYXJlbnRFbGVtZW50LmFwcGVuZENoaWxkKGNhbmNlbCk7CiAgY2FuY2VsLnRleHRDb250ZW50ID0gJ0NhbmNlbCB1cGxvYWQnOwogIGNvbnN0IGNhbmNlbFByb21pc2UgPSBuZXcgUHJvbWlzZSgocmVzb2x2ZSkgPT4gewogICAgY2FuY2VsLm9uY2xpY2sgPSAoKSA9PiB7CiAgICAgIHJlc29sdmUobnVsbCk7CiAgICB9OwogIH0pOwoKICAvLyBXYWl0IGZvciB0aGUgdXNlciB0byBwaWNrIHRoZSBmaWxlcy4KICBjb25zdCBmaWxlcyA9IHlpZWxkIHsKICAgIHByb21pc2U6IFByb21pc2UucmFjZShbcGlja2VkUHJvbWlzZSwgY2FuY2VsUHJvbWlzZV0pLAogICAgcmVzcG9uc2U6IHsKICAgICAgYWN0aW9uOiAnc3RhcnRpbmcnLAogICAgfQogIH07CgogIGNhbmNlbC5yZW1vdmUoKTsKCiAgLy8gRGlzYWJsZSB0aGUgaW5wdXQgZWxlbWVudCBzaW5jZSBmdXJ0aGVyIHBpY2tzIGFyZSBub3QgYWxsb3dlZC4KICBpbnB1dEVsZW1lbnQuZGlzYWJsZWQgPSB0cnVlOwoKICBpZiAoIWZpbGVzKSB7CiAgICByZXR1cm4gewogICAgICByZXNwb25zZTogewogICAgICAgIGFjdGlvbjogJ2NvbXBsZXRlJywKICAgICAgfQogICAgfTsKICB9CgogIGZvciAoY29uc3QgZmlsZSBvZiBmaWxlcykgewogICAgY29uc3QgbGkgPSBkb2N1bWVudC5jcmVhdGVFbGVtZW50KCdsaScpOwogICAgbGkuYXBwZW5kKHNwYW4oZmlsZS5uYW1lLCB7Zm9udFdlaWdodDogJ2JvbGQnfSkpOwogICAgbGkuYXBwZW5kKHNwYW4oCiAgICAgICAgYCgke2ZpbGUudHlwZSB8fCAnbi9hJ30pIC0gJHtmaWxlLnNpemV9IGJ5dGVzLCBgICsKICAgICAgICBgbGFzdCBtb2RpZmllZDogJHsKICAgICAgICAgICAgZmlsZS5sYXN0TW9kaWZpZWREYXRlID8gZmlsZS5sYXN0TW9kaWZpZWREYXRlLnRvTG9jYWxlRGF0ZVN0cmluZygpIDoKICAgICAgICAgICAgICAgICAgICAgICAgICAgICAgICAgICAgJ24vYSd9IC0gYCkpOwogICAgY29uc3QgcGVyY2VudCA9IHNwYW4oJzAlIGRvbmUnKTsKICAgIGxpLmFwcGVuZENoaWxkKHBlcmNlbnQpOwoKICAgIG91dHB1dEVsZW1lbnQuYXBwZW5kQ2hpbGQobGkpOwoKICAgIGNvbnN0IGZpbGVEYXRhUHJvbWlzZSA9IG5ldyBQcm9taXNlKChyZXNvbHZlKSA9PiB7CiAgICAgIGNvbnN0IHJlYWRlciA9IG5ldyBGaWxlUmVhZGVyKCk7CiAgICAgIHJlYWRlci5vbmxvYWQgPSAoZSkgPT4gewogICAgICAgIHJlc29sdmUoZS50YXJnZXQucmVzdWx0KTsKICAgICAgfTsKICAgICAgcmVhZGVyLnJlYWRBc0FycmF5QnVmZmVyKGZpbGUpOwogICAgfSk7CiAgICAvLyBXYWl0IGZvciB0aGUgZGF0YSB0byBiZSByZWFkeS4KICAgIGxldCBmaWxlRGF0YSA9IHlpZWxkIHsKICAgICAgcHJvbWlzZTogZmlsZURhdGFQcm9taXNlLAogICAgICByZXNwb25zZTogewogICAgICAgIGFjdGlvbjogJ2NvbnRpbnVlJywKICAgICAgfQogICAgfTsKCiAgICAvLyBVc2UgYSBjaHVua2VkIHNlbmRpbmcgdG8gYXZvaWQgbWVzc2FnZSBzaXplIGxpbWl0cy4gU2VlIGIvNjIxMTU2NjAuCiAgICBsZXQgcG9zaXRpb24gPSAwOwogICAgZG8gewogICAgICBjb25zdCBsZW5ndGggPSBNYXRoLm1pbihmaWxlRGF0YS5ieXRlTGVuZ3RoIC0gcG9zaXRpb24sIE1BWF9QQVlMT0FEX1NJWkUpOwogICAgICBjb25zdCBjaHVuayA9IG5ldyBVaW50OEFycmF5KGZpbGVEYXRhLCBwb3NpdGlvbiwgbGVuZ3RoKTsKICAgICAgcG9zaXRpb24gKz0gbGVuZ3RoOwoKICAgICAgY29uc3QgYmFzZTY0ID0gYnRvYShTdHJpbmcuZnJvbUNoYXJDb2RlLmFwcGx5KG51bGwsIGNodW5rKSk7CiAgICAgIHlpZWxkIHsKICAgICAgICByZXNwb25zZTogewogICAgICAgICAgYWN0aW9uOiAnYXBwZW5kJywKICAgICAgICAgIGZpbGU6IGZpbGUubmFtZSwKICAgICAgICAgIGRhdGE6IGJhc2U2NCwKICAgICAgICB9LAogICAgICB9OwoKICAgICAgbGV0IHBlcmNlbnREb25lID0gZmlsZURhdGEuYnl0ZUxlbmd0aCA9PT0gMCA/CiAgICAgICAgICAxMDAgOgogICAgICAgICAgTWF0aC5yb3VuZCgocG9zaXRpb24gLyBmaWxlRGF0YS5ieXRlTGVuZ3RoKSAqIDEwMCk7CiAgICAgIHBlcmNlbnQudGV4dENvbnRlbnQgPSBgJHtwZXJjZW50RG9uZX0lIGRvbmVgOwoKICAgIH0gd2hpbGUgKHBvc2l0aW9uIDwgZmlsZURhdGEuYnl0ZUxlbmd0aCk7CiAgfQoKICAvLyBBbGwgZG9uZS4KICB5aWVsZCB7CiAgICByZXNwb25zZTogewogICAgICBhY3Rpb246ICdjb21wbGV0ZScsCiAgICB9CiAgfTsKfQoKc2NvcGUuZ29vZ2xlID0gc2NvcGUuZ29vZ2xlIHx8IHt9OwpzY29wZS5nb29nbGUuY29sYWIgPSBzY29wZS5nb29nbGUuY29sYWIgfHwge307CnNjb3BlLmdvb2dsZS5jb2xhYi5fZmlsZXMgPSB7CiAgX3VwbG9hZEZpbGVzLAogIF91cGxvYWRGaWxlc0NvbnRpbnVlLAp9Owp9KShzZWxmKTsK",
              "ok": true,
              "headers": [
                [
                  "content-type",
                  "application/javascript"
                ]
              ],
              "status": 200,
              "status_text": "OK"
            }
          },
          "base_uri": "https://localhost:8080/",
          "height": 70
        },
        "id": "5r7mjlrp-HyZ",
        "outputId": "c2f11e31-af57-4110-8a64-09c37643bb34"
      },
      "source": [
        "from google.colab import files \n",
        "uploaded = files.upload() #upload the trained models files\n"
      ],
      "execution_count": null,
      "outputs": [
        {
          "output_type": "display_data",
          "data": {
            "text/html": [
              "\n",
              "     <input type=\"file\" id=\"files-cd1e16ce-d288-47aa-8d62-7e6b01604655\" name=\"files[]\" multiple disabled\n",
              "        style=\"border:none\" />\n",
              "     <output id=\"result-cd1e16ce-d288-47aa-8d62-7e6b01604655\">\n",
              "      Upload widget is only available when the cell has been executed in the\n",
              "      current browser session. Please rerun this cell to enable.\n",
              "      </output>\n",
              "      <script src=\"/nbextensions/google.colab/files.js\"></script> "
            ],
            "text/plain": [
              "<IPython.core.display.HTML object>"
            ]
          },
          "metadata": {
            "tags": []
          }
        },
        {
          "output_type": "stream",
          "text": [
            "Saving gait_extraction2.pt to gait_extraction2 (1).pt\n"
          ],
          "name": "stdout"
        }
      ]
    },
    {
      "cell_type": "code",
      "metadata": {
        "colab": {
          "base_uri": "https://localhost:8080/"
        },
        "id": "uRBwqL1gbTrM",
        "outputId": "8d80473a-ddd1-4992-c436-e26a24d970ef"
      },
      "source": [
        "#load one of the models\n",
        "model=Network().to(device)\n",
        "model.load_state_dict(torch.load('gait_extraction2 (1).pt')) #load the corresponding model\n",
        "model.to(device)"
      ],
      "execution_count": null,
      "outputs": [
        {
          "output_type": "execute_result",
          "data": {
            "text/plain": [
              "Network(\n",
              "  (conv1_1): Conv2d(1, 64, kernel_size=(1, 16), stride=(1, 1))\n",
              "  (conv1_2): Conv2d(64, 64, kernel_size=(1, 16), stride=(1, 1))\n",
              "  (conv2_1): Conv2d(64, 128, kernel_size=(1, 16), stride=(1, 1))\n",
              "  (conv2_2): Conv2d(128, 128, kernel_size=(1, 16), stride=(1, 1))\n",
              "  (conv3_1): Conv2d(128, 256, kernel_size=(1, 16), stride=(1, 1))\n",
              "  (conv3_2): Conv2d(256, 256, kernel_size=(1, 16), stride=(1, 1))\n",
              "  (convTranspose1): ConvTranspose2d(256, 128, kernel_size=(1, 2), stride=(1, 2))\n",
              "  (conv2_5): Conv2d(256, 128, kernel_size=(1, 16), stride=(1, 1))\n",
              "  (conv2_6): Conv2d(128, 128, kernel_size=(1, 16), stride=(1, 1))\n",
              "  (convTranspose2): ConvTranspose2d(128, 64, kernel_size=(1, 2), stride=(1, 2))\n",
              "  (conv1_4): Conv2d(128, 64, kernel_size=(1, 16), stride=(1, 1))\n",
              "  (conv1_4_2): Conv2d(64, 64, kernel_size=(1, 16), stride=(1, 1))\n",
              "  (conv1_5): Conv2d(64, 256, kernel_size=(6, 1), stride=(1, 1))\n",
              "  (conv1_6): Conv2d(256, 1, kernel_size=(1, 1), stride=(1, 1))\n",
              ")"
            ]
          },
          "metadata": {
            "tags": []
          },
          "execution_count": 27
        }
      ]
    },
    {
      "cell_type": "code",
      "metadata": {
        "id": "ec5Qs1tYk9dV"
      },
      "source": [
        "    import torch\n",
        "    torch.cuda.empty_cache()"
      ],
      "execution_count": null,
      "outputs": []
    },
    {
      "cell_type": "code",
      "metadata": {
        "id": "oLm8kF0jibCt",
        "colab": {
          "base_uri": "https://localhost:8080/",
          "height": 223
        },
        "outputId": "b469c3c6-bd1d-47d8-9eba-c8ebac914823"
      },
      "source": [
        "all_preds=[]\n",
        "for batch_idx, (data, labels) in enumerate(test_dataloader):\n",
        "\n",
        "  model.eval()\n",
        "  preds = model(data)\n",
        "  all_preds.append(preds)\n",
        "\n",
        "#all_preds=torch.cat(all_preds, dim=1)"
      ],
      "execution_count": null,
      "outputs": [
        {
          "output_type": "error",
          "ename": "NameError",
          "evalue": "ignored",
          "traceback": [
            "\u001b[0;31m---------------------------------------------------------------------------\u001b[0m",
            "\u001b[0;31mNameError\u001b[0m                                 Traceback (most recent call last)",
            "\u001b[0;32m<ipython-input-1-58f6b50b64b3>\u001b[0m in \u001b[0;36m<module>\u001b[0;34m()\u001b[0m\n\u001b[1;32m      1\u001b[0m \u001b[0mall_preds\u001b[0m\u001b[0;34m=\u001b[0m\u001b[0;34m[\u001b[0m\u001b[0;34m]\u001b[0m\u001b[0;34m\u001b[0m\u001b[0;34m\u001b[0m\u001b[0m\n\u001b[0;32m----> 2\u001b[0;31m \u001b[0;32mfor\u001b[0m \u001b[0mbatch_idx\u001b[0m\u001b[0;34m,\u001b[0m \u001b[0;34m(\u001b[0m\u001b[0mdata\u001b[0m\u001b[0;34m,\u001b[0m \u001b[0mlabels\u001b[0m\u001b[0;34m)\u001b[0m \u001b[0;32min\u001b[0m \u001b[0menumerate\u001b[0m\u001b[0;34m(\u001b[0m\u001b[0mtest_dataloader\u001b[0m\u001b[0;34m)\u001b[0m\u001b[0;34m:\u001b[0m\u001b[0;34m\u001b[0m\u001b[0;34m\u001b[0m\u001b[0m\n\u001b[0m\u001b[1;32m      3\u001b[0m   \u001b[0mprint\u001b[0m\u001b[0;34m(\u001b[0m\u001b[0mbatch_idx\u001b[0m\u001b[0;34m)\u001b[0m\u001b[0;34m\u001b[0m\u001b[0;34m\u001b[0m\u001b[0m\n\u001b[1;32m      4\u001b[0m   \u001b[0;31m#model.eval()\u001b[0m\u001b[0;34m\u001b[0m\u001b[0;34m\u001b[0m\u001b[0;34m\u001b[0m\u001b[0m\n\u001b[1;32m      5\u001b[0m   \u001b[0;31m#preds = model(data)\u001b[0m\u001b[0;34m\u001b[0m\u001b[0;34m\u001b[0m\u001b[0;34m\u001b[0m\u001b[0m\n",
            "\u001b[0;31mNameError\u001b[0m: name 'test_dataloader' is not defined"
          ]
        }
      ]
    },
    {
      "cell_type": "code",
      "metadata": {
        "id": "dtLWETvOR_gC"
      },
      "source": [
        "round_preds=torch.round(all_preds).view(-1)"
      ],
      "execution_count": null,
      "outputs": []
    },
    {
      "cell_type": "code",
      "metadata": {
        "id": "uWihHGWaGj2J"
      },
      "source": [
        "import matplotlib.pyplot as plt"
      ],
      "execution_count": null,
      "outputs": []
    },
    {
      "cell_type": "code",
      "metadata": {
        "id": "O3yj1PIRUeR8"
      },
      "source": [
        "x_test_reshape=tensor_x_test.reshape(6,59392)\n",
        "y_test_reshape=tensor_y_test.reshape(59392)"
      ],
      "execution_count": null,
      "outputs": []
    },
    {
      "cell_type": "code",
      "metadata": {
        "id": "NuGRan9QZVub"
      },
      "source": [
        "acc= torch.sqrt(x_test_reshape[0]**2+x_test_reshape[1]**2+x_test_reshape[2]**2) #the acceleration magnitude"
      ],
      "execution_count": null,
      "outputs": []
    },
    {
      "cell_type": "code",
      "metadata": {
        "colab": {
          "base_uri": "https://localhost:8080/",
          "height": 265
        },
        "id": "UG2hmlK0H-0t",
        "outputId": "e1a6d169-428b-4b06-cd4e-86c68968cb14"
      },
      "source": [
        "#visualizing raw_data\n",
        "plt.plot(acc[:1000].cpu())\n",
        "plt.plot(y_test_reshape[:1000].cpu()*40)\n",
        "plt.plot(round_preds[:1000].cpu()*40,'bo')\n",
        "plt.show()\n",
        "#plt.savefig('fig.png')"
      ],
      "execution_count": null,
      "outputs": [
        {
          "output_type": "display_data",
          "data": {
            "image/png": "[encoded data removed]",
            "text/plain": [
              "<Figure size 432x288 with 1 Axes>"
            ]
          },
          "metadata": {
            "tags": [],
            "needs_background": "light"
          }
        }
      ]
    },
    {
      "cell_type": "code",
      "metadata": {
        "id": "nKntNNIya_Vj"
      },
      "source": [
        "#extracting only the gait segments for follow-up analysis\n",
        "gait_segments= acc[round_preds==1]"
      ],
      "execution_count": null,
      "outputs": []
    },
    {
      "cell_type": "markdown",
      "metadata": {
        "id": "0dmVakGAf9Cp"
      },
      "source": [
        "# Gait Cycle Segmentation"
      ]
    },
    {
      "cell_type": "code",
      "metadata": {
        "id": "ibQRHft_gCxO"
      },
      "source": [
        "import matplotlib.pyplot as plt\n",
        "from scipy.signal import find_peaks\n",
        "\n",
        "def cycle_seg(data):\n",
        "  fs=50 #sampling rate, in Hz\n",
        "  peaks, _=find_peaks(data, distance=0.8*fs)\n",
        "  threshold=10 #m/s**2\n",
        "  used_peaks=[]\n",
        "  for pks in peaks:\n",
        "    if data[pks]>threshold:\n",
        "      used_peaks.append(pks)  \n",
        "  return torch.tensor(used_peaks)"
      ],
      "execution_count": null,
      "outputs": []
    },
    {
      "cell_type": "code",
      "metadata": {
        "id": "UUGTNK5Ra4Zz"
      },
      "source": [
        "peaks=cycle_seg(gait_segments.cpu())"
      ],
      "execution_count": null,
      "outputs": []
    },
    {
      "cell_type": "code",
      "metadata": {
        "colab": {
          "base_uri": "https://localhost:8080/"
        },
        "id": "Kq97i0SYihtJ",
        "outputId": "a94b7d84-aedd-4c60-f136-7c8c598e92de"
      },
      "source": [
        "peaks"
      ],
      "execution_count": null,
      "outputs": [
        {
          "output_type": "execute_result",
          "data": {
            "text/plain": [
              "tensor([  227,   280,   321,   362,   402,   450,   490,   570,   615,   655,\n",
              "          700,   745,   790,   832,   875,   915,   955,  1000,  1055,  1107,\n",
              "         1156,  1237,  1319,  1386,  1429,  1469,  1509,  1555,  1601,  1644,\n",
              "         1685,  1766,  1815,  1906,  1946,  1987,  2037,  2077,  2119,  2159,\n",
              "         2207,  2247,  2289,  2331,  2382,  3300,  3342,  3415,  3480,  3521,\n",
              "         3581,  3629,  3703,  3761,  3818,  3890,  3978,  4134,  4216,  4320,\n",
              "         4390,  4453,  4529,  4581,  4635,  4688,  4733,  4786,  4838,  4889,\n",
              "         4941,  4993,  5045,  5098,  5152,  5227,  5299,  5360,  5414,  5483,\n",
              "         5539,  5596,  5652,  5711,  5761,  5819,  5870,  5933,  5989,  6044,\n",
              "         6103,  6162,  6222,  7218,  7276,  7330,  7390,  7449,  7507,  7644,\n",
              "         7704,  7754,  7828,  7883,  7937,  7996,  8053,  8102,  8146,  8210,\n",
              "         8271,  8333,  8506,  8551,  8597,  8651,  8723,  8763,  8804,  8848,\n",
              "         8891,  8937,  9011,  9067,  9117,  9165,  9233,  9469,  9536,  9577,\n",
              "         9653,  9717,  9759,  9809, 10003, 10142, 10186, 10229, 10294, 10445,\n",
              "        10525, 10588, 10640, 10695, 10777, 10826, 10907, 10968, 11047, 11122,\n",
              "        11178, 11239, 11283, 11338, 11391, 11445, 11497, 11552, 11592, 11643,\n",
              "        11699, 11755, 11802, 11844, 11913, 11959, 12039, 12090, 12132, 12177,\n",
              "        12227, 12302, 12387, 12447, 12502, 12592, 13194, 13460, 13882, 13943,\n",
              "        13999, 14058, 14114, 14170, 14225, 14281, 14341, 14428, 14490, 14541,\n",
              "        14589, 14654, 14703, 14761, 14810, 14873, 14928, 14982, 15038, 15119,\n",
              "        15205, 15272, 15320, 15374, 15430, 15478, 15518, 15579, 15637, 15690,\n",
              "        15748, 15803, 15868, 16129, 16205, 16286, 16343, 16490, 16551, 16600,\n",
              "        16694, 16809, 16866, 16914, 16959, 17019, 17079, 17407, 17522, 17776,\n",
              "        17839, 17883, 17943, 18008, 18126, 18180, 18223, 18286, 18328, 18394,\n",
              "        18435, 18501, 18542, 18605, 18649, 18717, 18772, 18822, 18872, 18927,\n",
              "        18979, 19034, 19102, 19157, 19202, 19256, 19362, 19430, 19482, 19523,\n",
              "        19580, 19639, 19696, 19756, 19818, 19872, 19932, 19991, 20031, 20086,\n",
              "        20160, 20225, 20266, 20309, 20400, 20550, 21081, 21150, 21205, 21308,\n",
              "        21360, 21411, 21467, 21520, 21575, 21629, 21682, 21736, 21790, 21865,\n",
              "        21905, 21947, 22025, 22096, 22588, 22637, 22788, 22890, 22931, 22986,\n",
              "        23042, 23099, 23167, 23220, 23275, 23327, 23387, 23451, 23516, 23556,\n",
              "        23607, 23650, 23705, 23761, 23819, 23887, 23941, 23995, 24051, 24103,\n",
              "        24160, 24247, 24290, 24349, 24409, 24473, 24531, 24573, 24631, 24689,\n",
              "        24747, 24805, 24862, 24920, 24977, 25033, 25088, 25143, 25200, 25253,\n",
              "        25307, 25386, 25432, 25492, 25654, 25709, 25765, 25823, 25883, 25965,\n",
              "        26045, 26085, 26131, 26185, 26234, 26294, 26358, 26417, 26463, 26644,\n",
              "        26740, 26794, 26842, 26891, 26942, 26992, 27042, 27091, 27201, 27288,\n",
              "        27340, 27384, 27429, 27484, 27538, 27593, 27647, 27702, 27757, 27812,\n",
              "        27863, 27918, 27974, 28028, 28082, 28137, 28192, 28247, 28301, 28452,\n",
              "        28506, 28561, 28616, 28670, 28725, 28780, 28835, 28886, 28941, 28996,\n",
              "        29051, 29106, 29160, 29215, 29270, 29324, 29374, 29431, 29487, 29544,\n",
              "        29599, 29655, 29711, 29767, 29824, 29877, 29924, 30030, 30139, 30194,\n",
              "        30250, 30305, 30360, 30415, 30456, 30512, 30579, 30622, 30708, 30795,\n",
              "        30839, 30893, 30948, 31174, 31224, 31274, 31327, 31378, 31429, 31480,\n",
              "        31528, 31578, 31664, 31759, 31822, 31901, 31948, 31993, 32038, 32098,\n",
              "        32171, 32224, 32273, 32346, 32402, 32444, 32507, 32826, 32917, 32966,\n",
              "        33128, 33190, 33256, 33299, 33382, 33438, 33496, 33553, 33604, 33647,\n",
              "        33696, 33748, 33801, 33851, 33901, 33954, 34004, 34056, 34097, 34148,\n",
              "        34203, 34246, 34286, 34378, 34459, 34608, 34671, 34716, 34797, 34845,\n",
              "        34886, 34927, 34970, 35010, 35059, 35100, 35143, 35206])"
            ]
          },
          "metadata": {
            "tags": []
          },
          "execution_count": 153
        }
      ]
    },
    {
      "cell_type": "code",
      "metadata": {
        "id": "411khmM2iQly"
      },
      "source": [
        ""
      ],
      "execution_count": null,
      "outputs": []
    }
  ]
}